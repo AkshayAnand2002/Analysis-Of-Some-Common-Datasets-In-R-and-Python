{
 "cells": [
  {
   "cell_type": "code",
   "execution_count": 2,
   "id": "09567b3f-26c2-4fd2-a7ce-770ff0367a0c",
   "metadata": {},
   "outputs": [
    {
     "name": "stdout",
     "output_type": "stream",
     "text": [
      "<map object at 0x00000157FD8D0B50>\n",
      "[4, 9, 16, 25]\n"
     ]
    }
   ],
   "source": [
    "first_list=[2,3,4,5]\n",
    "print(map(lambda x: x**2 ,first_list))\n",
    "print(list(map(lambda x: x**2, first_list)))"
   ]
  },
  {
   "cell_type": "code",
   "execution_count": 4,
   "id": "ec295087-8074-47b2-ab0e-748137710059",
   "metadata": {},
   "outputs": [
    {
     "name": "stdout",
     "output_type": "stream",
     "text": [
      "[4, 9, 16, 25]\n"
     ]
    }
   ],
   "source": [
    "def squareit(n):\n",
    "    return n**2\n",
    "print(list(map(squareit,first_list)))"
   ]
  },
  {
   "cell_type": "code",
   "execution_count": 5,
   "id": "b0eafaf9-b97f-44eb-a17b-f9344dad4b51",
   "metadata": {},
   "outputs": [
    {
     "name": "stdout",
     "output_type": "stream",
     "text": [
      "[6, 8, 10, 12]\n"
     ]
    }
   ],
   "source": [
    "sum_list1=[1,2,3,4]\n",
    "sum_list2=[5,6,7,8]\n",
    "print(list(map(lambda x,y : x+y , sum_list1,sum_list2)))"
   ]
  },
  {
   "cell_type": "code",
   "execution_count": 6,
   "id": "08b30a82-396b-4562-a198-a6d19343ff00",
   "metadata": {},
   "outputs": [
    {
     "name": "stdout",
     "output_type": "stream",
     "text": [
      "['Nikola Tesla', 'James Watt', 'Albert Einstein']\n"
     ]
    }
   ],
   "source": [
    "names1=['nikola','james','albert']\n",
    "names2=['tesla','watt','einstein']\n",
    "proper=lambda x,y : x[0].upper()+x[1:]+' '+y[0].upper()+y[1:]\n",
    "print(list(map(proper,names1,names2)))"
   ]
  },
  {
   "cell_type": "code",
   "execution_count": 1,
   "id": "39e9036f-aba0-410a-991f-dd5de5557d8e",
   "metadata": {},
   "outputs": [
    {
     "name": "stdout",
     "output_type": "stream",
     "text": [
      "[3, 6, 9]\n"
     ]
    }
   ],
   "source": [
    "#filter\n",
    "divby3=lambda x: x%3==0\n",
    "my_list=[3,4,5,6,7,8,9]\n",
    "div=filter(divby3,my_list)\n",
    "print(list(div))"
   ]
  },
  {
   "cell_type": "code",
   "execution_count": 2,
   "id": "e4ad187d-7ae5-40b4-9b9b-1c013cbc9bac",
   "metadata": {},
   "outputs": [
    {
     "name": "stdout",
     "output_type": "stream",
     "text": [
      "[4, 5]\n"
     ]
    }
   ],
   "source": [
    "m_list=[1,2,3,4,5]\n",
    "m_filter=lambda x: x>3\n",
    "output=filter(m_filter,m_list)\n",
    "print(list(output))"
   ]
  },
  {
   "cell_type": "code",
   "execution_count": 6,
   "id": "a3b26885-fd53-40e3-8ae9-464df8facf18",
   "metadata": {},
   "outputs": [
    {
     "name": "stdout",
     "output_type": "stream",
     "text": [
      "6\n"
     ]
    }
   ],
   "source": [
    "#Reduce\n",
    "from functools import reduce\n",
    "q=reduce(lambda x,y:x+y,range(1,4))\n",
    "print(q)\n",
    "##ULTIMATELY PRINTS SUM OF ELEMENTS OF LIST I.E.1 ,2 ,3."
   ]
  },
  {
   "cell_type": "code",
   "execution_count": 7,
   "id": "a8263f25-d220-4530-b7db-863746f862f4",
   "metadata": {},
   "outputs": [
    {
     "name": "stdout",
     "output_type": "stream",
     "text": [
      "113\n"
     ]
    }
   ],
   "source": [
    "from functools import reduce\n",
    "q=reduce(lambda x,y:x+y,[47,11,42,13])\n",
    "print(q)\n",
    "###ULTIMATELY PRINTS SUM OF ELEMENTS OF LIST."
   ]
  },
  {
   "cell_type": "code",
   "execution_count": 10,
   "id": "4fea71d2-6329-4497-a175-be14e78b5194",
   "metadata": {},
   "outputs": [
    {
     "name": "stdout",
     "output_type": "stream",
     "text": [
      "988\n"
     ]
    }
   ],
   "source": [
    "LIST_OF_NUMS=[22,45,32,20,87,988,30]\n",
    "print(reduce(lambda x,y: x if x>y else y , LIST_OF_NUMS))\n",
    "###PRINTS LARGEST ELEMENT OF THE LIST."
   ]
  },
  {
   "cell_type": "code",
   "execution_count": 11,
   "id": "e00141c4-95ab-4109-a68a-bbdcc6ec457b",
   "metadata": {},
   "outputs": [
    {
     "name": "stdout",
     "output_type": "stream",
     "text": [
      "[1 2 3 4]\n",
      "[list([1, 2, 3, 4]) list([5, 6, 7])]\n"
     ]
    },
    {
     "name": "stderr",
     "output_type": "stream",
     "text": [
      "C:\\Users\\Dell\\AppData\\Local\\Temp/ipykernel_11228/2987809512.py:4: VisibleDeprecationWarning: Creating an ndarray from ragged nested sequences (which is a list-or-tuple of lists-or-tuples-or ndarrays with different lengths or shapes) is deprecated. If you meant to do this, you must specify 'dtype=object' when creating the ndarray.\n",
      "  array_2=np.array([[1,2,3,4],[5,6,7]])\n"
     ]
    }
   ],
   "source": [
    "import numpy as np\n",
    "array_1=np.array([1,2,3,4])\n",
    "print(array_1)\n",
    "array_2=np.array([[1,2,3,4],[5,6,7]])\n",
    "print(array_2)"
   ]
  },
  {
   "cell_type": "code",
   "execution_count": 14,
   "id": "2c10d7d5-e207-48d3-a0c7-7c0c567bbc90",
   "metadata": {},
   "outputs": [
    {
     "name": "stdout",
     "output_type": "stream",
     "text": [
      "[2 4 5 6 7 9]\n",
      "<class 'numpy.ndarray'>\n"
     ]
    }
   ],
   "source": [
    "d1_array=np.array([2,4,5,6,7,9])\n",
    "print(d1_array)\n",
    "print(type(d1_array))"
   ]
  },
  {
   "cell_type": "code",
   "execution_count": 15,
   "id": "5ed8a155-e6eb-44f4-b3ae-11ed079e0270",
   "metadata": {},
   "outputs": [
    {
     "name": "stdout",
     "output_type": "stream",
     "text": [
      "[[2 3 4]\n",
      " [5 8 7]]\n"
     ]
    }
   ],
   "source": [
    "d2_array=np.array([[2,3,4],[5,8,7]])\n",
    "print(d2_array)"
   ]
  },
  {
   "cell_type": "code",
   "execution_count": 17,
   "id": "bc8c9d64-9161-40b2-9c13-5ee65772e48b",
   "metadata": {},
   "outputs": [
    {
     "name": "stdout",
     "output_type": "stream",
     "text": [
      "[5, 12, 21, 32]\n"
     ]
    }
   ],
   "source": [
    "list_1=[1,2,3,4]\n",
    "list_2=[5,6,7,8]\n",
    "product_list=list(map(lambda x,y: x*y,list_1,list_2))\n",
    "print(product_list)##printing products of corresponding elements of list."
   ]
  },
  {
   "cell_type": "code",
   "execution_count": 21,
   "id": "936305c7-06c2-418f-ae5e-7426ed92f455",
   "metadata": {},
   "outputs": [
    {
     "name": "stdout",
     "output_type": "stream",
     "text": [
      "[ 5 12 21 32]\n",
      "<class 'numpy.ndarray'>\n"
     ]
    }
   ],
   "source": [
    "import numpy as np\n",
    "array_1=np.array([1,2,3,4])\n",
    "array_2=np.array([5,6,7,8])\n",
    "array_3=array_1*array_2\n",
    "print(array_3)##by Numpy\n",
    "print(type(array_3))"
   ]
  },
  {
   "cell_type": "code",
   "execution_count": 23,
   "id": "0469fb7b-5183-40d1-bf4b-ac3d4de70050",
   "metadata": {},
   "outputs": [
    {
     "name": "stdout",
     "output_type": "stream",
     "text": [
      "[1, 4, 9, 16]\n",
      "[ 1  4  9 16]\n"
     ]
    }
   ],
   "source": [
    "list_squared=[i**2 for i in list_1]\n",
    "array_squared=array_1**2\n",
    "print(list_squared)## here commas in output as it is a list.\n",
    "print(array_squared)##here no commas in ouptut as it is an array."
   ]
  },
  {
   "cell_type": "code",
   "execution_count": 24,
   "id": "68174037-f6c2-4cff-8293-f1ed387080bf",
   "metadata": {},
   "outputs": [
    {
     "name": "stdout",
     "output_type": "stream",
     "text": [
      "[2 5 6 7]\n",
      "[4 5 8 9]\n"
     ]
    }
   ],
   "source": [
    "array_from_list=np.array([2,5,6,7])\n",
    "array_from_tuple=np.array([4,5,8,9])\n",
    "print(array_from_list)\n",
    "print(array_from_tuple)"
   ]
  },
  {
   "cell_type": "code",
   "execution_count": 28,
   "id": "6301c0e1-43d5-4fe2-befc-41f014e8c9ab",
   "metadata": {},
   "outputs": [
    {
     "data": {
      "text/plain": [
       "array([[1., 1., 1.],\n",
       "       [1., 1., 1.],\n",
       "       [1., 1., 1.],\n",
       "       [1., 1., 1.],\n",
       "       [1., 1., 1.]])"
      ]
     },
     "execution_count": 28,
     "metadata": {},
     "output_type": "execute_result"
    }
   ],
   "source": [
    "np.ones((5,3))\n",
    "#print(type(np.ones((5,3))))"
   ]
  },
  {
   "cell_type": "code",
   "execution_count": 26,
   "id": "8f060064-99cb-4f07-bd4f-7b360b7f4317",
   "metadata": {},
   "outputs": [
    {
     "data": {
      "text/plain": [
       "array([[0., 0., 0.],\n",
       "       [0., 0., 0.],\n",
       "       [0., 0., 0.],\n",
       "       [0., 0., 0.]])"
      ]
     },
     "execution_count": 26,
     "metadata": {},
     "output_type": "execute_result"
    }
   ],
   "source": [
    "np.zeros((4,3))"
   ]
  },
  {
   "cell_type": "code",
   "execution_count": 29,
   "id": "94b66ebb-4762-423c-b905-df8902dbaad0",
   "metadata": {},
   "outputs": [
    {
     "name": "stderr",
     "output_type": "stream",
     "text": [
      "C:\\Users\\Dell\\AppData\\Local\\Temp/ipykernel_11228/2725301509.py:1: DeprecationWarning: `np.int` is a deprecated alias for the builtin `int`. To silence this warning, use `int` by itself. Doing this will not modify any behavior and is safe. When replacing `np.int`, you may wish to use e.g. `np.int64` or `np.int32` to specify the precision. If you wish to review your current use, check the release note link for additional information.\n",
      "Deprecated in NumPy 1.20; for more details and guidance: https://numpy.org/devdocs/release/1.20.0-notes.html#deprecations\n",
      "  np.ones((5,3),dtype=np.int)\n"
     ]
    },
    {
     "data": {
      "text/plain": [
       "array([[1, 1, 1],\n",
       "       [1, 1, 1],\n",
       "       [1, 1, 1],\n",
       "       [1, 1, 1],\n",
       "       [1, 1, 1]])"
      ]
     },
     "execution_count": 29,
     "metadata": {},
     "output_type": "execute_result"
    }
   ],
   "source": [
    "np.ones((5,3),dtype=np.int)"
   ]
  },
  {
   "cell_type": "code",
   "execution_count": 30,
   "id": "881a5cc4-1fbb-4daa-a7bc-85ed73f39a4d",
   "metadata": {},
   "outputs": [
    {
     "name": "stderr",
     "output_type": "stream",
     "text": [
      "C:\\Users\\Dell\\AppData\\Local\\Temp/ipykernel_11228/2027068723.py:1: DeprecationWarning: `np.int` is a deprecated alias for the builtin `int`. To silence this warning, use `int` by itself. Doing this will not modify any behavior and is safe. When replacing `np.int`, you may wish to use e.g. `np.int64` or `np.int32` to specify the precision. If you wish to review your current use, check the release note link for additional information.\n",
      "Deprecated in NumPy 1.20; for more details and guidance: https://numpy.org/devdocs/release/1.20.0-notes.html#deprecations\n",
      "  np.zeros((4,3),dtype=np.int)\n"
     ]
    },
    {
     "data": {
      "text/plain": [
       "array([[0, 0, 0],\n",
       "       [0, 0, 0],\n",
       "       [0, 0, 0],\n",
       "       [0, 0, 0]])"
      ]
     },
     "execution_count": 30,
     "metadata": {},
     "output_type": "execute_result"
    }
   ],
   "source": [
    "np.zeros((4,3),dtype=np.int)"
   ]
  },
  {
   "cell_type": "code",
   "execution_count": 2,
   "id": "337d971a-5879-4296-b9b3-79314079199d",
   "metadata": {},
   "outputs": [
    {
     "data": {
      "text/plain": [
       "array([[0.21237193, 0.29671984, 0.83526821, 0.61601299],\n",
       "       [0.27687338, 0.62895051, 0.11680293, 0.49157493],\n",
       "       [0.12046319, 0.95517219, 0.82639687, 0.65319419]])"
      ]
     },
     "execution_count": 2,
     "metadata": {},
     "output_type": "execute_result"
    }
   ],
   "source": [
    "import numpy as np\n",
    "np.random.random([3,4])"
   ]
  },
  {
   "cell_type": "code",
   "execution_count": 5,
   "id": "7115c48b-10ac-4607-bfaf-67dbec1adc21",
   "metadata": {},
   "outputs": [
    {
     "name": "stdout",
     "output_type": "stream",
     "text": [
      "[10 15 20 25 30 35 40 45 50 55 60 65 70 75 80 85 90 95]\n"
     ]
    }
   ],
   "source": [
    "numbers=np.arange(10,100,5)\n",
    "print(numbers)"
   ]
  },
  {
   "cell_type": "code",
   "execution_count": 6,
   "id": "d8649b7c-bd81-4f11-927f-3847d9ec107f",
   "metadata": {},
   "outputs": [
    {
     "data": {
      "text/plain": [
       "array([5.        , 5.01010101, 5.02020202, 5.03030303, 5.04040404,\n",
       "       5.05050505, 5.06060606, 5.07070707, 5.08080808, 5.09090909,\n",
       "       5.1010101 , 5.11111111, 5.12121212, 5.13131313, 5.14141414,\n",
       "       5.15151515, 5.16161616, 5.17171717, 5.18181818, 5.19191919,\n",
       "       5.2020202 , 5.21212121, 5.22222222, 5.23232323, 5.24242424,\n",
       "       5.25252525, 5.26262626, 5.27272727, 5.28282828, 5.29292929,\n",
       "       5.3030303 , 5.31313131, 5.32323232, 5.33333333, 5.34343434,\n",
       "       5.35353535, 5.36363636, 5.37373737, 5.38383838, 5.39393939,\n",
       "       5.4040404 , 5.41414141, 5.42424242, 5.43434343, 5.44444444,\n",
       "       5.45454545, 5.46464646, 5.47474747, 5.48484848, 5.49494949,\n",
       "       5.50505051, 5.51515152, 5.52525253, 5.53535354, 5.54545455,\n",
       "       5.55555556, 5.56565657, 5.57575758, 5.58585859, 5.5959596 ,\n",
       "       5.60606061, 5.61616162, 5.62626263, 5.63636364, 5.64646465,\n",
       "       5.65656566, 5.66666667, 5.67676768, 5.68686869, 5.6969697 ,\n",
       "       5.70707071, 5.71717172, 5.72727273, 5.73737374, 5.74747475,\n",
       "       5.75757576, 5.76767677, 5.77777778, 5.78787879, 5.7979798 ,\n",
       "       5.80808081, 5.81818182, 5.82828283, 5.83838384, 5.84848485,\n",
       "       5.85858586, 5.86868687, 5.87878788, 5.88888889, 5.8989899 ,\n",
       "       5.90909091, 5.91919192, 5.92929293, 5.93939394, 5.94949495,\n",
       "       5.95959596, 5.96969697, 5.97979798, 5.98989899, 6.        ])"
      ]
     },
     "execution_count": 6,
     "metadata": {},
     "output_type": "execute_result"
    }
   ],
   "source": [
    "#print 100 numbers between 5 and 6.\n",
    "np.linspace(5,6,100)"
   ]
  },
  {
   "cell_type": "code",
   "execution_count": 7,
   "id": "553ed48c-3c70-409d-b154-f83a60f59c04",
   "metadata": {},
   "outputs": [
    {
     "data": {
      "text/plain": [
       "array([[7, 7, 7],\n",
       "       [7, 7, 7],\n",
       "       [7, 7, 7],\n",
       "       [7, 7, 7]])"
      ]
     },
     "execution_count": 7,
     "metadata": {},
     "output_type": "execute_result"
    }
   ],
   "source": [
    "##creating 4X3 array of 7s using np.full()\n",
    "#the default datatype is int only.\n",
    "np.full((4,3),7)"
   ]
  },
  {
   "cell_type": "code",
   "execution_count": 8,
   "id": "ff6c4faf-bf7f-4b71-9cf6-72b868f22f8c",
   "metadata": {},
   "outputs": [
    {
     "data": {
      "text/plain": [
       "array([0, 1, 2, 0, 1, 2, 0, 1, 2])"
      ]
     },
     "execution_count": 8,
     "metadata": {},
     "output_type": "execute_result"
    }
   ],
   "source": [
    "##np.tile() creates a new array by repeating the given array any number of times you want.\n",
    "#default datatype is int.\n",
    "arr=([0,1,2])\n",
    "np.tile(arr,3)"
   ]
  },
  {
   "cell_type": "code",
   "execution_count": 9,
   "id": "ba63561e-585a-4de7-9336-fe04027f5a4a",
   "metadata": {},
   "outputs": [
    {
     "data": {
      "text/plain": [
       "array([[0, 1, 2, 0, 1, 2],\n",
       "       [0, 1, 2, 0, 1, 2],\n",
       "       [0, 1, 2, 0, 1, 2]])"
      ]
     },
     "execution_count": 9,
     "metadata": {},
     "output_type": "execute_result"
    }
   ],
   "source": [
    "#creating multidimensional array.\n",
    "np.tile(arr,(3,2))"
   ]
  },
  {
   "cell_type": "code",
   "execution_count": 10,
   "id": "1d0c425a-3d0b-4c8a-9873-3531eb04b6b0",
   "metadata": {},
   "outputs": [
    {
     "data": {
      "text/plain": [
       "array([[1, 0, 0],\n",
       "       [0, 1, 0],\n",
       "       [0, 0, 1]])"
      ]
     },
     "execution_count": 10,
     "metadata": {},
     "output_type": "execute_result"
    }
   ],
   "source": [
    "##creating 3X3 identity matrix using np.eye()\n",
    "np.eye(3,dtype=int)"
   ]
  },
  {
   "cell_type": "code",
   "execution_count": 79,
   "id": "6596cf9a-8366-4ff8-a31f-bb91fe539101",
   "metadata": {},
   "outputs": [
    {
     "data": {
      "text/plain": [
       "array([[0, 6, 8, 5],\n",
       "       [6, 6, 4, 1],\n",
       "       [6, 7, 4, 3],\n",
       "       [6, 1, 3, 3]])"
      ]
     },
     "execution_count": 79,
     "metadata": {},
     "output_type": "execute_result"
    }
   ],
   "source": [
    "np.random.randint(0,10,(4,4))##4X4 random array of integers ranging from 0 to 9."
   ]
  },
  {
   "cell_type": "raw",
   "id": "01e78586-3923-4a03-a0ac-0faabc813f5e",
   "metadata": {
    "tags": []
   },
   "source": [
    "rand_array=np.random.random((1000,300))##random 1000X300 array\n",
    "print(rand_array)"
   ]
  },
  {
   "cell_type": "code",
   "execution_count": 80,
   "id": "b4ffd0da-fb96-4648-ab4f-8e90f1a02f17",
   "metadata": {},
   "outputs": [
    {
     "name": "stdout",
     "output_type": "stream",
     "text": [
      "[[0.69876648 0.32391448 0.4928405  ... 0.55836073 0.99972699 0.38860969]\n",
      " [0.29374798 0.70438771 0.28341029 ... 0.39930713 0.55155485 0.54476892]\n",
      " [0.06629505 0.71879272 0.56148644 ... 0.06266883 0.05278077 0.86377738]\n",
      " ...\n",
      " [0.61174276 0.60051426 0.56961432 ... 0.03927002 0.06550821 0.96820226]\n",
      " [0.77813464 0.63576308 0.40488661 ... 0.34215667 0.93914704 0.05061327]\n",
      " [0.73760839 0.16976646 0.76829234 ... 0.99152167 0.9058574  0.38664792]]\n"
     ]
    }
   ],
   "source": [
    "rand_array=np.random.random((1000,300))##random 1000X300 array\n",
    "print(rand_array)"
   ]
  },
  {
   "cell_type": "code",
   "execution_count": 82,
   "id": "9f705566-4486-4fa0-bc8f-f854e22f473e",
   "metadata": {},
   "outputs": [
    {
     "name": "stdout",
     "output_type": "stream",
     "text": [
      "[2.93747981e-01 7.04387713e-01 2.83410285e-01 3.69824915e-01\n",
      " 1.33795582e-03 2.12839412e-01 3.60440753e-01 8.90577965e-01\n",
      " 5.64681835e-02 1.16094900e-01 8.76996207e-01 4.52397196e-01\n",
      " 8.36206679e-01 3.39894080e-01 2.32138040e-01 1.96985703e-01\n",
      " 9.02163824e-01 2.86376773e-01 3.35525077e-01 7.99136649e-02\n",
      " 8.11894760e-01 6.68332264e-02 3.74858046e-01 7.62101212e-01\n",
      " 1.64611962e-01 5.06850879e-02 6.27500640e-01 4.50745991e-01\n",
      " 7.61771594e-01 8.09428759e-01 9.32655550e-01 3.81161893e-01\n",
      " 1.59020369e-01 8.38921378e-01 1.81150688e-01 8.99020729e-01\n",
      " 2.64323080e-01 5.99128757e-01 7.96545353e-01 8.05638365e-01\n",
      " 2.60237973e-01 5.49318101e-01 2.00390548e-01 2.10537687e-01\n",
      " 3.89018155e-01 8.87613316e-01 1.06943718e-01 9.93110977e-01\n",
      " 2.16033846e-01 1.36922837e-01 9.84055074e-01 3.84070244e-01\n",
      " 3.29928260e-01 2.81403494e-01 1.64771635e-01 4.17956902e-01\n",
      " 9.29702569e-01 8.53143748e-01 7.46891243e-01 6.09692994e-01\n",
      " 5.95954912e-01 2.38187537e-01 6.85912890e-01 1.38609366e-01\n",
      " 1.39218036e-01 4.24509693e-01 8.25569268e-01 6.89067912e-01\n",
      " 2.40902978e-01 4.72216557e-01 1.68440543e-01 3.84057642e-01\n",
      " 4.83791937e-01 1.30046585e-02 2.27521929e-01 9.65450832e-01\n",
      " 4.21168915e-01 5.93542762e-01 3.90237818e-01 3.73964938e-01\n",
      " 6.16557100e-01 4.44874970e-01 3.97715247e-01 8.79718748e-01\n",
      " 6.92788326e-01 1.09383054e-01 8.48331515e-01 5.11331307e-01\n",
      " 5.90412454e-01 4.36213274e-01 6.07728695e-01 1.43118098e-02\n",
      " 5.76248419e-01 6.77943324e-01 6.55905903e-01 5.83848164e-01\n",
      " 7.15567169e-01 5.26067936e-01 9.45930775e-01 6.82301649e-01\n",
      " 2.17068492e-01 9.39407942e-01 8.12220067e-01 8.98805324e-01\n",
      " 4.53286299e-01 3.70094729e-01 5.45525869e-01 7.54801943e-01\n",
      " 4.72499675e-02 9.87609361e-02 4.49318730e-01 1.03692010e-01\n",
      " 6.11515525e-01 8.23254485e-01 5.28068784e-02 4.63277107e-01\n",
      " 1.36220981e-01 8.20100927e-01 2.63488749e-01 5.93627803e-01\n",
      " 3.77176581e-01 3.59266633e-01 8.42077662e-01 6.63581063e-01\n",
      " 1.11690449e-01 1.72455113e-01 7.06423018e-02 8.63712815e-02\n",
      " 6.20798695e-01 6.46022778e-01 9.87315981e-01 6.98142142e-01\n",
      " 4.41705237e-01 7.33571250e-01 6.80256484e-01 2.41544429e-01\n",
      " 3.87574162e-01 5.18795209e-01 3.78588335e-01 9.83041175e-01\n",
      " 8.70722121e-01 3.22826738e-01 5.01743958e-01 9.86892364e-01\n",
      " 3.03803340e-01 4.75068419e-01 5.67397845e-01 6.56592857e-01\n",
      " 2.17739278e-02 1.01900487e-01 5.16807708e-01 8.67969223e-02\n",
      " 3.97471978e-04 3.04291176e-01 2.78410642e-01 8.87525335e-01\n",
      " 7.93589348e-01 2.04382011e-01 3.63927987e-01 4.46733674e-01\n",
      " 8.38283648e-01 4.51401987e-01 7.57182967e-01 5.46753767e-01\n",
      " 9.85288299e-01 1.04422118e-01 8.19928123e-01 8.34931077e-01\n",
      " 7.27592006e-01 1.43595325e-01 8.59043866e-01 7.46848299e-01\n",
      " 6.02704493e-01 5.46255213e-01 8.28456374e-01 6.61081331e-01\n",
      " 7.52797836e-01 5.57916751e-01 5.20408807e-01 3.73193820e-01\n",
      " 8.12065329e-01 2.09287823e-01 3.69056585e-01 9.93109251e-01\n",
      " 4.97538867e-01 4.20433259e-01 8.02718323e-01 8.87341914e-02\n",
      " 5.46272848e-01 5.48963560e-01 8.74363229e-01 8.54126561e-01\n",
      " 9.82415273e-01 9.95102848e-01 1.51738975e-01 3.16012509e-01\n",
      " 7.86492512e-02 7.19437696e-01 3.06147975e-01 8.49831810e-01\n",
      " 4.71349683e-01 2.05737786e-01 4.90874589e-01 2.03579169e-01\n",
      " 9.23572521e-01 7.64666147e-01 5.35139789e-01 7.72311778e-02\n",
      " 3.14040816e-01 3.81111674e-01 2.91109827e-02 5.51241301e-01\n",
      " 4.83460172e-01 2.22636241e-01 2.09736777e-01 4.18497632e-01\n",
      " 7.80482324e-01 1.48117516e-01 8.94636713e-01 8.60610429e-01\n",
      " 3.02438838e-01 5.74964285e-01 7.87010211e-01 5.40470073e-01\n",
      " 4.35285070e-01 8.26852787e-01 4.88213490e-01 1.16032617e-01\n",
      " 6.41845647e-01 1.26879924e-01 1.72361139e-01 3.29946147e-01\n",
      " 9.78315142e-01 6.38904424e-01 4.90656997e-02 8.83345298e-01\n",
      " 5.60198550e-01 8.80845656e-01 2.71156926e-01 2.43934030e-01\n",
      " 6.52586672e-01 3.79669462e-01 4.71923585e-01 5.02042490e-01\n",
      " 3.67066548e-01 1.37134725e-01 4.80512725e-01 2.14776513e-01\n",
      " 9.74910699e-01 3.14342725e-01 8.62762048e-01 8.80971022e-01\n",
      " 8.55118554e-01 3.87680346e-01 2.56648836e-01 7.32685281e-01\n",
      " 8.94243875e-01 7.85537359e-03 6.72239309e-01 3.62560705e-01\n",
      " 1.35593882e-01 9.64829372e-01 9.06927490e-01 2.48925374e-01\n",
      " 8.35006512e-01 3.68629728e-01 4.08052468e-01 4.80515161e-01\n",
      " 8.73907614e-01 3.48932939e-01 8.36548926e-01 2.11704585e-01\n",
      " 3.50968500e-01 1.04750574e-01 1.99836931e-01 3.74410814e-01\n",
      " 9.71896197e-01 5.58530529e-01 5.41124939e-01 9.78008045e-01\n",
      " 3.88655348e-01 8.07507889e-01 2.97002755e-01 3.51958687e-01\n",
      " 1.32424710e-01 6.75100035e-01 1.13574833e-01 8.67627775e-01\n",
      " 4.14384699e-01 2.75119589e-01 5.61891080e-01 8.36840850e-01\n",
      " 7.48281641e-01 9.88140309e-01 8.73963886e-01 1.11792725e-03\n",
      " 2.96899788e-01 3.99307134e-01 5.51554845e-01 5.44768921e-01]\n"
     ]
    }
   ],
   "source": [
    "print(rand_array[1,])##printing 2nd row."
   ]
  },
  {
   "cell_type": "code",
   "execution_count": 84,
   "id": "68a74a63-8c32-4451-894e-676d77539780",
   "metadata": {},
   "outputs": [
    {
     "name": "stdout",
     "output_type": "stream",
     "text": [
      "0.49284049522608686\n"
     ]
    }
   ],
   "source": [
    "print(rand_array[0,2])##(0,2) th element printed."
   ]
  },
  {
   "cell_type": "code",
   "execution_count": 86,
   "id": "cd133e1e-1332-429a-bb1f-334f68a70187",
   "metadata": {},
   "outputs": [
    {
     "name": "stdout",
     "output_type": "stream",
     "text": [
      "SHAPE:(1000, 300)\n",
      "dtype:float64\n",
      "dimensions:2\n",
      "itemsize:8\n"
     ]
    }
   ],
   "source": [
    "print(\"SHAPE:{}\".format(rand_array.shape))\n",
    "print(\"dtype:{}\".format(rand_array.dtype))\n",
    "print(\"dimensions:{}\".format(rand_array.ndim))\n",
    "print(\"itemsize:{}\".format(rand_array.itemsize))"
   ]
  },
  {
   "cell_type": "code",
   "execution_count": 95,
   "id": "8b4cb833-0787-488a-b6e0-6f65ee2e327a",
   "metadata": {},
   "outputs": [
    {
     "name": "stdout",
     "output_type": "stream",
     "text": [
      "[0 1 2 3 4 5 6 7 8 9]\n",
      "2\n",
      "[2 5 6]\n",
      "[2 3 4 5 6 7 8 9]\n",
      "[0 1 2]\n",
      "[2 3 4 5 6]\n",
      "[0 2 4 6 8]\n"
     ]
    }
   ],
   "source": [
    "array_1d=np.arange(10)\n",
    "print(array_1d)\n",
    "print(array_1d[2])\n",
    "print(array_1d[[2,5,6]])##gives elements at indices 2,5 and 6\n",
    "print(array_1d[2:])\n",
    "print(array_1d[:3])\n",
    "print(array_1d[2:7])\n",
    "print(array_1d[0::2])"
   ]
  },
  {
   "cell_type": "code",
   "execution_count": 97,
   "id": "b9425f2e-3224-441a-b391-74671f9b0647",
   "metadata": {},
   "outputs": [
    {
     "name": "stdout",
     "output_type": "stream",
     "text": [
      "0\n",
      "1\n",
      "4\n",
      "9\n",
      "16\n",
      "25\n",
      "36\n",
      "49\n",
      "64\n",
      "81\n"
     ]
    }
   ],
   "source": [
    "#iterations are similar to lists.\n",
    "for i in array_1d:\n",
    "    print(i**2)"
   ]
  },
  {
   "cell_type": "code",
   "execution_count": 98,
   "id": "f87228d7-9819-4cc6-8cbc-3aa0caba8d38",
   "metadata": {},
   "outputs": [
    {
     "name": "stdout",
     "output_type": "stream",
     "text": [
      "[[ 2  5  7  5]\n",
      " [ 4  6  8 10]\n",
      " [10 12 15 19]]\n"
     ]
    }
   ],
   "source": [
    "array_2d=np.array([[2,5,7,5],[4,6,8,10],[10,12,15,19]])\n",
    "print(array_2d)"
   ]
  },
  {
   "cell_type": "code",
   "execution_count": 99,
   "id": "591ed2bc-7fa7-4ff5-9f17-58d2242e92d8",
   "metadata": {},
   "outputs": [
    {
     "name": "stdout",
     "output_type": "stream",
     "text": [
      "12\n"
     ]
    }
   ],
   "source": [
    "#print 3rd row 2nd column\n",
    "print(array_2d[2,1])"
   ]
  },
  {
   "cell_type": "code",
   "execution_count": 101,
   "id": "c4f2588b-ced0-46e8-a4d1-b8a5c7558dc2",
   "metadata": {},
   "outputs": [
    {
     "name": "stdout",
     "output_type": "stream",
     "text": [
      "[ 4  6  8 10]\n",
      "<class 'numpy.ndarray'>\n"
     ]
    }
   ],
   "source": [
    "#slicing the 2nd row and all columns.\n",
    "#resultant is 1d array.\n",
    "print(array_2d[1,:])\n",
    "print(type(array_2d[1,:]))"
   ]
  },
  {
   "cell_type": "code",
   "execution_count": 102,
   "id": "bc3dc2a0-ccf2-4428-92ec-70571b1bd089",
   "metadata": {},
   "outputs": [
    {
     "name": "stdout",
     "output_type": "stream",
     "text": [
      "[ 7  8 15]\n"
     ]
    }
   ],
   "source": [
    "#slicing all rows and 3rd column.\n",
    "print(array_2d[:,2])"
   ]
  },
  {
   "cell_type": "code",
   "execution_count": 104,
   "id": "335822ed-771c-4c13-b003-ce63689c708e",
   "metadata": {},
   "outputs": [
    {
     "name": "stdout",
     "output_type": "stream",
     "text": [
      "[[ 2  5  7]\n",
      " [ 4  6  8]\n",
      " [10 12 15]]\n"
     ]
    }
   ],
   "source": [
    "#slicing all rows and the first three columns.\n",
    "print(array_2d[:,:3])"
   ]
  },
  {
   "cell_type": "code",
   "execution_count": 105,
   "id": "cca68a46-8680-427a-a0a1-43a1a6c8f3af",
   "metadata": {},
   "outputs": [
    {
     "name": "stdout",
     "output_type": "stream",
     "text": [
      "[2 5 7 5]\n",
      "[ 4  6  8 10]\n",
      "[10 12 15 19]\n"
     ]
    }
   ],
   "source": [
    "#iterating over 2d arrays\n",
    "for row in array_2d:\n",
    "    print(row)"
   ]
  },
  {
   "cell_type": "code",
   "execution_count": 106,
   "id": "dea9dbc7-cd42-4368-97d9-75a76cb614ef",
   "metadata": {},
   "outputs": [
    {
     "name": "stdout",
     "output_type": "stream",
     "text": [
      "[[[ 0  1  2  3]\n",
      "  [ 4  5  6  7]\n",
      "  [ 8  9 10 11]]\n",
      "\n",
      " [[12 13 14 15]\n",
      "  [16 17 18 19]\n",
      "  [20 21 22 23]]]\n"
     ]
    }
   ],
   "source": [
    "#iterating over 3d arrays: done with respect to first axis.\n",
    "array_3d=np.arange(24).reshape(2,3,4)\n",
    "print(array_3d)"
   ]
  },
  {
   "cell_type": "code",
   "execution_count": 108,
   "id": "eb2905c2-1d6d-499b-b374-03588bb3ec6d",
   "metadata": {},
   "outputs": [
    {
     "name": "stdout",
     "output_type": "stream",
     "text": [
      "[[ 0  1  2  3]\n",
      " [ 4  5  6  7]\n",
      " [ 8  9 10 11]]\n",
      "[[12 13 14 15]\n",
      " [16 17 18 19]\n",
      " [20 21 22 23]]\n"
     ]
    }
   ],
   "source": [
    "for row in array_3d:\n",
    "    print(row)"
   ]
  },
  {
   "cell_type": "code",
   "execution_count": 113,
   "id": "2e620fa4-8dac-428f-ba99-82694ba2439d",
   "metadata": {},
   "outputs": [
    {
     "name": "stdout",
     "output_type": "stream",
     "text": [
      "0.5549709796905518\n",
      "0.014002561569213867\n",
      "The ratio of time taken is 39.63353254669595\n"
     ]
    }
   ],
   "source": [
    "#comparing time taken for computation.\n",
    "list1=[i for i in range(1000000)]\n",
    "list2=[j**2 for j in range(1000000)]\n",
    "import time\n",
    "#list multiplication\n",
    "t0=time.time()\n",
    "product_list=list(map(lambda x,y:x*y,list1,list2))\n",
    "t1=time.time()\n",
    "list_time=t1-t0\n",
    "print(t1-t0)\n",
    "#numpy array multiplication\n",
    "array_1=np.array(list1)\n",
    "array_2=np.array(list2)\n",
    "t0=time.time()\n",
    "array_3=array_1*array_2\n",
    "t1=time.time()\n",
    "numpy_time=t1-t0\n",
    "print(t1-t0)\n",
    "print(\"The ratio of time taken is {}\".format(list_time/numpy_time))\n",
    "#By result we see numpy is an order of magnitude faster than lists."
   ]
  },
  {
   "cell_type": "code",
   "execution_count": 115,
   "id": "693d488f-b033-459d-998e-334a9be98a7f",
   "metadata": {},
   "outputs": [
    {
     "name": "stdout",
     "output_type": "stream",
     "text": [
      "[ 0  1  2  3  4  5  6  7  8  9 10 11]\n"
     ]
    }
   ],
   "source": [
    "some_array0=np.arange(0,12)#1d array \n",
    "print(some_array0)"
   ]
  },
  {
   "cell_type": "code",
   "execution_count": 116,
   "id": "6c1f9802-5b9a-4071-935d-bdbfc008be1b",
   "metadata": {},
   "outputs": [
    {
     "name": "stdout",
     "output_type": "stream",
     "text": [
      "[[ 0  1  2  3]\n",
      " [ 4  5  6  7]\n",
      " [ 8  9 10 11]]\n"
     ]
    }
   ],
   "source": [
    "#reshaping 1d array to 3X4 array.\n",
    "some_array=np.arange(0,12).reshape(3,4)\n",
    "print(some_array)"
   ]
  },
  {
   "cell_type": "code",
   "execution_count": 118,
   "id": "14993e3f-6976-44d1-babd-60985126408e",
   "metadata": {},
   "outputs": [
    {
     "name": "stdout",
     "output_type": "stream",
     "text": [
      "[[0 1]\n",
      " [2 3]]\n",
      "[[0 2]\n",
      " [1 3]]\n"
     ]
    }
   ],
   "source": [
    "arr1=np.arange(0,4).reshape(2,2)\n",
    "print(arr1)\n",
    "print(arr1.T)#transpose of matrix"
   ]
  },
  {
   "cell_type": "code",
   "execution_count": 119,
   "id": "1eafe350-2eb4-4e84-a577-e25faf6ba555",
   "metadata": {},
   "outputs": [
    {
     "data": {
      "text/plain": [
       "array([[ 0,  1,  2,  3,  4,  5],\n",
       "       [ 6,  7,  8,  9, 10, 11]])"
      ]
     },
     "execution_count": 119,
     "metadata": {},
     "output_type": "execute_result"
    }
   ],
   "source": [
    "some_array.reshape(2,6)"
   ]
  },
  {
   "cell_type": "code",
   "execution_count": 120,
   "id": "a4e7b6fa-fe05-47fb-ba3c-f879f786b6c4",
   "metadata": {},
   "outputs": [
    {
     "data": {
      "text/plain": [
       "array([[ 0,  1,  2],\n",
       "       [ 3,  4,  5],\n",
       "       [ 6,  7,  8],\n",
       "       [ 9, 10, 11]])"
      ]
     },
     "execution_count": 120,
     "metadata": {},
     "output_type": "execute_result"
    }
   ],
   "source": [
    "some_array.reshape(4,-1)# -1 means whatever dimension is needed and dimensions are calculated automatically."
   ]
  },
  {
   "cell_type": "code",
   "execution_count": 121,
   "id": "dbf2d5f3-5b35-421a-ad5e-8c5c5dd6d047",
   "metadata": {},
   "outputs": [
    {
     "name": "stdout",
     "output_type": "stream",
     "text": [
      "[[ 0  1  2  3]\n",
      " [ 4  5  6  7]\n",
      " [ 8  9 10 11]]\n",
      "\n",
      "\n",
      "[[ 0  1  2  3]\n",
      " [ 4  5  6  7]\n",
      " [ 8  9 10 11]\n",
      " [12 13 14 15]\n",
      " [16 17 18 19]]\n"
     ]
    }
   ],
   "source": [
    "array_1=np.arange(12).reshape(3,4)\n",
    "array_2=np.arange(20).reshape(5,4)\n",
    "print(array_1)\n",
    "print(\"\\n\")\n",
    "print(array_2)"
   ]
  },
  {
   "cell_type": "code",
   "execution_count": 122,
   "id": "dd891a6d-1dab-4ef6-9bb1-3af6a12fa90d",
   "metadata": {},
   "outputs": [
    {
     "data": {
      "text/plain": [
       "array([[ 0,  1,  2,  3],\n",
       "       [ 4,  5,  6,  7],\n",
       "       [ 8,  9, 10, 11],\n",
       "       [ 0,  1,  2,  3],\n",
       "       [ 4,  5,  6,  7],\n",
       "       [ 8,  9, 10, 11],\n",
       "       [12, 13, 14, 15],\n",
       "       [16, 17, 18, 19]])"
      ]
     },
     "execution_count": 122,
     "metadata": {},
     "output_type": "execute_result"
    }
   ],
   "source": [
    "#for horizontal stacking no. of rows should be same while for verical stacking no. of columns should be same.\n",
    "#above no. of columns are same.so vertical stacking can be done.\n",
    "np.vstack((array_1,array_2))"
   ]
  },
  {
   "cell_type": "code",
   "execution_count": 123,
   "id": "dae9c17a-2168-408b-9534-59b56d6d9e56",
   "metadata": {},
   "outputs": [
    {
     "name": "stdout",
     "output_type": "stream",
     "text": [
      "[[ 0  1  2  3]\n",
      " [ 4  5  6  7]\n",
      " [ 8  9 10 11]]\n",
      "\n",
      "\n",
      "[[ 0  1  2  3  4]\n",
      " [ 5  6  7  8  9]\n",
      " [10 11 12 13 14]]\n"
     ]
    }
   ],
   "source": [
    "array_1=np.arange(12).reshape(3,4)\n",
    "array_2=np.arange(15).reshape(3,5)\n",
    "print(array_1)\n",
    "print(\"\\n\")\n",
    "print(array_2)"
   ]
  },
  {
   "cell_type": "code",
   "execution_count": 125,
   "id": "320871b6-66df-442b-91d5-b0d4ed43d3a7",
   "metadata": {},
   "outputs": [
    {
     "data": {
      "text/plain": [
       "array([[ 0,  1,  2,  3,  0,  1,  2,  3,  4],\n",
       "       [ 4,  5,  6,  7,  5,  6,  7,  8,  9],\n",
       "       [ 8,  9, 10, 11, 10, 11, 12, 13, 14]])"
      ]
     },
     "execution_count": 125,
     "metadata": {},
     "output_type": "execute_result"
    }
   ],
   "source": [
    "np.hstack((array_1,array_2))# as no. of rows are same."
   ]
  },
  {
   "cell_type": "code",
   "execution_count": 127,
   "id": "6bbde2b5-db1b-48c3-a854-8fd54b6e73ab",
   "metadata": {},
   "outputs": [
    {
     "name": "stdout",
     "output_type": "stream",
     "text": [
      "[ 1  2  3  4  5  6  7  8  9 10 11 12 13 14 15 16 17 18 19]\n",
      "\n",
      "\n",
      "[ 0.84147098  0.90929743  0.14112001 -0.7568025  -0.95892427 -0.2794155\n",
      "  0.6569866   0.98935825  0.41211849 -0.54402111 -0.99999021 -0.53657292\n",
      "  0.42016704  0.99060736  0.65028784 -0.28790332 -0.96139749 -0.75098725\n",
      "  0.14987721]\n",
      "\n",
      "\n",
      "[ 0.54030231 -0.41614684 -0.9899925  -0.65364362  0.28366219  0.96017029\n",
      "  0.75390225 -0.14550003 -0.91113026 -0.83907153  0.0044257   0.84385396\n",
      "  0.90744678  0.13673722 -0.75968791 -0.95765948 -0.27516334  0.66031671\n",
      "  0.98870462]\n",
      "\n",
      "\n",
      "[2.71828183e+00 7.38905610e+00 2.00855369e+01 5.45981500e+01\n",
      " 1.48413159e+02 4.03428793e+02 1.09663316e+03 2.98095799e+03\n",
      " 8.10308393e+03 2.20264658e+04 5.98741417e+04 1.62754791e+05\n",
      " 4.42413392e+05 1.20260428e+06 3.26901737e+06 8.88611052e+06\n",
      " 2.41549528e+07 6.56599691e+07 1.78482301e+08]\n",
      "\n",
      "\n",
      "[0.         0.69314718 1.09861229 1.38629436 1.60943791 1.79175947\n",
      " 1.94591015 2.07944154 2.19722458 2.30258509 2.39789527 2.48490665\n",
      " 2.56494936 2.63905733 2.7080502  2.77258872 2.83321334 2.89037176\n",
      " 2.94443898]\n"
     ]
    }
   ],
   "source": [
    "a=np.arange(1,20)\n",
    "print(a)\n",
    "print(\"\\n\")\n",
    "print(np.sin(a))\n",
    "print(\"\\n\")\n",
    "print(np.cos(a))\n",
    "print(\"\\n\")\n",
    "print(np.exp(a))\n",
    "print(\"\\n\")\n",
    "print(np.log(a))"
   ]
  },
  {
   "cell_type": "code",
   "execution_count": 128,
   "id": "838048b9-3c04-4812-a34b-4d1768a0978e",
   "metadata": {},
   "outputs": [
    {
     "name": "stdout",
     "output_type": "stream",
     "text": [
      "[ 1  2  3  4  5  6  7  8  9 10 11 12 13 14 15 16 17 18 19]\n"
     ]
    }
   ],
   "source": [
    "print(a)"
   ]
  },
  {
   "cell_type": "code",
   "execution_count": 130,
   "id": "3ed22151-e4a6-451c-bee6-9bc31e3effe1",
   "metadata": {},
   "outputs": [
    {
     "name": "stdout",
     "output_type": "stream",
     "text": [
      "[0.5, 0.6666666666666666, 0.75, 0.8, 0.8333333333333334, 0.8571428571428571, 0.875, 0.8888888888888888, 0.9, 0.9090909090909091, 0.9166666666666666, 0.9230769230769231, 0.9285714285714286, 0.9333333333333333, 0.9375, 0.9411764705882353, 0.9444444444444444, 0.9473684210526315, 0.95]\n"
     ]
    }
   ],
   "source": [
    "# calculating x/x+1 for each element of array.\n",
    "a_list=[x/(x+1) for x in a]\n",
    "print(a_list)#non-numpy method"
   ]
  },
  {
   "cell_type": "code",
   "execution_count": 131,
   "id": "c1e6c5ef-9206-4f2e-b39d-b0e584dc920b",
   "metadata": {},
   "outputs": [
    {
     "data": {
      "text/plain": [
       "array([0.5       , 0.66666667, 0.75      , 0.8       , 0.83333333,\n",
       "       0.85714286, 0.875     , 0.88888889, 0.9       , 0.90909091,\n",
       "       0.91666667, 0.92307692, 0.92857143, 0.93333333, 0.9375    ,\n",
       "       0.94117647, 0.94444444, 0.94736842, 0.95      ])"
      ]
     },
     "execution_count": 131,
     "metadata": {},
     "output_type": "execute_result"
    }
   ],
   "source": [
    "#The numpy way : vectorise the function, then apply it.\n",
    "f=np.vectorize(lambda x: x/(x+1))\n",
    "f(a)"
   ]
  },
  {
   "cell_type": "code",
   "execution_count": 133,
   "id": "652c4714-3a2a-49ac-be0e-8911faf2a3cc",
   "metadata": {},
   "outputs": [
    {
     "name": "stdout",
     "output_type": "stream",
     "text": [
      "[  1.  12.  23.  34.  45.  56.  67.  78.  89. 100.]\n"
     ]
    },
    {
     "data": {
      "text/plain": [
       "array([0.5       , 0.92307692, 0.95833333, 0.97142857, 0.97826087,\n",
       "       0.98245614, 0.98529412, 0.98734177, 0.98888889, 0.99009901])"
      ]
     },
     "execution_count": 133,
     "metadata": {},
     "output_type": "execute_result"
    }
   ],
   "source": [
    "# apply function on 2d array:applied to each element\n",
    "b=np.linspace(1,100,10)# prints 10 numbers between 1 and 100.\n",
    "print(b)\n",
    "f(b)"
   ]
  },
  {
   "cell_type": "code",
   "execution_count": 136,
   "id": "7aa04fa2-ecc6-4fdc-9896-8aa8b97046e0",
   "metadata": {},
   "outputs": [],
   "source": [
    "# advantage is when we vectorize a function one we can apply it as many times as possible."
   ]
  },
  {
   "cell_type": "code",
   "execution_count": 143,
   "id": "acdc47ab-0ea1-4e01-8f7f-0c977cbabfeb",
   "metadata": {},
   "outputs": [],
   "source": [
    "##np.linalg---> to apply common linear algebra.\n",
    "##np.linalg.inv---->inverse of matrix.\n",
    "##np.linalg.det---->determinant of matrix\n",
    "##np.linalg.eig---->eigen values of a matrix"
   ]
  },
  {
   "cell_type": "code",
   "execution_count": 141,
   "id": "43cb61f8-4581-40b8-8553-6e789d663b08",
   "metadata": {},
   "outputs": [
    {
     "name": "stdout",
     "output_type": "stream",
     "text": [
      "[[1 2 3]\n",
      " [4 5 6]\n",
      " [7 8 9]]\n",
      "[[ 1  2  3  4]\n",
      " [ 5  6  7  8]\n",
      " [ 9 10 11 12]]\n"
     ]
    }
   ],
   "source": [
    "a=np.arange(1,10).reshape(3,3)\n",
    "b=np.arange(1,13).reshape(3,4)\n",
    "print(a)\n",
    "print(b)"
   ]
  },
  {
   "cell_type": "code",
   "execution_count": 142,
   "id": "a7e511c5-544a-4567-b2c1-8409d4a99239",
   "metadata": {},
   "outputs": [
    {
     "data": {
      "text/plain": [
       "array([[-4.50359963e+15,  9.00719925e+15, -4.50359963e+15],\n",
       "       [ 9.00719925e+15, -1.80143985e+16,  9.00719925e+15],\n",
       "       [-4.50359963e+15,  9.00719925e+15, -4.50359963e+15]])"
      ]
     },
     "execution_count": 142,
     "metadata": {},
     "output_type": "execute_result"
    }
   ],
   "source": [
    "np.linalg.inv(a)"
   ]
  },
  {
   "cell_type": "code",
   "execution_count": 144,
   "id": "95daee6f-d4b6-4ff5-b18a-cc92c0be0372",
   "metadata": {},
   "outputs": [
    {
     "data": {
      "text/plain": [
       "6.66133814775094e-16"
      ]
     },
     "execution_count": 144,
     "metadata": {},
     "output_type": "execute_result"
    }
   ],
   "source": [
    "np.linalg.det(a)"
   ]
  },
  {
   "cell_type": "code",
   "execution_count": 145,
   "id": "7bbe182a-c7e2-4568-bb57-a040a6c552d2",
   "metadata": {},
   "outputs": [
    {
     "data": {
      "text/plain": [
       "(array([ 1.61168440e+01, -1.11684397e+00, -4.22209278e-16]),\n",
       " array([[-0.23197069, -0.78583024,  0.40824829],\n",
       "        [-0.52532209, -0.08675134, -0.81649658],\n",
       "        [-0.8186735 ,  0.61232756,  0.40824829]]))"
      ]
     },
     "execution_count": 145,
     "metadata": {},
     "output_type": "execute_result"
    }
   ],
   "source": [
    "np.linalg.eig(a)"
   ]
  },
  {
   "cell_type": "code",
   "execution_count": 148,
   "id": "cb1c2637-1f99-401f-9f62-cf15e3d2f450",
   "metadata": {},
   "outputs": [
    {
     "name": "stdout",
     "output_type": "stream",
     "text": [
      "0    2\n",
      "1    4\n",
      "2    5\n",
      "3    6\n",
      "4    9\n",
      "dtype: int64\n",
      "<class 'pandas.core.series.Series'>\n"
     ]
    }
   ],
   "source": [
    "import pandas as pd\n",
    "import numpy as np\n",
    "s=pd.Series([2,4,5,6,9])#numeric panda series.\n",
    "print(s)\n",
    "print(type(s))"
   ]
  },
  {
   "cell_type": "code",
   "execution_count": 152,
   "id": "c2da3ff0-867c-4d52-9f0d-2e07fccc1832",
   "metadata": {},
   "outputs": [
    {
     "name": "stdout",
     "output_type": "stream",
     "text": [
      "0     a\n",
      "1     b\n",
      "2    af\n",
      "dtype: object\n",
      "0    1\n",
      "1    2\n",
      "2    3\n",
      "3    4\n",
      "4    5\n",
      "5    6\n",
      "dtype: int64\n"
     ]
    }
   ],
   "source": [
    "char_species=pd.Series(['a','b','af'])#creating a series of characters\n",
    "char_species\n",
    "print(char_species)\n",
    "num=pd.Series([1,2,3,4,5,6])\n",
    "print(num)"
   ]
  },
  {
   "cell_type": "code",
   "execution_count": 155,
   "id": "6bb9b3b6-ee0b-4de5-864d-65ab53722f15",
   "metadata": {},
   "outputs": [
    {
     "name": "stdout",
     "output_type": "stream",
     "text": [
      "<class 'pandas.core.indexes.datetimes.DatetimeIndex'>\n",
      "DatetimeIndex(['2021-11-09', '2021-11-10', '2021-11-11', '2021-11-12',\n",
      "               '2021-11-13', '2021-11-14', '2021-11-15', '2021-11-16',\n",
      "               '2021-11-17', '2021-11-18', '2021-11-19', '2021-11-20',\n",
      "               '2021-11-21', '2021-11-22', '2021-11-23', '2021-11-24',\n",
      "               '2021-11-25', '2021-11-26', '2021-11-27', '2021-11-28',\n",
      "               '2021-11-29', '2021-11-30', '2021-12-01', '2021-12-02',\n",
      "               '2021-12-03', '2021-12-04', '2021-12-05', '2021-12-06',\n",
      "               '2021-12-07', '2021-12-08', '2021-12-09', '2021-12-10',\n",
      "               '2021-12-11', '2021-12-12'],\n",
      "              dtype='datetime64[ns]', freq='D')\n"
     ]
    }
   ],
   "source": [
    "date_series=pd.date_range(start='11-09-2021',end='12-12-2021')# creating series of type datetime\n",
    "print(type(date_series))\n",
    "print(date_series)\n",
    "# output is of form \"year-month-date\"."
   ]
  },
  {
   "cell_type": "code",
   "execution_count": 161,
   "id": "6aa28c40-2620-4406-8395-55c0fc5f9949",
   "metadata": {},
   "outputs": [
    {
     "name": "stdout",
     "output_type": "stream",
     "text": [
      "0    2\n",
      "1    4\n",
      "2    5\n",
      "3    6\n",
      "4    9\n",
      "dtype: int64\n",
      "<class 'pandas.core.series.Series'>\n",
      "6\n",
      "2    5\n",
      "3    6\n",
      "4    9\n",
      "dtype: int64\n",
      "2    3\n",
      "3    4\n",
      "4    5\n",
      "5    6\n",
      "dtype: int64\n",
      "0    2\n",
      "1    4\n",
      "2    5\n",
      "3    6\n",
      "dtype: int64\n"
     ]
    }
   ],
   "source": [
    "print(s)\n",
    "print(type(s))\n",
    "print(s[3])\n",
    "print(s[2:])\n",
    "print(num[2:])\n",
    "print(s[0:4])"
   ]
  },
  {
   "cell_type": "code",
   "execution_count": 163,
   "id": "5ebcc58f-6532-4a58-a028-0d10019ef395",
   "metadata": {},
   "outputs": [
    {
     "data": {
      "text/plain": [
       "a    0\n",
       "b    1\n",
       "c    2\n",
       "dtype: int64"
      ]
     },
     "execution_count": 163,
     "metadata": {},
     "output_type": "execute_result"
    }
   ],
   "source": [
    "pd.Series([0,1,2],index=['a','b','c'])"
   ]
  },
  {
   "cell_type": "code",
   "execution_count": 165,
   "id": "44a37051-61f7-470c-bcef-4a989198b662",
   "metadata": {},
   "outputs": [
    {
     "data": {
      "text/plain": [
       "0     0\n",
       "1     1\n",
       "2     4\n",
       "3     9\n",
       "4    16\n",
       "5    25\n",
       "6    36\n",
       "7    49\n",
       "8    64\n",
       "9    81\n",
       "dtype: int32"
      ]
     },
     "execution_count": 165,
     "metadata": {},
     "output_type": "execute_result"
    }
   ],
   "source": [
    "pd.Series(np.array(range(0,10))**2,index=range(0,10))"
   ]
  },
  {
   "cell_type": "code",
   "execution_count": 168,
   "id": "494cc707-da0b-4373-b37e-2777f302cdb2",
   "metadata": {},
   "outputs": [
    {
     "data": {
      "text/html": [
       "<div>\n",
       "<style scoped>\n",
       "    .dataframe tbody tr th:only-of-type {\n",
       "        vertical-align: middle;\n",
       "    }\n",
       "\n",
       "    .dataframe tbody tr th {\n",
       "        vertical-align: top;\n",
       "    }\n",
       "\n",
       "    .dataframe thead th {\n",
       "        text-align: right;\n",
       "    }\n",
       "</style>\n",
       "<table border=\"1\" class=\"dataframe\">\n",
       "  <thead>\n",
       "    <tr style=\"text-align: right;\">\n",
       "      <th></th>\n",
       "      <th>name</th>\n",
       "      <th>age</th>\n",
       "      <th>occupation</th>\n",
       "    </tr>\n",
       "  </thead>\n",
       "  <tbody>\n",
       "    <tr>\n",
       "      <th>0</th>\n",
       "      <td>abc</td>\n",
       "      <td>22</td>\n",
       "      <td>engineer</td>\n",
       "    </tr>\n",
       "    <tr>\n",
       "      <th>1</th>\n",
       "      <td>def</td>\n",
       "      <td>24</td>\n",
       "      <td>data analyst</td>\n",
       "    </tr>\n",
       "    <tr>\n",
       "      <th>2</th>\n",
       "      <td>ghi</td>\n",
       "      <td>27</td>\n",
       "      <td>doctor</td>\n",
       "    </tr>\n",
       "  </tbody>\n",
       "</table>\n",
       "</div>"
      ],
      "text/plain": [
       "  name  age    occupation\n",
       "0  abc   22      engineer\n",
       "1  def   24  data analyst\n",
       "2  ghi   27        doctor"
      ]
     },
     "execution_count": 168,
     "metadata": {},
     "output_type": "execute_result"
    }
   ],
   "source": [
    "df=pd.DataFrame({'name':['abc','def','ghi'],\n",
    "                 'age':[22,24,27],\n",
    "                 'occupation':['engineer','data analyst','doctor']})\n",
    "df        "
   ]
  },
  {
   "cell_type": "code",
   "execution_count": 169,
   "id": "a0534781-5046-4560-98ff-f5ac479eba4b",
   "metadata": {},
   "outputs": [],
   "source": [
    "import numpy as np\n",
    "import pandas as pd"
   ]
  },
  {
   "cell_type": "code",
   "execution_count": 170,
   "id": "405b379b-9181-4086-a92b-541511e91588",
   "metadata": {},
   "outputs": [],
   "source": [
    "marketfact_df=pd.read_csv(\"C:/RFILES/market_fact.csv\")"
   ]
  },
  {
   "cell_type": "code",
   "execution_count": 172,
   "id": "b65a9c39-53a3-4ef9-8e24-8204762aecdb",
   "metadata": {},
   "outputs": [
    {
     "data": {
      "text/html": [
       "<div>\n",
       "<style scoped>\n",
       "    .dataframe tbody tr th:only-of-type {\n",
       "        vertical-align: middle;\n",
       "    }\n",
       "\n",
       "    .dataframe tbody tr th {\n",
       "        vertical-align: top;\n",
       "    }\n",
       "\n",
       "    .dataframe thead th {\n",
       "        text-align: right;\n",
       "    }\n",
       "</style>\n",
       "<table border=\"1\" class=\"dataframe\">\n",
       "  <thead>\n",
       "    <tr style=\"text-align: right;\">\n",
       "      <th></th>\n",
       "      <th>Ord_id</th>\n",
       "      <th>Prod_id</th>\n",
       "      <th>Ship_id</th>\n",
       "      <th>Cust_id</th>\n",
       "      <th>Sales</th>\n",
       "      <th>Discount</th>\n",
       "      <th>Order_Quantity</th>\n",
       "      <th>Profit</th>\n",
       "      <th>Shipping_Cost</th>\n",
       "      <th>Product_Base_Margin</th>\n",
       "    </tr>\n",
       "  </thead>\n",
       "  <tbody>\n",
       "    <tr>\n",
       "      <th>0</th>\n",
       "      <td>Ord_5446</td>\n",
       "      <td>Prod_16</td>\n",
       "      <td>SHP_7609</td>\n",
       "      <td>Cust_1818</td>\n",
       "      <td>136.8100</td>\n",
       "      <td>0.01</td>\n",
       "      <td>23</td>\n",
       "      <td>-30.51</td>\n",
       "      <td>3.60</td>\n",
       "      <td>0.56</td>\n",
       "    </tr>\n",
       "    <tr>\n",
       "      <th>1</th>\n",
       "      <td>Ord_5406</td>\n",
       "      <td>Prod_13</td>\n",
       "      <td>SHP_7549</td>\n",
       "      <td>Cust_1818</td>\n",
       "      <td>42.2700</td>\n",
       "      <td>0.01</td>\n",
       "      <td>13</td>\n",
       "      <td>4.56</td>\n",
       "      <td>0.93</td>\n",
       "      <td>0.54</td>\n",
       "    </tr>\n",
       "    <tr>\n",
       "      <th>2</th>\n",
       "      <td>Ord_5446</td>\n",
       "      <td>Prod_4</td>\n",
       "      <td>SHP_7610</td>\n",
       "      <td>Cust_1818</td>\n",
       "      <td>4701.6900</td>\n",
       "      <td>0.00</td>\n",
       "      <td>26</td>\n",
       "      <td>1148.90</td>\n",
       "      <td>2.50</td>\n",
       "      <td>0.59</td>\n",
       "    </tr>\n",
       "    <tr>\n",
       "      <th>3</th>\n",
       "      <td>Ord_5456</td>\n",
       "      <td>Prod_6</td>\n",
       "      <td>SHP_7625</td>\n",
       "      <td>Cust_1818</td>\n",
       "      <td>2337.8900</td>\n",
       "      <td>0.09</td>\n",
       "      <td>43</td>\n",
       "      <td>729.34</td>\n",
       "      <td>14.30</td>\n",
       "      <td>0.37</td>\n",
       "    </tr>\n",
       "    <tr>\n",
       "      <th>4</th>\n",
       "      <td>Ord_5485</td>\n",
       "      <td>Prod_17</td>\n",
       "      <td>SHP_7664</td>\n",
       "      <td>Cust_1818</td>\n",
       "      <td>4233.1500</td>\n",
       "      <td>0.08</td>\n",
       "      <td>35</td>\n",
       "      <td>1219.87</td>\n",
       "      <td>26.30</td>\n",
       "      <td>0.38</td>\n",
       "    </tr>\n",
       "    <tr>\n",
       "      <th>...</th>\n",
       "      <td>...</td>\n",
       "      <td>...</td>\n",
       "      <td>...</td>\n",
       "      <td>...</td>\n",
       "      <td>...</td>\n",
       "      <td>...</td>\n",
       "      <td>...</td>\n",
       "      <td>...</td>\n",
       "      <td>...</td>\n",
       "      <td>...</td>\n",
       "    </tr>\n",
       "    <tr>\n",
       "      <th>8394</th>\n",
       "      <td>Ord_5353</td>\n",
       "      <td>Prod_4</td>\n",
       "      <td>SHP_7479</td>\n",
       "      <td>Cust_1798</td>\n",
       "      <td>2841.4395</td>\n",
       "      <td>0.08</td>\n",
       "      <td>28</td>\n",
       "      <td>374.63</td>\n",
       "      <td>7.69</td>\n",
       "      <td>0.59</td>\n",
       "    </tr>\n",
       "    <tr>\n",
       "      <th>8395</th>\n",
       "      <td>Ord_5411</td>\n",
       "      <td>Prod_6</td>\n",
       "      <td>SHP_7555</td>\n",
       "      <td>Cust_1798</td>\n",
       "      <td>127.1600</td>\n",
       "      <td>0.10</td>\n",
       "      <td>20</td>\n",
       "      <td>-74.03</td>\n",
       "      <td>6.92</td>\n",
       "      <td>0.37</td>\n",
       "    </tr>\n",
       "    <tr>\n",
       "      <th>8396</th>\n",
       "      <td>Ord_5388</td>\n",
       "      <td>Prod_6</td>\n",
       "      <td>SHP_7524</td>\n",
       "      <td>Cust_1798</td>\n",
       "      <td>243.0500</td>\n",
       "      <td>0.02</td>\n",
       "      <td>39</td>\n",
       "      <td>-70.85</td>\n",
       "      <td>5.35</td>\n",
       "      <td>0.40</td>\n",
       "    </tr>\n",
       "    <tr>\n",
       "      <th>8397</th>\n",
       "      <td>Ord_5348</td>\n",
       "      <td>Prod_15</td>\n",
       "      <td>SHP_7469</td>\n",
       "      <td>Cust_1798</td>\n",
       "      <td>3872.8700</td>\n",
       "      <td>0.03</td>\n",
       "      <td>23</td>\n",
       "      <td>565.34</td>\n",
       "      <td>30.00</td>\n",
       "      <td>0.62</td>\n",
       "    </tr>\n",
       "    <tr>\n",
       "      <th>8398</th>\n",
       "      <td>Ord_5459</td>\n",
       "      <td>Prod_6</td>\n",
       "      <td>SHP_7628</td>\n",
       "      <td>Cust_1798</td>\n",
       "      <td>603.6900</td>\n",
       "      <td>0.00</td>\n",
       "      <td>47</td>\n",
       "      <td>131.39</td>\n",
       "      <td>4.86</td>\n",
       "      <td>0.38</td>\n",
       "    </tr>\n",
       "  </tbody>\n",
       "</table>\n",
       "<p>8399 rows × 10 columns</p>\n",
       "</div>"
      ],
      "text/plain": [
       "        Ord_id  Prod_id   Ship_id    Cust_id      Sales  Discount  \\\n",
       "0     Ord_5446  Prod_16  SHP_7609  Cust_1818   136.8100      0.01   \n",
       "1     Ord_5406  Prod_13  SHP_7549  Cust_1818    42.2700      0.01   \n",
       "2     Ord_5446   Prod_4  SHP_7610  Cust_1818  4701.6900      0.00   \n",
       "3     Ord_5456   Prod_6  SHP_7625  Cust_1818  2337.8900      0.09   \n",
       "4     Ord_5485  Prod_17  SHP_7664  Cust_1818  4233.1500      0.08   \n",
       "...        ...      ...       ...        ...        ...       ...   \n",
       "8394  Ord_5353   Prod_4  SHP_7479  Cust_1798  2841.4395      0.08   \n",
       "8395  Ord_5411   Prod_6  SHP_7555  Cust_1798   127.1600      0.10   \n",
       "8396  Ord_5388   Prod_6  SHP_7524  Cust_1798   243.0500      0.02   \n",
       "8397  Ord_5348  Prod_15  SHP_7469  Cust_1798  3872.8700      0.03   \n",
       "8398  Ord_5459   Prod_6  SHP_7628  Cust_1798   603.6900      0.00   \n",
       "\n",
       "      Order_Quantity   Profit  Shipping_Cost  Product_Base_Margin  \n",
       "0                 23   -30.51           3.60                 0.56  \n",
       "1                 13     4.56           0.93                 0.54  \n",
       "2                 26  1148.90           2.50                 0.59  \n",
       "3                 43   729.34          14.30                 0.37  \n",
       "4                 35  1219.87          26.30                 0.38  \n",
       "...              ...      ...            ...                  ...  \n",
       "8394              28   374.63           7.69                 0.59  \n",
       "8395              20   -74.03           6.92                 0.37  \n",
       "8396              39   -70.85           5.35                 0.40  \n",
       "8397              23   565.34          30.00                 0.62  \n",
       "8398              47   131.39           4.86                 0.38  \n",
       "\n",
       "[8399 rows x 10 columns]"
      ]
     },
     "execution_count": 172,
     "metadata": {},
     "output_type": "execute_result"
    }
   ],
   "source": [
    "marketfact_df"
   ]
  },
  {
   "cell_type": "code",
   "execution_count": 173,
   "id": "6de0b9a3-037c-4bb9-b86c-cff10d2f72d0",
   "metadata": {},
   "outputs": [
    {
     "data": {
      "text/plain": [
       "pandas.core.frame.DataFrame"
      ]
     },
     "execution_count": 173,
     "metadata": {},
     "output_type": "execute_result"
    }
   ],
   "source": [
    "type(marketfact_df)"
   ]
  },
  {
   "cell_type": "code",
   "execution_count": 175,
   "id": "18f12795-6b43-48fc-872e-af358e963b8b",
   "metadata": {},
   "outputs": [
    {
     "data": {
      "text/html": [
       "<div>\n",
       "<style scoped>\n",
       "    .dataframe tbody tr th:only-of-type {\n",
       "        vertical-align: middle;\n",
       "    }\n",
       "\n",
       "    .dataframe tbody tr th {\n",
       "        vertical-align: top;\n",
       "    }\n",
       "\n",
       "    .dataframe thead th {\n",
       "        text-align: right;\n",
       "    }\n",
       "</style>\n",
       "<table border=\"1\" class=\"dataframe\">\n",
       "  <thead>\n",
       "    <tr style=\"text-align: right;\">\n",
       "      <th></th>\n",
       "      <th>Ord_id</th>\n",
       "      <th>Prod_id</th>\n",
       "      <th>Ship_id</th>\n",
       "      <th>Cust_id</th>\n",
       "      <th>Sales</th>\n",
       "      <th>Discount</th>\n",
       "      <th>Order_Quantity</th>\n",
       "      <th>Profit</th>\n",
       "      <th>Shipping_Cost</th>\n",
       "      <th>Product_Base_Margin</th>\n",
       "    </tr>\n",
       "  </thead>\n",
       "  <tbody>\n",
       "    <tr>\n",
       "      <th>0</th>\n",
       "      <td>Ord_5446</td>\n",
       "      <td>Prod_16</td>\n",
       "      <td>SHP_7609</td>\n",
       "      <td>Cust_1818</td>\n",
       "      <td>136.81</td>\n",
       "      <td>0.01</td>\n",
       "      <td>23</td>\n",
       "      <td>-30.51</td>\n",
       "      <td>3.60</td>\n",
       "      <td>0.56</td>\n",
       "    </tr>\n",
       "    <tr>\n",
       "      <th>1</th>\n",
       "      <td>Ord_5406</td>\n",
       "      <td>Prod_13</td>\n",
       "      <td>SHP_7549</td>\n",
       "      <td>Cust_1818</td>\n",
       "      <td>42.27</td>\n",
       "      <td>0.01</td>\n",
       "      <td>13</td>\n",
       "      <td>4.56</td>\n",
       "      <td>0.93</td>\n",
       "      <td>0.54</td>\n",
       "    </tr>\n",
       "    <tr>\n",
       "      <th>2</th>\n",
       "      <td>Ord_5446</td>\n",
       "      <td>Prod_4</td>\n",
       "      <td>SHP_7610</td>\n",
       "      <td>Cust_1818</td>\n",
       "      <td>4701.69</td>\n",
       "      <td>0.00</td>\n",
       "      <td>26</td>\n",
       "      <td>1148.90</td>\n",
       "      <td>2.50</td>\n",
       "      <td>0.59</td>\n",
       "    </tr>\n",
       "    <tr>\n",
       "      <th>3</th>\n",
       "      <td>Ord_5456</td>\n",
       "      <td>Prod_6</td>\n",
       "      <td>SHP_7625</td>\n",
       "      <td>Cust_1818</td>\n",
       "      <td>2337.89</td>\n",
       "      <td>0.09</td>\n",
       "      <td>43</td>\n",
       "      <td>729.34</td>\n",
       "      <td>14.30</td>\n",
       "      <td>0.37</td>\n",
       "    </tr>\n",
       "    <tr>\n",
       "      <th>4</th>\n",
       "      <td>Ord_5485</td>\n",
       "      <td>Prod_17</td>\n",
       "      <td>SHP_7664</td>\n",
       "      <td>Cust_1818</td>\n",
       "      <td>4233.15</td>\n",
       "      <td>0.08</td>\n",
       "      <td>35</td>\n",
       "      <td>1219.87</td>\n",
       "      <td>26.30</td>\n",
       "      <td>0.38</td>\n",
       "    </tr>\n",
       "  </tbody>\n",
       "</table>\n",
       "</div>"
      ],
      "text/plain": [
       "     Ord_id  Prod_id   Ship_id    Cust_id    Sales  Discount  Order_Quantity  \\\n",
       "0  Ord_5446  Prod_16  SHP_7609  Cust_1818   136.81      0.01              23   \n",
       "1  Ord_5406  Prod_13  SHP_7549  Cust_1818    42.27      0.01              13   \n",
       "2  Ord_5446   Prod_4  SHP_7610  Cust_1818  4701.69      0.00              26   \n",
       "3  Ord_5456   Prod_6  SHP_7625  Cust_1818  2337.89      0.09              43   \n",
       "4  Ord_5485  Prod_17  SHP_7664  Cust_1818  4233.15      0.08              35   \n",
       "\n",
       "    Profit  Shipping_Cost  Product_Base_Margin  \n",
       "0   -30.51           3.60                 0.56  \n",
       "1     4.56           0.93                 0.54  \n",
       "2  1148.90           2.50                 0.59  \n",
       "3   729.34          14.30                 0.37  \n",
       "4  1219.87          26.30                 0.38  "
      ]
     },
     "execution_count": 175,
     "metadata": {},
     "output_type": "execute_result"
    }
   ],
   "source": [
    "marketfact_df.head()#top 5 rows."
   ]
  },
  {
   "cell_type": "code",
   "execution_count": 177,
   "id": "9da73155-4339-494a-88c3-11a14451a4b7",
   "metadata": {},
   "outputs": [
    {
     "data": {
      "text/html": [
       "<div>\n",
       "<style scoped>\n",
       "    .dataframe tbody tr th:only-of-type {\n",
       "        vertical-align: middle;\n",
       "    }\n",
       "\n",
       "    .dataframe tbody tr th {\n",
       "        vertical-align: top;\n",
       "    }\n",
       "\n",
       "    .dataframe thead th {\n",
       "        text-align: right;\n",
       "    }\n",
       "</style>\n",
       "<table border=\"1\" class=\"dataframe\">\n",
       "  <thead>\n",
       "    <tr style=\"text-align: right;\">\n",
       "      <th></th>\n",
       "      <th>Ord_id</th>\n",
       "      <th>Prod_id</th>\n",
       "      <th>Ship_id</th>\n",
       "      <th>Cust_id</th>\n",
       "      <th>Sales</th>\n",
       "      <th>Discount</th>\n",
       "      <th>Order_Quantity</th>\n",
       "      <th>Profit</th>\n",
       "      <th>Shipping_Cost</th>\n",
       "      <th>Product_Base_Margin</th>\n",
       "    </tr>\n",
       "  </thead>\n",
       "  <tbody>\n",
       "    <tr>\n",
       "      <th>8394</th>\n",
       "      <td>Ord_5353</td>\n",
       "      <td>Prod_4</td>\n",
       "      <td>SHP_7479</td>\n",
       "      <td>Cust_1798</td>\n",
       "      <td>2841.4395</td>\n",
       "      <td>0.08</td>\n",
       "      <td>28</td>\n",
       "      <td>374.63</td>\n",
       "      <td>7.69</td>\n",
       "      <td>0.59</td>\n",
       "    </tr>\n",
       "    <tr>\n",
       "      <th>8395</th>\n",
       "      <td>Ord_5411</td>\n",
       "      <td>Prod_6</td>\n",
       "      <td>SHP_7555</td>\n",
       "      <td>Cust_1798</td>\n",
       "      <td>127.1600</td>\n",
       "      <td>0.10</td>\n",
       "      <td>20</td>\n",
       "      <td>-74.03</td>\n",
       "      <td>6.92</td>\n",
       "      <td>0.37</td>\n",
       "    </tr>\n",
       "    <tr>\n",
       "      <th>8396</th>\n",
       "      <td>Ord_5388</td>\n",
       "      <td>Prod_6</td>\n",
       "      <td>SHP_7524</td>\n",
       "      <td>Cust_1798</td>\n",
       "      <td>243.0500</td>\n",
       "      <td>0.02</td>\n",
       "      <td>39</td>\n",
       "      <td>-70.85</td>\n",
       "      <td>5.35</td>\n",
       "      <td>0.40</td>\n",
       "    </tr>\n",
       "    <tr>\n",
       "      <th>8397</th>\n",
       "      <td>Ord_5348</td>\n",
       "      <td>Prod_15</td>\n",
       "      <td>SHP_7469</td>\n",
       "      <td>Cust_1798</td>\n",
       "      <td>3872.8700</td>\n",
       "      <td>0.03</td>\n",
       "      <td>23</td>\n",
       "      <td>565.34</td>\n",
       "      <td>30.00</td>\n",
       "      <td>0.62</td>\n",
       "    </tr>\n",
       "    <tr>\n",
       "      <th>8398</th>\n",
       "      <td>Ord_5459</td>\n",
       "      <td>Prod_6</td>\n",
       "      <td>SHP_7628</td>\n",
       "      <td>Cust_1798</td>\n",
       "      <td>603.6900</td>\n",
       "      <td>0.00</td>\n",
       "      <td>47</td>\n",
       "      <td>131.39</td>\n",
       "      <td>4.86</td>\n",
       "      <td>0.38</td>\n",
       "    </tr>\n",
       "  </tbody>\n",
       "</table>\n",
       "</div>"
      ],
      "text/plain": [
       "        Ord_id  Prod_id   Ship_id    Cust_id      Sales  Discount  \\\n",
       "8394  Ord_5353   Prod_4  SHP_7479  Cust_1798  2841.4395      0.08   \n",
       "8395  Ord_5411   Prod_6  SHP_7555  Cust_1798   127.1600      0.10   \n",
       "8396  Ord_5388   Prod_6  SHP_7524  Cust_1798   243.0500      0.02   \n",
       "8397  Ord_5348  Prod_15  SHP_7469  Cust_1798  3872.8700      0.03   \n",
       "8398  Ord_5459   Prod_6  SHP_7628  Cust_1798   603.6900      0.00   \n",
       "\n",
       "      Order_Quantity  Profit  Shipping_Cost  Product_Base_Margin  \n",
       "8394              28  374.63           7.69                 0.59  \n",
       "8395              20  -74.03           6.92                 0.37  \n",
       "8396              39  -70.85           5.35                 0.40  \n",
       "8397              23  565.34          30.00                 0.62  \n",
       "8398              47  131.39           4.86                 0.38  "
      ]
     },
     "execution_count": 177,
     "metadata": {},
     "output_type": "execute_result"
    }
   ],
   "source": [
    "marketfact_df.tail()#bottom rows."
   ]
  },
  {
   "cell_type": "code",
   "execution_count": 178,
   "id": "73d9229c-9e47-4565-8991-598655faba1b",
   "metadata": {},
   "outputs": [
    {
     "name": "stdout",
     "output_type": "stream",
     "text": [
      "<class 'pandas.core.frame.DataFrame'>\n",
      "RangeIndex: 8399 entries, 0 to 8398\n",
      "Data columns (total 10 columns):\n",
      " #   Column               Non-Null Count  Dtype  \n",
      "---  ------               --------------  -----  \n",
      " 0   Ord_id               8399 non-null   object \n",
      " 1   Prod_id              8399 non-null   object \n",
      " 2   Ship_id              8399 non-null   object \n",
      " 3   Cust_id              8399 non-null   object \n",
      " 4   Sales                8399 non-null   float64\n",
      " 5   Discount             8399 non-null   float64\n",
      " 6   Order_Quantity       8399 non-null   int64  \n",
      " 7   Profit               8399 non-null   float64\n",
      " 8   Shipping_Cost        8399 non-null   float64\n",
      " 9   Product_Base_Margin  8336 non-null   float64\n",
      "dtypes: float64(5), int64(1), object(4)\n",
      "memory usage: 656.3+ KB\n"
     ]
    }
   ],
   "source": [
    "#looking at datatype of each function.\n",
    "marketfact_df.info()"
   ]
  },
  {
   "cell_type": "code",
   "execution_count": 179,
   "id": "a525c25b-b73e-4a65-8cff-16d1484b104f",
   "metadata": {},
   "outputs": [
    {
     "data": {
      "text/html": [
       "<div>\n",
       "<style scoped>\n",
       "    .dataframe tbody tr th:only-of-type {\n",
       "        vertical-align: middle;\n",
       "    }\n",
       "\n",
       "    .dataframe tbody tr th {\n",
       "        vertical-align: top;\n",
       "    }\n",
       "\n",
       "    .dataframe thead th {\n",
       "        text-align: right;\n",
       "    }\n",
       "</style>\n",
       "<table border=\"1\" class=\"dataframe\">\n",
       "  <thead>\n",
       "    <tr style=\"text-align: right;\">\n",
       "      <th></th>\n",
       "      <th>Sales</th>\n",
       "      <th>Discount</th>\n",
       "      <th>Order_Quantity</th>\n",
       "      <th>Profit</th>\n",
       "      <th>Shipping_Cost</th>\n",
       "      <th>Product_Base_Margin</th>\n",
       "    </tr>\n",
       "  </thead>\n",
       "  <tbody>\n",
       "    <tr>\n",
       "      <th>count</th>\n",
       "      <td>8399.000000</td>\n",
       "      <td>8399.000000</td>\n",
       "      <td>8399.000000</td>\n",
       "      <td>8399.000000</td>\n",
       "      <td>8399.000000</td>\n",
       "      <td>8336.000000</td>\n",
       "    </tr>\n",
       "    <tr>\n",
       "      <th>mean</th>\n",
       "      <td>1775.878179</td>\n",
       "      <td>0.049671</td>\n",
       "      <td>25.571735</td>\n",
       "      <td>181.184424</td>\n",
       "      <td>12.838557</td>\n",
       "      <td>0.512513</td>\n",
       "    </tr>\n",
       "    <tr>\n",
       "      <th>std</th>\n",
       "      <td>3585.050525</td>\n",
       "      <td>0.031823</td>\n",
       "      <td>14.481071</td>\n",
       "      <td>1196.653371</td>\n",
       "      <td>17.264052</td>\n",
       "      <td>0.135589</td>\n",
       "    </tr>\n",
       "    <tr>\n",
       "      <th>min</th>\n",
       "      <td>2.240000</td>\n",
       "      <td>0.000000</td>\n",
       "      <td>1.000000</td>\n",
       "      <td>-14140.700000</td>\n",
       "      <td>0.490000</td>\n",
       "      <td>0.350000</td>\n",
       "    </tr>\n",
       "    <tr>\n",
       "      <th>25%</th>\n",
       "      <td>143.195000</td>\n",
       "      <td>0.020000</td>\n",
       "      <td>13.000000</td>\n",
       "      <td>-83.315000</td>\n",
       "      <td>3.300000</td>\n",
       "      <td>0.380000</td>\n",
       "    </tr>\n",
       "    <tr>\n",
       "      <th>50%</th>\n",
       "      <td>449.420000</td>\n",
       "      <td>0.050000</td>\n",
       "      <td>26.000000</td>\n",
       "      <td>-1.500000</td>\n",
       "      <td>6.070000</td>\n",
       "      <td>0.520000</td>\n",
       "    </tr>\n",
       "    <tr>\n",
       "      <th>75%</th>\n",
       "      <td>1709.320000</td>\n",
       "      <td>0.080000</td>\n",
       "      <td>38.000000</td>\n",
       "      <td>162.750000</td>\n",
       "      <td>13.990000</td>\n",
       "      <td>0.590000</td>\n",
       "    </tr>\n",
       "    <tr>\n",
       "      <th>max</th>\n",
       "      <td>89061.050000</td>\n",
       "      <td>0.250000</td>\n",
       "      <td>50.000000</td>\n",
       "      <td>27220.690000</td>\n",
       "      <td>164.730000</td>\n",
       "      <td>0.850000</td>\n",
       "    </tr>\n",
       "  </tbody>\n",
       "</table>\n",
       "</div>"
      ],
      "text/plain": [
       "              Sales     Discount  Order_Quantity        Profit  Shipping_Cost  \\\n",
       "count   8399.000000  8399.000000     8399.000000   8399.000000    8399.000000   \n",
       "mean    1775.878179     0.049671       25.571735    181.184424      12.838557   \n",
       "std     3585.050525     0.031823       14.481071   1196.653371      17.264052   \n",
       "min        2.240000     0.000000        1.000000 -14140.700000       0.490000   \n",
       "25%      143.195000     0.020000       13.000000    -83.315000       3.300000   \n",
       "50%      449.420000     0.050000       26.000000     -1.500000       6.070000   \n",
       "75%     1709.320000     0.080000       38.000000    162.750000      13.990000   \n",
       "max    89061.050000     0.250000       50.000000  27220.690000     164.730000   \n",
       "\n",
       "       Product_Base_Margin  \n",
       "count          8336.000000  \n",
       "mean              0.512513  \n",
       "std               0.135589  \n",
       "min               0.350000  \n",
       "25%               0.380000  \n",
       "50%               0.520000  \n",
       "75%               0.590000  \n",
       "max               0.850000  "
      ]
     },
     "execution_count": 179,
     "metadata": {},
     "output_type": "execute_result"
    }
   ],
   "source": [
    "marketfact_df.describe()"
   ]
  },
  {
   "cell_type": "code",
   "execution_count": 181,
   "id": "952b5e3b-3fff-4af1-ab67-09491dd53d6b",
   "metadata": {},
   "outputs": [
    {
     "data": {
      "text/plain": [
       "Index(['Ord_id', 'Prod_id', 'Ship_id', 'Cust_id', 'Sales', 'Discount',\n",
       "       'Order_Quantity', 'Profit', 'Shipping_Cost', 'Product_Base_Margin'],\n",
       "      dtype='object')"
      ]
     },
     "execution_count": 181,
     "metadata": {},
     "output_type": "execute_result"
    }
   ],
   "source": [
    "marketfact_df.columns"
   ]
  },
  {
   "cell_type": "code",
   "execution_count": 183,
   "id": "6d0a273f-8f6e-4788-ba09-4784d160558d",
   "metadata": {},
   "outputs": [
    {
     "data": {
      "text/plain": [
       "(8399, 10)"
      ]
     },
     "execution_count": 183,
     "metadata": {},
     "output_type": "execute_result"
    }
   ],
   "source": [
    "marketfact_df.shape# gives(no. of rows,no. of columns)"
   ]
  },
  {
   "cell_type": "code",
   "execution_count": 184,
   "id": "0e68e8c1-5e7b-4c78-863a-487b0014ae73",
   "metadata": {},
   "outputs": [
    {
     "data": {
      "text/plain": [
       "array([['Ord_5446', 'Prod_16', 'SHP_7609', ..., -30.51, 3.6, 0.56],\n",
       "       ['Ord_5406', 'Prod_13', 'SHP_7549', ..., 4.56, 0.93, 0.54],\n",
       "       ['Ord_5446', 'Prod_4', 'SHP_7610', ..., 1148.9, 2.5, 0.59],\n",
       "       ...,\n",
       "       ['Ord_5388', 'Prod_6', 'SHP_7524', ..., -70.85, 5.35, 0.4],\n",
       "       ['Ord_5348', 'Prod_15', 'SHP_7469', ..., 565.34, 30.0, 0.62],\n",
       "       ['Ord_5459', 'Prod_6', 'SHP_7628', ..., 131.39, 4.86, 0.38]],\n",
       "      dtype=object)"
      ]
     },
     "execution_count": 184,
     "metadata": {},
     "output_type": "execute_result"
    }
   ],
   "source": [
    "marketfact_df.values#extracting the values"
   ]
  },
  {
   "cell_type": "code",
   "execution_count": 185,
   "id": "324bdbfb-9722-48a0-89ba-99c3241276dd",
   "metadata": {},
   "outputs": [
    {
     "data": {
      "text/html": [
       "<div>\n",
       "<style scoped>\n",
       "    .dataframe tbody tr th:only-of-type {\n",
       "        vertical-align: middle;\n",
       "    }\n",
       "\n",
       "    .dataframe tbody tr th {\n",
       "        vertical-align: top;\n",
       "    }\n",
       "\n",
       "    .dataframe thead th {\n",
       "        text-align: right;\n",
       "    }\n",
       "</style>\n",
       "<table border=\"1\" class=\"dataframe\">\n",
       "  <thead>\n",
       "    <tr style=\"text-align: right;\">\n",
       "      <th></th>\n",
       "      <th>Ord_id</th>\n",
       "      <th>Prod_id</th>\n",
       "      <th>Ship_id</th>\n",
       "      <th>Cust_id</th>\n",
       "      <th>Sales</th>\n",
       "      <th>Discount</th>\n",
       "      <th>Order_Quantity</th>\n",
       "      <th>Profit</th>\n",
       "      <th>Shipping_Cost</th>\n",
       "      <th>Product_Base_Margin</th>\n",
       "    </tr>\n",
       "  </thead>\n",
       "  <tbody>\n",
       "    <tr>\n",
       "      <th>6952</th>\n",
       "      <td>Ord_5452</td>\n",
       "      <td>Prod_17</td>\n",
       "      <td>SHP_7621</td>\n",
       "      <td>Cust_1796</td>\n",
       "      <td>18888.00</td>\n",
       "      <td>0.09</td>\n",
       "      <td>3</td>\n",
       "      <td>-14140.70</td>\n",
       "      <td>24.49</td>\n",
       "      <td>0.39</td>\n",
       "    </tr>\n",
       "    <tr>\n",
       "      <th>4772</th>\n",
       "      <td>Ord_5047</td>\n",
       "      <td>Prod_17</td>\n",
       "      <td>SHP_7043</td>\n",
       "      <td>Cust_1714</td>\n",
       "      <td>19707.20</td>\n",
       "      <td>0.04</td>\n",
       "      <td>3</td>\n",
       "      <td>-12558.00</td>\n",
       "      <td>24.49</td>\n",
       "      <td>0.39</td>\n",
       "    </tr>\n",
       "    <tr>\n",
       "      <th>84</th>\n",
       "      <td>Ord_5232</td>\n",
       "      <td>Prod_17</td>\n",
       "      <td>SHP_7306</td>\n",
       "      <td>Cust_1758</td>\n",
       "      <td>21366.51</td>\n",
       "      <td>0.00</td>\n",
       "      <td>3</td>\n",
       "      <td>-11984.40</td>\n",
       "      <td>24.49</td>\n",
       "      <td>0.39</td>\n",
       "    </tr>\n",
       "    <tr>\n",
       "      <th>5454</th>\n",
       "      <td>Ord_3903</td>\n",
       "      <td>Prod_14</td>\n",
       "      <td>SHP_5417</td>\n",
       "      <td>Cust_1334</td>\n",
       "      <td>3457.99</td>\n",
       "      <td>0.05</td>\n",
       "      <td>1</td>\n",
       "      <td>-11861.46</td>\n",
       "      <td>24.49</td>\n",
       "      <td>0.37</td>\n",
       "    </tr>\n",
       "    <tr>\n",
       "      <th>5968</th>\n",
       "      <td>Ord_3073</td>\n",
       "      <td>Prod_14</td>\n",
       "      <td>SHP_4267</td>\n",
       "      <td>Cust_1142</td>\n",
       "      <td>3550.28</td>\n",
       "      <td>0.06</td>\n",
       "      <td>1</td>\n",
       "      <td>-11769.17</td>\n",
       "      <td>24.49</td>\n",
       "      <td>0.37</td>\n",
       "    </tr>\n",
       "  </tbody>\n",
       "</table>\n",
       "</div>"
      ],
      "text/plain": [
       "        Ord_id  Prod_id   Ship_id    Cust_id     Sales  Discount  \\\n",
       "6952  Ord_5452  Prod_17  SHP_7621  Cust_1796  18888.00      0.09   \n",
       "4772  Ord_5047  Prod_17  SHP_7043  Cust_1714  19707.20      0.04   \n",
       "84    Ord_5232  Prod_17  SHP_7306  Cust_1758  21366.51      0.00   \n",
       "5454  Ord_3903  Prod_14  SHP_5417  Cust_1334   3457.99      0.05   \n",
       "5968  Ord_3073  Prod_14  SHP_4267  Cust_1142   3550.28      0.06   \n",
       "\n",
       "      Order_Quantity    Profit  Shipping_Cost  Product_Base_Margin  \n",
       "6952               3 -14140.70          24.49                 0.39  \n",
       "4772               3 -12558.00          24.49                 0.39  \n",
       "84                 3 -11984.40          24.49                 0.39  \n",
       "5454               1 -11861.46          24.49                 0.37  \n",
       "5968               1 -11769.17          24.49                 0.37  "
      ]
     },
     "execution_count": 185,
     "metadata": {},
     "output_type": "execute_result"
    }
   ],
   "source": [
    "marketfact_df.sort_values(by=\"Profit\").head()"
   ]
  },
  {
   "cell_type": "code",
   "execution_count": 4,
   "id": "eab399b5-4cb9-4dd5-bc91-b39ad4eb1261",
   "metadata": {},
   "outputs": [
    {
     "data": {
      "text/html": [
       "<div>\n",
       "<style scoped>\n",
       "    .dataframe tbody tr th:only-of-type {\n",
       "        vertical-align: middle;\n",
       "    }\n",
       "\n",
       "    .dataframe tbody tr th {\n",
       "        vertical-align: top;\n",
       "    }\n",
       "\n",
       "    .dataframe thead th {\n",
       "        text-align: right;\n",
       "    }\n",
       "</style>\n",
       "<table border=\"1\" class=\"dataframe\">\n",
       "  <thead>\n",
       "    <tr style=\"text-align: right;\">\n",
       "      <th></th>\n",
       "      <th>Ord_id</th>\n",
       "      <th>Prod_id</th>\n",
       "      <th>Ship_id</th>\n",
       "      <th>Cust_id</th>\n",
       "      <th>Sales</th>\n",
       "      <th>Discount</th>\n",
       "      <th>Order_Quantity</th>\n",
       "      <th>Profit</th>\n",
       "      <th>Shipping_Cost</th>\n",
       "      <th>Product_Base_Margin</th>\n",
       "    </tr>\n",
       "  </thead>\n",
       "  <tbody>\n",
       "    <tr>\n",
       "      <th>2738</th>\n",
       "      <td>Ord_3084</td>\n",
       "      <td>Prod_17</td>\n",
       "      <td>SHP_4279</td>\n",
       "      <td>Cust_1151</td>\n",
       "      <td>89061.05</td>\n",
       "      <td>0.00</td>\n",
       "      <td>13</td>\n",
       "      <td>27220.69</td>\n",
       "      <td>24.49</td>\n",
       "      <td>0.39</td>\n",
       "    </tr>\n",
       "    <tr>\n",
       "      <th>385</th>\n",
       "      <td>Ord_3707</td>\n",
       "      <td>Prod_17</td>\n",
       "      <td>SHP_5136</td>\n",
       "      <td>Cust_1307</td>\n",
       "      <td>28359.40</td>\n",
       "      <td>0.05</td>\n",
       "      <td>49</td>\n",
       "      <td>14440.39</td>\n",
       "      <td>24.49</td>\n",
       "      <td>0.37</td>\n",
       "    </tr>\n",
       "    <tr>\n",
       "      <th>2253</th>\n",
       "      <td>Ord_3143</td>\n",
       "      <td>Prod_14</td>\n",
       "      <td>SHP_4362</td>\n",
       "      <td>Cust_1170</td>\n",
       "      <td>28664.52</td>\n",
       "      <td>0.09</td>\n",
       "      <td>50</td>\n",
       "      <td>13340.26</td>\n",
       "      <td>24.49</td>\n",
       "      <td>0.37</td>\n",
       "    </tr>\n",
       "    <tr>\n",
       "      <th>4399</th>\n",
       "      <td>Ord_4614</td>\n",
       "      <td>Prod_14</td>\n",
       "      <td>SHP_6423</td>\n",
       "      <td>Cust_1571</td>\n",
       "      <td>29884.60</td>\n",
       "      <td>0.05</td>\n",
       "      <td>49</td>\n",
       "      <td>12748.86</td>\n",
       "      <td>24.49</td>\n",
       "      <td>0.44</td>\n",
       "    </tr>\n",
       "    <tr>\n",
       "      <th>6765</th>\n",
       "      <td>Ord_5186</td>\n",
       "      <td>Prod_17</td>\n",
       "      <td>SHP_7247</td>\n",
       "      <td>Cust_1763</td>\n",
       "      <td>26095.13</td>\n",
       "      <td>0.03</td>\n",
       "      <td>35</td>\n",
       "      <td>12606.81</td>\n",
       "      <td>55.30</td>\n",
       "      <td>0.40</td>\n",
       "    </tr>\n",
       "  </tbody>\n",
       "</table>\n",
       "</div>"
      ],
      "text/plain": [
       "        Ord_id  Prod_id   Ship_id    Cust_id     Sales  Discount  \\\n",
       "2738  Ord_3084  Prod_17  SHP_4279  Cust_1151  89061.05      0.00   \n",
       "385   Ord_3707  Prod_17  SHP_5136  Cust_1307  28359.40      0.05   \n",
       "2253  Ord_3143  Prod_14  SHP_4362  Cust_1170  28664.52      0.09   \n",
       "4399  Ord_4614  Prod_14  SHP_6423  Cust_1571  29884.60      0.05   \n",
       "6765  Ord_5186  Prod_17  SHP_7247  Cust_1763  26095.13      0.03   \n",
       "\n",
       "      Order_Quantity    Profit  Shipping_Cost  Product_Base_Margin  \n",
       "2738              13  27220.69          24.49                 0.39  \n",
       "385               49  14440.39          24.49                 0.37  \n",
       "2253              50  13340.26          24.49                 0.37  \n",
       "4399              49  12748.86          24.49                 0.44  \n",
       "6765              35  12606.81          55.30                 0.40  "
      ]
     },
     "execution_count": 4,
     "metadata": {},
     "output_type": "execute_result"
    }
   ],
   "source": [
    "import pandas as pd\n",
    "import numpy as np\n",
    "marketfact_df=pd.read_csv(\"C:/RFILES/market_fact.csv\")\n",
    "marketfact_df.sort_values(by=\"Profit\",ascending=False).head()"
   ]
  },
  {
   "cell_type": "code",
   "execution_count": 5,
   "id": "49451a56-026e-4d39-8f67-df5617943b3a",
   "metadata": {},
   "outputs": [
    {
     "data": {
      "text/html": [
       "<div>\n",
       "<style scoped>\n",
       "    .dataframe tbody tr th:only-of-type {\n",
       "        vertical-align: middle;\n",
       "    }\n",
       "\n",
       "    .dataframe tbody tr th {\n",
       "        vertical-align: top;\n",
       "    }\n",
       "\n",
       "    .dataframe thead th {\n",
       "        text-align: right;\n",
       "    }\n",
       "</style>\n",
       "<table border=\"1\" class=\"dataframe\">\n",
       "  <thead>\n",
       "    <tr style=\"text-align: right;\">\n",
       "      <th></th>\n",
       "      <th>Ord_id</th>\n",
       "      <th>Prod_id</th>\n",
       "      <th>Ship_id</th>\n",
       "      <th>Cust_id</th>\n",
       "      <th>Sales</th>\n",
       "      <th>Discount</th>\n",
       "      <th>Order_Quantity</th>\n",
       "      <th>Profit</th>\n",
       "      <th>Shipping_Cost</th>\n",
       "      <th>Product_Base_Margin</th>\n",
       "    </tr>\n",
       "  </thead>\n",
       "  <tbody>\n",
       "    <tr>\n",
       "      <th>2738</th>\n",
       "      <td>Ord_3084</td>\n",
       "      <td>Prod_17</td>\n",
       "      <td>SHP_4279</td>\n",
       "      <td>Cust_1151</td>\n",
       "      <td>89061.05</td>\n",
       "      <td>0.00</td>\n",
       "      <td>13</td>\n",
       "      <td>27220.69</td>\n",
       "      <td>24.49</td>\n",
       "      <td>0.39</td>\n",
       "    </tr>\n",
       "    <tr>\n",
       "      <th>385</th>\n",
       "      <td>Ord_3707</td>\n",
       "      <td>Prod_17</td>\n",
       "      <td>SHP_5136</td>\n",
       "      <td>Cust_1307</td>\n",
       "      <td>28359.40</td>\n",
       "      <td>0.05</td>\n",
       "      <td>49</td>\n",
       "      <td>14440.39</td>\n",
       "      <td>24.49</td>\n",
       "      <td>0.37</td>\n",
       "    </tr>\n",
       "    <tr>\n",
       "      <th>2253</th>\n",
       "      <td>Ord_3143</td>\n",
       "      <td>Prod_14</td>\n",
       "      <td>SHP_4362</td>\n",
       "      <td>Cust_1170</td>\n",
       "      <td>28664.52</td>\n",
       "      <td>0.09</td>\n",
       "      <td>50</td>\n",
       "      <td>13340.26</td>\n",
       "      <td>24.49</td>\n",
       "      <td>0.37</td>\n",
       "    </tr>\n",
       "    <tr>\n",
       "      <th>4399</th>\n",
       "      <td>Ord_4614</td>\n",
       "      <td>Prod_14</td>\n",
       "      <td>SHP_6423</td>\n",
       "      <td>Cust_1571</td>\n",
       "      <td>29884.60</td>\n",
       "      <td>0.05</td>\n",
       "      <td>49</td>\n",
       "      <td>12748.86</td>\n",
       "      <td>24.49</td>\n",
       "      <td>0.44</td>\n",
       "    </tr>\n",
       "    <tr>\n",
       "      <th>6765</th>\n",
       "      <td>Ord_5186</td>\n",
       "      <td>Prod_17</td>\n",
       "      <td>SHP_7247</td>\n",
       "      <td>Cust_1763</td>\n",
       "      <td>26095.13</td>\n",
       "      <td>0.03</td>\n",
       "      <td>35</td>\n",
       "      <td>12606.81</td>\n",
       "      <td>55.30</td>\n",
       "      <td>0.40</td>\n",
       "    </tr>\n",
       "    <tr>\n",
       "      <th>...</th>\n",
       "      <td>...</td>\n",
       "      <td>...</td>\n",
       "      <td>...</td>\n",
       "      <td>...</td>\n",
       "      <td>...</td>\n",
       "      <td>...</td>\n",
       "      <td>...</td>\n",
       "      <td>...</td>\n",
       "      <td>...</td>\n",
       "      <td>...</td>\n",
       "    </tr>\n",
       "    <tr>\n",
       "      <th>5968</th>\n",
       "      <td>Ord_3073</td>\n",
       "      <td>Prod_14</td>\n",
       "      <td>SHP_4267</td>\n",
       "      <td>Cust_1142</td>\n",
       "      <td>3550.28</td>\n",
       "      <td>0.06</td>\n",
       "      <td>1</td>\n",
       "      <td>-11769.17</td>\n",
       "      <td>24.49</td>\n",
       "      <td>0.37</td>\n",
       "    </tr>\n",
       "    <tr>\n",
       "      <th>5454</th>\n",
       "      <td>Ord_3903</td>\n",
       "      <td>Prod_14</td>\n",
       "      <td>SHP_5417</td>\n",
       "      <td>Cust_1334</td>\n",
       "      <td>3457.99</td>\n",
       "      <td>0.05</td>\n",
       "      <td>1</td>\n",
       "      <td>-11861.46</td>\n",
       "      <td>24.49</td>\n",
       "      <td>0.37</td>\n",
       "    </tr>\n",
       "    <tr>\n",
       "      <th>84</th>\n",
       "      <td>Ord_5232</td>\n",
       "      <td>Prod_17</td>\n",
       "      <td>SHP_7306</td>\n",
       "      <td>Cust_1758</td>\n",
       "      <td>21366.51</td>\n",
       "      <td>0.00</td>\n",
       "      <td>3</td>\n",
       "      <td>-11984.40</td>\n",
       "      <td>24.49</td>\n",
       "      <td>0.39</td>\n",
       "    </tr>\n",
       "    <tr>\n",
       "      <th>4772</th>\n",
       "      <td>Ord_5047</td>\n",
       "      <td>Prod_17</td>\n",
       "      <td>SHP_7043</td>\n",
       "      <td>Cust_1714</td>\n",
       "      <td>19707.20</td>\n",
       "      <td>0.04</td>\n",
       "      <td>3</td>\n",
       "      <td>-12558.00</td>\n",
       "      <td>24.49</td>\n",
       "      <td>0.39</td>\n",
       "    </tr>\n",
       "    <tr>\n",
       "      <th>6952</th>\n",
       "      <td>Ord_5452</td>\n",
       "      <td>Prod_17</td>\n",
       "      <td>SHP_7621</td>\n",
       "      <td>Cust_1796</td>\n",
       "      <td>18888.00</td>\n",
       "      <td>0.09</td>\n",
       "      <td>3</td>\n",
       "      <td>-14140.70</td>\n",
       "      <td>24.49</td>\n",
       "      <td>0.39</td>\n",
       "    </tr>\n",
       "  </tbody>\n",
       "</table>\n",
       "<p>8399 rows × 10 columns</p>\n",
       "</div>"
      ],
      "text/plain": [
       "        Ord_id  Prod_id   Ship_id    Cust_id     Sales  Discount  \\\n",
       "2738  Ord_3084  Prod_17  SHP_4279  Cust_1151  89061.05      0.00   \n",
       "385   Ord_3707  Prod_17  SHP_5136  Cust_1307  28359.40      0.05   \n",
       "2253  Ord_3143  Prod_14  SHP_4362  Cust_1170  28664.52      0.09   \n",
       "4399  Ord_4614  Prod_14  SHP_6423  Cust_1571  29884.60      0.05   \n",
       "6765  Ord_5186  Prod_17  SHP_7247  Cust_1763  26095.13      0.03   \n",
       "...        ...      ...       ...        ...       ...       ...   \n",
       "5968  Ord_3073  Prod_14  SHP_4267  Cust_1142   3550.28      0.06   \n",
       "5454  Ord_3903  Prod_14  SHP_5417  Cust_1334   3457.99      0.05   \n",
       "84    Ord_5232  Prod_17  SHP_7306  Cust_1758  21366.51      0.00   \n",
       "4772  Ord_5047  Prod_17  SHP_7043  Cust_1714  19707.20      0.04   \n",
       "6952  Ord_5452  Prod_17  SHP_7621  Cust_1796  18888.00      0.09   \n",
       "\n",
       "      Order_Quantity    Profit  Shipping_Cost  Product_Base_Margin  \n",
       "2738              13  27220.69          24.49                 0.39  \n",
       "385               49  14440.39          24.49                 0.37  \n",
       "2253              50  13340.26          24.49                 0.37  \n",
       "4399              49  12748.86          24.49                 0.44  \n",
       "6765              35  12606.81          55.30                 0.40  \n",
       "...              ...       ...            ...                  ...  \n",
       "5968               1 -11769.17          24.49                 0.37  \n",
       "5454               1 -11861.46          24.49                 0.37  \n",
       "84                 3 -11984.40          24.49                 0.39  \n",
       "4772               3 -12558.00          24.49                 0.39  \n",
       "6952               3 -14140.70          24.49                 0.39  \n",
       "\n",
       "[8399 rows x 10 columns]"
      ]
     },
     "execution_count": 5,
     "metadata": {},
     "output_type": "execute_result"
    }
   ],
   "source": [
    "marketfact_df.sort_values(by=\"Profit\",ascending=False)"
   ]
  },
  {
   "cell_type": "code",
   "execution_count": 7,
   "id": "c1e11562-709f-4a15-99a8-3271f597a6a9",
   "metadata": {},
   "outputs": [
    {
     "data": {
      "text/html": [
       "<div>\n",
       "<style scoped>\n",
       "    .dataframe tbody tr th:only-of-type {\n",
       "        vertical-align: middle;\n",
       "    }\n",
       "\n",
       "    .dataframe tbody tr th {\n",
       "        vertical-align: top;\n",
       "    }\n",
       "\n",
       "    .dataframe thead th {\n",
       "        text-align: right;\n",
       "    }\n",
       "</style>\n",
       "<table border=\"1\" class=\"dataframe\">\n",
       "  <thead>\n",
       "    <tr style=\"text-align: right;\">\n",
       "      <th></th>\n",
       "      <th>Ord_id</th>\n",
       "      <th>Prod_id</th>\n",
       "      <th>Ship_id</th>\n",
       "      <th>Cust_id</th>\n",
       "      <th>Sales</th>\n",
       "      <th>Discount</th>\n",
       "      <th>Order_Quantity</th>\n",
       "      <th>Profit</th>\n",
       "      <th>Shipping_Cost</th>\n",
       "      <th>Product_Base_Margin</th>\n",
       "    </tr>\n",
       "  </thead>\n",
       "  <tbody>\n",
       "    <tr>\n",
       "      <th>2738</th>\n",
       "      <td>Ord_3084</td>\n",
       "      <td>Prod_17</td>\n",
       "      <td>SHP_4279</td>\n",
       "      <td>Cust_1151</td>\n",
       "      <td>89061.05</td>\n",
       "      <td>0.00</td>\n",
       "      <td>13</td>\n",
       "      <td>27220.69</td>\n",
       "      <td>24.49</td>\n",
       "      <td>0.39</td>\n",
       "    </tr>\n",
       "    <tr>\n",
       "      <th>385</th>\n",
       "      <td>Ord_3707</td>\n",
       "      <td>Prod_17</td>\n",
       "      <td>SHP_5136</td>\n",
       "      <td>Cust_1307</td>\n",
       "      <td>28359.40</td>\n",
       "      <td>0.05</td>\n",
       "      <td>49</td>\n",
       "      <td>14440.39</td>\n",
       "      <td>24.49</td>\n",
       "      <td>0.37</td>\n",
       "    </tr>\n",
       "    <tr>\n",
       "      <th>2253</th>\n",
       "      <td>Ord_3143</td>\n",
       "      <td>Prod_14</td>\n",
       "      <td>SHP_4362</td>\n",
       "      <td>Cust_1170</td>\n",
       "      <td>28664.52</td>\n",
       "      <td>0.09</td>\n",
       "      <td>50</td>\n",
       "      <td>13340.26</td>\n",
       "      <td>24.49</td>\n",
       "      <td>0.37</td>\n",
       "    </tr>\n",
       "    <tr>\n",
       "      <th>4399</th>\n",
       "      <td>Ord_4614</td>\n",
       "      <td>Prod_14</td>\n",
       "      <td>SHP_6423</td>\n",
       "      <td>Cust_1571</td>\n",
       "      <td>29884.60</td>\n",
       "      <td>0.05</td>\n",
       "      <td>49</td>\n",
       "      <td>12748.86</td>\n",
       "      <td>24.49</td>\n",
       "      <td>0.44</td>\n",
       "    </tr>\n",
       "    <tr>\n",
       "      <th>6765</th>\n",
       "      <td>Ord_5186</td>\n",
       "      <td>Prod_17</td>\n",
       "      <td>SHP_7247</td>\n",
       "      <td>Cust_1763</td>\n",
       "      <td>26095.13</td>\n",
       "      <td>0.03</td>\n",
       "      <td>35</td>\n",
       "      <td>12606.81</td>\n",
       "      <td>55.30</td>\n",
       "      <td>0.40</td>\n",
       "    </tr>\n",
       "    <tr>\n",
       "      <th>...</th>\n",
       "      <td>...</td>\n",
       "      <td>...</td>\n",
       "      <td>...</td>\n",
       "      <td>...</td>\n",
       "      <td>...</td>\n",
       "      <td>...</td>\n",
       "      <td>...</td>\n",
       "      <td>...</td>\n",
       "      <td>...</td>\n",
       "      <td>...</td>\n",
       "    </tr>\n",
       "    <tr>\n",
       "      <th>5968</th>\n",
       "      <td>Ord_3073</td>\n",
       "      <td>Prod_14</td>\n",
       "      <td>SHP_4267</td>\n",
       "      <td>Cust_1142</td>\n",
       "      <td>3550.28</td>\n",
       "      <td>0.06</td>\n",
       "      <td>1</td>\n",
       "      <td>-11769.17</td>\n",
       "      <td>24.49</td>\n",
       "      <td>0.37</td>\n",
       "    </tr>\n",
       "    <tr>\n",
       "      <th>5454</th>\n",
       "      <td>Ord_3903</td>\n",
       "      <td>Prod_14</td>\n",
       "      <td>SHP_5417</td>\n",
       "      <td>Cust_1334</td>\n",
       "      <td>3457.99</td>\n",
       "      <td>0.05</td>\n",
       "      <td>1</td>\n",
       "      <td>-11861.46</td>\n",
       "      <td>24.49</td>\n",
       "      <td>0.37</td>\n",
       "    </tr>\n",
       "    <tr>\n",
       "      <th>84</th>\n",
       "      <td>Ord_5232</td>\n",
       "      <td>Prod_17</td>\n",
       "      <td>SHP_7306</td>\n",
       "      <td>Cust_1758</td>\n",
       "      <td>21366.51</td>\n",
       "      <td>0.00</td>\n",
       "      <td>3</td>\n",
       "      <td>-11984.40</td>\n",
       "      <td>24.49</td>\n",
       "      <td>0.39</td>\n",
       "    </tr>\n",
       "    <tr>\n",
       "      <th>4772</th>\n",
       "      <td>Ord_5047</td>\n",
       "      <td>Prod_17</td>\n",
       "      <td>SHP_7043</td>\n",
       "      <td>Cust_1714</td>\n",
       "      <td>19707.20</td>\n",
       "      <td>0.04</td>\n",
       "      <td>3</td>\n",
       "      <td>-12558.00</td>\n",
       "      <td>24.49</td>\n",
       "      <td>0.39</td>\n",
       "    </tr>\n",
       "    <tr>\n",
       "      <th>6952</th>\n",
       "      <td>Ord_5452</td>\n",
       "      <td>Prod_17</td>\n",
       "      <td>SHP_7621</td>\n",
       "      <td>Cust_1796</td>\n",
       "      <td>18888.00</td>\n",
       "      <td>0.09</td>\n",
       "      <td>3</td>\n",
       "      <td>-14140.70</td>\n",
       "      <td>24.49</td>\n",
       "      <td>0.39</td>\n",
       "    </tr>\n",
       "  </tbody>\n",
       "</table>\n",
       "<p>8399 rows × 10 columns</p>\n",
       "</div>"
      ],
      "text/plain": [
       "        Ord_id  Prod_id   Ship_id    Cust_id     Sales  Discount  \\\n",
       "2738  Ord_3084  Prod_17  SHP_4279  Cust_1151  89061.05      0.00   \n",
       "385   Ord_3707  Prod_17  SHP_5136  Cust_1307  28359.40      0.05   \n",
       "2253  Ord_3143  Prod_14  SHP_4362  Cust_1170  28664.52      0.09   \n",
       "4399  Ord_4614  Prod_14  SHP_6423  Cust_1571  29884.60      0.05   \n",
       "6765  Ord_5186  Prod_17  SHP_7247  Cust_1763  26095.13      0.03   \n",
       "...        ...      ...       ...        ...       ...       ...   \n",
       "5968  Ord_3073  Prod_14  SHP_4267  Cust_1142   3550.28      0.06   \n",
       "5454  Ord_3903  Prod_14  SHP_5417  Cust_1334   3457.99      0.05   \n",
       "84    Ord_5232  Prod_17  SHP_7306  Cust_1758  21366.51      0.00   \n",
       "4772  Ord_5047  Prod_17  SHP_7043  Cust_1714  19707.20      0.04   \n",
       "6952  Ord_5452  Prod_17  SHP_7621  Cust_1796  18888.00      0.09   \n",
       "\n",
       "      Order_Quantity    Profit  Shipping_Cost  Product_Base_Margin  \n",
       "2738              13  27220.69          24.49                 0.39  \n",
       "385               49  14440.39          24.49                 0.37  \n",
       "2253              50  13340.26          24.49                 0.37  \n",
       "4399              49  12748.86          24.49                 0.44  \n",
       "6765              35  12606.81          55.30                 0.40  \n",
       "...              ...       ...            ...                  ...  \n",
       "5968               1 -11769.17          24.49                 0.37  \n",
       "5454               1 -11861.46          24.49                 0.37  \n",
       "84                 3 -11984.40          24.49                 0.39  \n",
       "4772               3 -12558.00          24.49                 0.39  \n",
       "6952               3 -14140.70          24.49                 0.39  \n",
       "\n",
       "[8399 rows x 10 columns]"
      ]
     },
     "execution_count": 7,
     "metadata": {},
     "output_type": "execute_result"
    }
   ],
   "source": [
    "marketfact_df.sort_values(by=[\"Profit\",\"Sales\"],ascending=False)"
   ]
  },
  {
   "cell_type": "code",
   "execution_count": 9,
   "id": "3000e639-92ae-4f73-b90e-a866cd0d4471",
   "metadata": {},
   "outputs": [
    {
     "data": {
      "text/html": [
       "<div>\n",
       "<style scoped>\n",
       "    .dataframe tbody tr th:only-of-type {\n",
       "        vertical-align: middle;\n",
       "    }\n",
       "\n",
       "    .dataframe tbody tr th {\n",
       "        vertical-align: top;\n",
       "    }\n",
       "\n",
       "    .dataframe thead th {\n",
       "        text-align: right;\n",
       "    }\n",
       "</style>\n",
       "<table border=\"1\" class=\"dataframe\">\n",
       "  <thead>\n",
       "    <tr style=\"text-align: right;\">\n",
       "      <th></th>\n",
       "      <th>Ord_id</th>\n",
       "      <th>Prod_id</th>\n",
       "      <th>Ship_id</th>\n",
       "      <th>Cust_id</th>\n",
       "      <th>Sales</th>\n",
       "      <th>Discount</th>\n",
       "      <th>Order_Quantity</th>\n",
       "      <th>Profit</th>\n",
       "      <th>Shipping_Cost</th>\n",
       "      <th>Product_Base_Margin</th>\n",
       "    </tr>\n",
       "  </thead>\n",
       "  <tbody>\n",
       "    <tr>\n",
       "      <th>1</th>\n",
       "      <td>Ord_5406</td>\n",
       "      <td>Prod_13</td>\n",
       "      <td>SHP_7549</td>\n",
       "      <td>Cust_1818</td>\n",
       "      <td>42.27</td>\n",
       "      <td>0.01</td>\n",
       "      <td>13</td>\n",
       "      <td>4.56</td>\n",
       "      <td>0.93</td>\n",
       "      <td>0.54</td>\n",
       "    </tr>\n",
       "    <tr>\n",
       "      <th>2</th>\n",
       "      <td>Ord_5446</td>\n",
       "      <td>Prod_4</td>\n",
       "      <td>SHP_7610</td>\n",
       "      <td>Cust_1818</td>\n",
       "      <td>4701.69</td>\n",
       "      <td>0.00</td>\n",
       "      <td>26</td>\n",
       "      <td>1148.90</td>\n",
       "      <td>2.50</td>\n",
       "      <td>0.59</td>\n",
       "    </tr>\n",
       "    <tr>\n",
       "      <th>3</th>\n",
       "      <td>Ord_5456</td>\n",
       "      <td>Prod_6</td>\n",
       "      <td>SHP_7625</td>\n",
       "      <td>Cust_1818</td>\n",
       "      <td>2337.89</td>\n",
       "      <td>0.09</td>\n",
       "      <td>43</td>\n",
       "      <td>729.34</td>\n",
       "      <td>14.30</td>\n",
       "      <td>0.37</td>\n",
       "    </tr>\n",
       "    <tr>\n",
       "      <th>4</th>\n",
       "      <td>Ord_5485</td>\n",
       "      <td>Prod_17</td>\n",
       "      <td>SHP_7664</td>\n",
       "      <td>Cust_1818</td>\n",
       "      <td>4233.15</td>\n",
       "      <td>0.08</td>\n",
       "      <td>35</td>\n",
       "      <td>1219.87</td>\n",
       "      <td>26.30</td>\n",
       "      <td>0.38</td>\n",
       "    </tr>\n",
       "    <tr>\n",
       "      <th>5</th>\n",
       "      <td>Ord_5446</td>\n",
       "      <td>Prod_6</td>\n",
       "      <td>SHP_7608</td>\n",
       "      <td>Cust_1818</td>\n",
       "      <td>164.02</td>\n",
       "      <td>0.03</td>\n",
       "      <td>23</td>\n",
       "      <td>-47.64</td>\n",
       "      <td>6.15</td>\n",
       "      <td>0.37</td>\n",
       "    </tr>\n",
       "    <tr>\n",
       "      <th>6</th>\n",
       "      <td>Ord_31</td>\n",
       "      <td>Prod_12</td>\n",
       "      <td>SHP_41</td>\n",
       "      <td>Cust_26</td>\n",
       "      <td>14.76</td>\n",
       "      <td>0.01</td>\n",
       "      <td>5</td>\n",
       "      <td>1.32</td>\n",
       "      <td>0.50</td>\n",
       "      <td>0.36</td>\n",
       "    </tr>\n",
       "  </tbody>\n",
       "</table>\n",
       "</div>"
      ],
      "text/plain": [
       "     Ord_id  Prod_id   Ship_id    Cust_id    Sales  Discount  Order_Quantity  \\\n",
       "1  Ord_5406  Prod_13  SHP_7549  Cust_1818    42.27      0.01              13   \n",
       "2  Ord_5446   Prod_4  SHP_7610  Cust_1818  4701.69      0.00              26   \n",
       "3  Ord_5456   Prod_6  SHP_7625  Cust_1818  2337.89      0.09              43   \n",
       "4  Ord_5485  Prod_17  SHP_7664  Cust_1818  4233.15      0.08              35   \n",
       "5  Ord_5446   Prod_6  SHP_7608  Cust_1818   164.02      0.03              23   \n",
       "6    Ord_31  Prod_12    SHP_41    Cust_26    14.76      0.01               5   \n",
       "\n",
       "    Profit  Shipping_Cost  Product_Base_Margin  \n",
       "1     4.56           0.93                 0.54  \n",
       "2  1148.90           2.50                 0.59  \n",
       "3   729.34          14.30                 0.37  \n",
       "4  1219.87          26.30                 0.38  \n",
       "5   -47.64           6.15                 0.37  \n",
       "6     1.32           0.50                 0.36  "
      ]
     },
     "execution_count": 9,
     "metadata": {},
     "output_type": "execute_result"
    }
   ],
   "source": [
    "marketfact_df[1:7]#selecting rows from 1 to 6."
   ]
  },
  {
   "cell_type": "code",
   "execution_count": 11,
   "id": "14434207-aafa-4c3e-b30e-b6d16c132936",
   "metadata": {},
   "outputs": [
    {
     "data": {
      "text/html": [
       "<div>\n",
       "<style scoped>\n",
       "    .dataframe tbody tr th:only-of-type {\n",
       "        vertical-align: middle;\n",
       "    }\n",
       "\n",
       "    .dataframe tbody tr th {\n",
       "        vertical-align: top;\n",
       "    }\n",
       "\n",
       "    .dataframe thead th {\n",
       "        text-align: right;\n",
       "    }\n",
       "</style>\n",
       "<table border=\"1\" class=\"dataframe\">\n",
       "  <thead>\n",
       "    <tr style=\"text-align: right;\">\n",
       "      <th></th>\n",
       "      <th>Ord_id</th>\n",
       "      <th>Prod_id</th>\n",
       "      <th>Ship_id</th>\n",
       "      <th>Cust_id</th>\n",
       "      <th>Sales</th>\n",
       "      <th>Discount</th>\n",
       "      <th>Order_Quantity</th>\n",
       "      <th>Profit</th>\n",
       "      <th>Shipping_Cost</th>\n",
       "      <th>Product_Base_Margin</th>\n",
       "    </tr>\n",
       "  </thead>\n",
       "  <tbody>\n",
       "    <tr>\n",
       "      <th>2</th>\n",
       "      <td>Ord_5446</td>\n",
       "      <td>Prod_4</td>\n",
       "      <td>SHP_7610</td>\n",
       "      <td>Cust_1818</td>\n",
       "      <td>4701.69</td>\n",
       "      <td>0.00</td>\n",
       "      <td>26</td>\n",
       "      <td>1148.90</td>\n",
       "      <td>2.50</td>\n",
       "      <td>0.59</td>\n",
       "    </tr>\n",
       "    <tr>\n",
       "      <th>4</th>\n",
       "      <td>Ord_5485</td>\n",
       "      <td>Prod_17</td>\n",
       "      <td>SHP_7664</td>\n",
       "      <td>Cust_1818</td>\n",
       "      <td>4233.15</td>\n",
       "      <td>0.08</td>\n",
       "      <td>35</td>\n",
       "      <td>1219.87</td>\n",
       "      <td>26.30</td>\n",
       "      <td>0.38</td>\n",
       "    </tr>\n",
       "    <tr>\n",
       "      <th>6</th>\n",
       "      <td>Ord_31</td>\n",
       "      <td>Prod_12</td>\n",
       "      <td>SHP_41</td>\n",
       "      <td>Cust_26</td>\n",
       "      <td>14.76</td>\n",
       "      <td>0.01</td>\n",
       "      <td>5</td>\n",
       "      <td>1.32</td>\n",
       "      <td>0.50</td>\n",
       "      <td>0.36</td>\n",
       "    </tr>\n",
       "    <tr>\n",
       "      <th>8</th>\n",
       "      <td>Ord_4725</td>\n",
       "      <td>Prod_13</td>\n",
       "      <td>SHP_6593</td>\n",
       "      <td>Cust_1641</td>\n",
       "      <td>162.00</td>\n",
       "      <td>0.01</td>\n",
       "      <td>33</td>\n",
       "      <td>45.84</td>\n",
       "      <td>0.71</td>\n",
       "      <td>0.52</td>\n",
       "    </tr>\n",
       "    <tr>\n",
       "      <th>10</th>\n",
       "      <td>Ord_4743</td>\n",
       "      <td>Prod_2</td>\n",
       "      <td>SHP_6615</td>\n",
       "      <td>Cust_1641</td>\n",
       "      <td>4072.01</td>\n",
       "      <td>0.01</td>\n",
       "      <td>43</td>\n",
       "      <td>1675.98</td>\n",
       "      <td>0.99</td>\n",
       "      <td>0.56</td>\n",
       "    </tr>\n",
       "  </tbody>\n",
       "</table>\n",
       "</div>"
      ],
      "text/plain": [
       "      Ord_id  Prod_id   Ship_id    Cust_id    Sales  Discount  Order_Quantity  \\\n",
       "2   Ord_5446   Prod_4  SHP_7610  Cust_1818  4701.69      0.00              26   \n",
       "4   Ord_5485  Prod_17  SHP_7664  Cust_1818  4233.15      0.08              35   \n",
       "6     Ord_31  Prod_12    SHP_41    Cust_26    14.76      0.01               5   \n",
       "8   Ord_4725  Prod_13  SHP_6593  Cust_1641   162.00      0.01              33   \n",
       "10  Ord_4743   Prod_2  SHP_6615  Cust_1641  4072.01      0.01              43   \n",
       "\n",
       "     Profit  Shipping_Cost  Product_Base_Margin  \n",
       "2   1148.90           2.50                 0.59  \n",
       "4   1219.87          26.30                 0.38  \n",
       "6      1.32           0.50                 0.36  \n",
       "8     45.84           0.71                 0.52  \n",
       "10  1675.98           0.99                 0.56  "
      ]
     },
     "execution_count": 11,
     "metadata": {},
     "output_type": "execute_result"
    }
   ],
   "source": [
    "marketfact_df[2::2].head()#selecting alternate rows starting from index=2."
   ]
  },
  {
   "cell_type": "code",
   "execution_count": 12,
   "id": "faac0b4b-debb-4b8e-a1c7-1c73b1e35ea7",
   "metadata": {},
   "outputs": [
    {
     "data": {
      "text/html": [
       "<div>\n",
       "<style scoped>\n",
       "    .dataframe tbody tr th:only-of-type {\n",
       "        vertical-align: middle;\n",
       "    }\n",
       "\n",
       "    .dataframe tbody tr th {\n",
       "        vertical-align: top;\n",
       "    }\n",
       "\n",
       "    .dataframe thead th {\n",
       "        text-align: right;\n",
       "    }\n",
       "</style>\n",
       "<table border=\"1\" class=\"dataframe\">\n",
       "  <thead>\n",
       "    <tr style=\"text-align: right;\">\n",
       "      <th></th>\n",
       "      <th>Ord_id</th>\n",
       "      <th>Prod_id</th>\n",
       "      <th>Ship_id</th>\n",
       "      <th>Cust_id</th>\n",
       "      <th>Sales</th>\n",
       "      <th>Discount</th>\n",
       "      <th>Order_Quantity</th>\n",
       "      <th>Profit</th>\n",
       "      <th>Shipping_Cost</th>\n",
       "      <th>Product_Base_Margin</th>\n",
       "    </tr>\n",
       "  </thead>\n",
       "  <tbody>\n",
       "    <tr>\n",
       "      <th>3</th>\n",
       "      <td>Ord_5456</td>\n",
       "      <td>Prod_6</td>\n",
       "      <td>SHP_7625</td>\n",
       "      <td>Cust_1818</td>\n",
       "      <td>2337.8900</td>\n",
       "      <td>0.09</td>\n",
       "      <td>43</td>\n",
       "      <td>729.34</td>\n",
       "      <td>14.30</td>\n",
       "      <td>0.37</td>\n",
       "    </tr>\n",
       "    <tr>\n",
       "      <th>7</th>\n",
       "      <td>Ord_4725</td>\n",
       "      <td>Prod_4</td>\n",
       "      <td>SHP_6593</td>\n",
       "      <td>Cust_1641</td>\n",
       "      <td>3410.1575</td>\n",
       "      <td>0.10</td>\n",
       "      <td>48</td>\n",
       "      <td>1137.91</td>\n",
       "      <td>0.99</td>\n",
       "      <td>0.55</td>\n",
       "    </tr>\n",
       "    <tr>\n",
       "      <th>11</th>\n",
       "      <td>Ord_1925</td>\n",
       "      <td>Prod_6</td>\n",
       "      <td>SHP_2637</td>\n",
       "      <td>Cust_708</td>\n",
       "      <td>465.9000</td>\n",
       "      <td>0.05</td>\n",
       "      <td>38</td>\n",
       "      <td>79.34</td>\n",
       "      <td>4.86</td>\n",
       "      <td>0.38</td>\n",
       "    </tr>\n",
       "    <tr>\n",
       "      <th>15</th>\n",
       "      <td>Ord_2280</td>\n",
       "      <td>Prod_5</td>\n",
       "      <td>SHP_3114</td>\n",
       "      <td>Cust_839</td>\n",
       "      <td>460.6900</td>\n",
       "      <td>0.06</td>\n",
       "      <td>48</td>\n",
       "      <td>-103.48</td>\n",
       "      <td>7.29</td>\n",
       "      <td>0.45</td>\n",
       "    </tr>\n",
       "    <tr>\n",
       "      <th>19</th>\n",
       "      <td>Ord_996</td>\n",
       "      <td>Prod_13</td>\n",
       "      <td>SHP_1378</td>\n",
       "      <td>Cust_371</td>\n",
       "      <td>41.9700</td>\n",
       "      <td>0.05</td>\n",
       "      <td>12</td>\n",
       "      <td>-37.03</td>\n",
       "      <td>4.20</td>\n",
       "      <td>0.56</td>\n",
       "    </tr>\n",
       "  </tbody>\n",
       "</table>\n",
       "</div>"
      ],
      "text/plain": [
       "      Ord_id  Prod_id   Ship_id    Cust_id      Sales  Discount  \\\n",
       "3   Ord_5456   Prod_6  SHP_7625  Cust_1818  2337.8900      0.09   \n",
       "7   Ord_4725   Prod_4  SHP_6593  Cust_1641  3410.1575      0.10   \n",
       "11  Ord_1925   Prod_6  SHP_2637   Cust_708   465.9000      0.05   \n",
       "15  Ord_2280   Prod_5  SHP_3114   Cust_839   460.6900      0.06   \n",
       "19   Ord_996  Prod_13  SHP_1378   Cust_371    41.9700      0.05   \n",
       "\n",
       "    Order_Quantity   Profit  Shipping_Cost  Product_Base_Margin  \n",
       "3               43   729.34          14.30                 0.37  \n",
       "7               48  1137.91           0.99                 0.55  \n",
       "11              38    79.34           4.86                 0.38  \n",
       "15              48  -103.48           7.29                 0.45  \n",
       "19              12   -37.03           4.20                 0.56  "
      ]
     },
     "execution_count": 12,
     "metadata": {},
     "output_type": "execute_result"
    }
   ],
   "source": [
    "marketfact_df[3::4].head()"
   ]
  },
  {
   "cell_type": "markdown",
   "id": "633a646f-31e3-4b5c-aac0-e04cf4e4eabd",
   "metadata": {},
   "source": [
    "select columns"
   ]
  },
  {
   "cell_type": "code",
   "execution_count": 15,
   "id": "81e12388-d689-4b40-8eed-9866cf476bfa",
   "metadata": {},
   "outputs": [
    {
     "data": {
      "text/plain": [
       "0     -30.51\n",
       "1       4.56\n",
       "2    1148.90\n",
       "3     729.34\n",
       "4    1219.87\n",
       "Name: Profit, dtype: float64"
      ]
     },
     "execution_count": 15,
     "metadata": {},
     "output_type": "execute_result"
    }
   ],
   "source": [
    "sales_1=marketfact_df['Profit']\n",
    "sales_1.head()"
   ]
  },
  {
   "cell_type": "code",
   "execution_count": 16,
   "id": "8ff9cd7b-a872-42db-a846-b822f4f359cd",
   "metadata": {},
   "outputs": [
    {
     "data": {
      "text/plain": [
       "0     136.81\n",
       "1      42.27\n",
       "2    4701.69\n",
       "3    2337.89\n",
       "4    4233.15\n",
       "Name: Sales, dtype: float64"
      ]
     },
     "execution_count": 16,
     "metadata": {},
     "output_type": "execute_result"
    }
   ],
   "source": [
    "sales_2=marketfact_df.Sales\n",
    "sales_2.head()"
   ]
  },
  {
   "cell_type": "code",
   "execution_count": 19,
   "id": "aa074cbd-8d82-4982-bdd7-42fa0fad518b",
   "metadata": {},
   "outputs": [
    {
     "data": {
      "text/html": [
       "<div>\n",
       "<style scoped>\n",
       "    .dataframe tbody tr th:only-of-type {\n",
       "        vertical-align: middle;\n",
       "    }\n",
       "\n",
       "    .dataframe tbody tr th {\n",
       "        vertical-align: top;\n",
       "    }\n",
       "\n",
       "    .dataframe thead th {\n",
       "        text-align: right;\n",
       "    }\n",
       "</style>\n",
       "<table border=\"1\" class=\"dataframe\">\n",
       "  <thead>\n",
       "    <tr style=\"text-align: right;\">\n",
       "      <th></th>\n",
       "      <th>Cust_id</th>\n",
       "      <th>Sales</th>\n",
       "      <th>Profit</th>\n",
       "    </tr>\n",
       "  </thead>\n",
       "  <tbody>\n",
       "    <tr>\n",
       "      <th>0</th>\n",
       "      <td>Cust_1818</td>\n",
       "      <td>136.81</td>\n",
       "      <td>-30.51</td>\n",
       "    </tr>\n",
       "    <tr>\n",
       "      <th>1</th>\n",
       "      <td>Cust_1818</td>\n",
       "      <td>42.27</td>\n",
       "      <td>4.56</td>\n",
       "    </tr>\n",
       "    <tr>\n",
       "      <th>2</th>\n",
       "      <td>Cust_1818</td>\n",
       "      <td>4701.69</td>\n",
       "      <td>1148.90</td>\n",
       "    </tr>\n",
       "    <tr>\n",
       "      <th>3</th>\n",
       "      <td>Cust_1818</td>\n",
       "      <td>2337.89</td>\n",
       "      <td>729.34</td>\n",
       "    </tr>\n",
       "    <tr>\n",
       "      <th>4</th>\n",
       "      <td>Cust_1818</td>\n",
       "      <td>4233.15</td>\n",
       "      <td>1219.87</td>\n",
       "    </tr>\n",
       "  </tbody>\n",
       "</table>\n",
       "</div>"
      ],
      "text/plain": [
       "     Cust_id    Sales   Profit\n",
       "0  Cust_1818   136.81   -30.51\n",
       "1  Cust_1818    42.27     4.56\n",
       "2  Cust_1818  4701.69  1148.90\n",
       "3  Cust_1818  2337.89   729.34\n",
       "4  Cust_1818  4233.15  1219.87"
      ]
     },
     "execution_count": 19,
     "metadata": {},
     "output_type": "execute_result"
    }
   ],
   "source": [
    "#selecting multiple columns\n",
    "multiple_columns=marketfact_df[['Cust_id','Sales','Profit']].head()\n",
    "multiple_columns"
   ]
  },
  {
   "cell_type": "code",
   "execution_count": 20,
   "id": "7aae9fc4-9858-4184-9e2d-717dc3d870a1",
   "metadata": {},
   "outputs": [
    {
     "data": {
      "text/plain": [
       "pandas.core.frame.DataFrame"
      ]
     },
     "execution_count": 20,
     "metadata": {},
     "output_type": "execute_result"
    }
   ],
   "source": [
    "type(multiple_columns)"
   ]
  },
  {
   "cell_type": "code",
   "execution_count": 23,
   "id": "18745661-a8aa-48d8-856b-e4d5e53f02b6",
   "metadata": {},
   "outputs": [
    {
     "ename": "KeyError",
     "evalue": "2",
     "output_type": "error",
     "traceback": [
      "\u001b[1;31m---------------------------------------------------------------------------\u001b[0m",
      "\u001b[1;31mKeyError\u001b[0m                                  Traceback (most recent call last)",
      "\u001b[1;32m~\\anaconda3\\lib\\site-packages\\pandas\\core\\indexes\\base.py\u001b[0m in \u001b[0;36mget_loc\u001b[1;34m(self, key, method, tolerance)\u001b[0m\n\u001b[0;32m   3360\u001b[0m             \u001b[1;32mtry\u001b[0m\u001b[1;33m:\u001b[0m\u001b[1;33m\u001b[0m\u001b[1;33m\u001b[0m\u001b[0m\n\u001b[1;32m-> 3361\u001b[1;33m                 \u001b[1;32mreturn\u001b[0m \u001b[0mself\u001b[0m\u001b[1;33m.\u001b[0m\u001b[0m_engine\u001b[0m\u001b[1;33m.\u001b[0m\u001b[0mget_loc\u001b[0m\u001b[1;33m(\u001b[0m\u001b[0mcasted_key\u001b[0m\u001b[1;33m)\u001b[0m\u001b[1;33m\u001b[0m\u001b[1;33m\u001b[0m\u001b[0m\n\u001b[0m\u001b[0;32m   3362\u001b[0m             \u001b[1;32mexcept\u001b[0m \u001b[0mKeyError\u001b[0m \u001b[1;32mas\u001b[0m \u001b[0merr\u001b[0m\u001b[1;33m:\u001b[0m\u001b[1;33m\u001b[0m\u001b[1;33m\u001b[0m\u001b[0m\n",
      "\u001b[1;32m~\\anaconda3\\lib\\site-packages\\pandas\\_libs\\index.pyx\u001b[0m in \u001b[0;36mpandas._libs.index.IndexEngine.get_loc\u001b[1;34m()\u001b[0m\n",
      "\u001b[1;32m~\\anaconda3\\lib\\site-packages\\pandas\\_libs\\index.pyx\u001b[0m in \u001b[0;36mpandas._libs.index.IndexEngine.get_loc\u001b[1;34m()\u001b[0m\n",
      "\u001b[1;32mpandas\\_libs\\hashtable_class_helper.pxi\u001b[0m in \u001b[0;36mpandas._libs.hashtable.PyObjectHashTable.get_item\u001b[1;34m()\u001b[0m\n",
      "\u001b[1;32mpandas\\_libs\\hashtable_class_helper.pxi\u001b[0m in \u001b[0;36mpandas._libs.hashtable.PyObjectHashTable.get_item\u001b[1;34m()\u001b[0m\n",
      "\u001b[1;31mKeyError\u001b[0m: 2",
      "\nThe above exception was the direct cause of the following exception:\n",
      "\u001b[1;31mKeyError\u001b[0m                                  Traceback (most recent call last)",
      "\u001b[1;32m~\\AppData\\Local\\Temp/ipykernel_5024/1079450954.py\u001b[0m in \u001b[0;36m<module>\u001b[1;34m\u001b[0m\n\u001b[1;32m----> 1\u001b[1;33m \u001b[0mmultiple_columns\u001b[0m\u001b[1;33m[\u001b[0m\u001b[1;36m2\u001b[0m\u001b[1;33m]\u001b[0m\u001b[1;31m###error as pandas does not know whether it is 2nd row or 3rd index so we have to explicitly define by indexing.\u001b[0m\u001b[1;33m\u001b[0m\u001b[1;33m\u001b[0m\u001b[0m\n\u001b[0m",
      "\u001b[1;32m~\\anaconda3\\lib\\site-packages\\pandas\\core\\frame.py\u001b[0m in \u001b[0;36m__getitem__\u001b[1;34m(self, key)\u001b[0m\n\u001b[0;32m   3456\u001b[0m             \u001b[1;32mif\u001b[0m \u001b[0mself\u001b[0m\u001b[1;33m.\u001b[0m\u001b[0mcolumns\u001b[0m\u001b[1;33m.\u001b[0m\u001b[0mnlevels\u001b[0m \u001b[1;33m>\u001b[0m \u001b[1;36m1\u001b[0m\u001b[1;33m:\u001b[0m\u001b[1;33m\u001b[0m\u001b[1;33m\u001b[0m\u001b[0m\n\u001b[0;32m   3457\u001b[0m                 \u001b[1;32mreturn\u001b[0m \u001b[0mself\u001b[0m\u001b[1;33m.\u001b[0m\u001b[0m_getitem_multilevel\u001b[0m\u001b[1;33m(\u001b[0m\u001b[0mkey\u001b[0m\u001b[1;33m)\u001b[0m\u001b[1;33m\u001b[0m\u001b[1;33m\u001b[0m\u001b[0m\n\u001b[1;32m-> 3458\u001b[1;33m             \u001b[0mindexer\u001b[0m \u001b[1;33m=\u001b[0m \u001b[0mself\u001b[0m\u001b[1;33m.\u001b[0m\u001b[0mcolumns\u001b[0m\u001b[1;33m.\u001b[0m\u001b[0mget_loc\u001b[0m\u001b[1;33m(\u001b[0m\u001b[0mkey\u001b[0m\u001b[1;33m)\u001b[0m\u001b[1;33m\u001b[0m\u001b[1;33m\u001b[0m\u001b[0m\n\u001b[0m\u001b[0;32m   3459\u001b[0m             \u001b[1;32mif\u001b[0m \u001b[0mis_integer\u001b[0m\u001b[1;33m(\u001b[0m\u001b[0mindexer\u001b[0m\u001b[1;33m)\u001b[0m\u001b[1;33m:\u001b[0m\u001b[1;33m\u001b[0m\u001b[1;33m\u001b[0m\u001b[0m\n\u001b[0;32m   3460\u001b[0m                 \u001b[0mindexer\u001b[0m \u001b[1;33m=\u001b[0m \u001b[1;33m[\u001b[0m\u001b[0mindexer\u001b[0m\u001b[1;33m]\u001b[0m\u001b[1;33m\u001b[0m\u001b[1;33m\u001b[0m\u001b[0m\n",
      "\u001b[1;32m~\\anaconda3\\lib\\site-packages\\pandas\\core\\indexes\\base.py\u001b[0m in \u001b[0;36mget_loc\u001b[1;34m(self, key, method, tolerance)\u001b[0m\n\u001b[0;32m   3361\u001b[0m                 \u001b[1;32mreturn\u001b[0m \u001b[0mself\u001b[0m\u001b[1;33m.\u001b[0m\u001b[0m_engine\u001b[0m\u001b[1;33m.\u001b[0m\u001b[0mget_loc\u001b[0m\u001b[1;33m(\u001b[0m\u001b[0mcasted_key\u001b[0m\u001b[1;33m)\u001b[0m\u001b[1;33m\u001b[0m\u001b[1;33m\u001b[0m\u001b[0m\n\u001b[0;32m   3362\u001b[0m             \u001b[1;32mexcept\u001b[0m \u001b[0mKeyError\u001b[0m \u001b[1;32mas\u001b[0m \u001b[0merr\u001b[0m\u001b[1;33m:\u001b[0m\u001b[1;33m\u001b[0m\u001b[1;33m\u001b[0m\u001b[0m\n\u001b[1;32m-> 3363\u001b[1;33m                 \u001b[1;32mraise\u001b[0m \u001b[0mKeyError\u001b[0m\u001b[1;33m(\u001b[0m\u001b[0mkey\u001b[0m\u001b[1;33m)\u001b[0m \u001b[1;32mfrom\u001b[0m \u001b[0merr\u001b[0m\u001b[1;33m\u001b[0m\u001b[1;33m\u001b[0m\u001b[0m\n\u001b[0m\u001b[0;32m   3364\u001b[0m \u001b[1;33m\u001b[0m\u001b[0m\n\u001b[0;32m   3365\u001b[0m         \u001b[1;32mif\u001b[0m \u001b[0mis_scalar\u001b[0m\u001b[1;33m(\u001b[0m\u001b[0mkey\u001b[0m\u001b[1;33m)\u001b[0m \u001b[1;32mand\u001b[0m \u001b[0misna\u001b[0m\u001b[1;33m(\u001b[0m\u001b[0mkey\u001b[0m\u001b[1;33m)\u001b[0m \u001b[1;32mand\u001b[0m \u001b[1;32mnot\u001b[0m \u001b[0mself\u001b[0m\u001b[1;33m.\u001b[0m\u001b[0mhasnans\u001b[0m\u001b[1;33m:\u001b[0m\u001b[1;33m\u001b[0m\u001b[1;33m\u001b[0m\u001b[0m\n",
      "\u001b[1;31mKeyError\u001b[0m: 2"
     ]
    }
   ],
   "source": [
    "multiple_columns[2]###error as pandas does not know whether it is 2nd row or 3rd index so we have to explicitly define by indexing."
   ]
  },
  {
   "cell_type": "code",
   "execution_count": 24,
   "id": "d8377829-597a-4570-8baf-16c5d3a3b6d9",
   "metadata": {},
   "outputs": [
    {
     "data": {
      "text/html": [
       "<div>\n",
       "<style scoped>\n",
       "    .dataframe tbody tr th:only-of-type {\n",
       "        vertical-align: middle;\n",
       "    }\n",
       "\n",
       "    .dataframe tbody tr th {\n",
       "        vertical-align: top;\n",
       "    }\n",
       "\n",
       "    .dataframe thead th {\n",
       "        text-align: right;\n",
       "    }\n",
       "</style>\n",
       "<table border=\"1\" class=\"dataframe\">\n",
       "  <thead>\n",
       "    <tr style=\"text-align: right;\">\n",
       "      <th></th>\n",
       "      <th>Ord_id</th>\n",
       "      <th>Prod_id</th>\n",
       "      <th>Ship_id</th>\n",
       "      <th>Cust_id</th>\n",
       "      <th>Sales</th>\n",
       "      <th>Discount</th>\n",
       "      <th>Order_Quantity</th>\n",
       "      <th>Profit</th>\n",
       "      <th>Shipping_Cost</th>\n",
       "      <th>Product_Base_Margin</th>\n",
       "    </tr>\n",
       "  </thead>\n",
       "  <tbody>\n",
       "    <tr>\n",
       "      <th>0</th>\n",
       "      <td>Ord_5446</td>\n",
       "      <td>Prod_16</td>\n",
       "      <td>SHP_7609</td>\n",
       "      <td>Cust_1818</td>\n",
       "      <td>136.8100</td>\n",
       "      <td>0.01</td>\n",
       "      <td>23</td>\n",
       "      <td>-30.51</td>\n",
       "      <td>3.60</td>\n",
       "      <td>0.56</td>\n",
       "    </tr>\n",
       "    <tr>\n",
       "      <th>1</th>\n",
       "      <td>Ord_5406</td>\n",
       "      <td>Prod_13</td>\n",
       "      <td>SHP_7549</td>\n",
       "      <td>Cust_1818</td>\n",
       "      <td>42.2700</td>\n",
       "      <td>0.01</td>\n",
       "      <td>13</td>\n",
       "      <td>4.56</td>\n",
       "      <td>0.93</td>\n",
       "      <td>0.54</td>\n",
       "    </tr>\n",
       "    <tr>\n",
       "      <th>2</th>\n",
       "      <td>Ord_5446</td>\n",
       "      <td>Prod_4</td>\n",
       "      <td>SHP_7610</td>\n",
       "      <td>Cust_1818</td>\n",
       "      <td>4701.6900</td>\n",
       "      <td>0.00</td>\n",
       "      <td>26</td>\n",
       "      <td>1148.90</td>\n",
       "      <td>2.50</td>\n",
       "      <td>0.59</td>\n",
       "    </tr>\n",
       "    <tr>\n",
       "      <th>3</th>\n",
       "      <td>Ord_5456</td>\n",
       "      <td>Prod_6</td>\n",
       "      <td>SHP_7625</td>\n",
       "      <td>Cust_1818</td>\n",
       "      <td>2337.8900</td>\n",
       "      <td>0.09</td>\n",
       "      <td>43</td>\n",
       "      <td>729.34</td>\n",
       "      <td>14.30</td>\n",
       "      <td>0.37</td>\n",
       "    </tr>\n",
       "    <tr>\n",
       "      <th>4</th>\n",
       "      <td>Ord_5485</td>\n",
       "      <td>Prod_17</td>\n",
       "      <td>SHP_7664</td>\n",
       "      <td>Cust_1818</td>\n",
       "      <td>4233.1500</td>\n",
       "      <td>0.08</td>\n",
       "      <td>35</td>\n",
       "      <td>1219.87</td>\n",
       "      <td>26.30</td>\n",
       "      <td>0.38</td>\n",
       "    </tr>\n",
       "    <tr>\n",
       "      <th>...</th>\n",
       "      <td>...</td>\n",
       "      <td>...</td>\n",
       "      <td>...</td>\n",
       "      <td>...</td>\n",
       "      <td>...</td>\n",
       "      <td>...</td>\n",
       "      <td>...</td>\n",
       "      <td>...</td>\n",
       "      <td>...</td>\n",
       "      <td>...</td>\n",
       "    </tr>\n",
       "    <tr>\n",
       "      <th>8394</th>\n",
       "      <td>Ord_5353</td>\n",
       "      <td>Prod_4</td>\n",
       "      <td>SHP_7479</td>\n",
       "      <td>Cust_1798</td>\n",
       "      <td>2841.4395</td>\n",
       "      <td>0.08</td>\n",
       "      <td>28</td>\n",
       "      <td>374.63</td>\n",
       "      <td>7.69</td>\n",
       "      <td>0.59</td>\n",
       "    </tr>\n",
       "    <tr>\n",
       "      <th>8395</th>\n",
       "      <td>Ord_5411</td>\n",
       "      <td>Prod_6</td>\n",
       "      <td>SHP_7555</td>\n",
       "      <td>Cust_1798</td>\n",
       "      <td>127.1600</td>\n",
       "      <td>0.10</td>\n",
       "      <td>20</td>\n",
       "      <td>-74.03</td>\n",
       "      <td>6.92</td>\n",
       "      <td>0.37</td>\n",
       "    </tr>\n",
       "    <tr>\n",
       "      <th>8396</th>\n",
       "      <td>Ord_5388</td>\n",
       "      <td>Prod_6</td>\n",
       "      <td>SHP_7524</td>\n",
       "      <td>Cust_1798</td>\n",
       "      <td>243.0500</td>\n",
       "      <td>0.02</td>\n",
       "      <td>39</td>\n",
       "      <td>-70.85</td>\n",
       "      <td>5.35</td>\n",
       "      <td>0.40</td>\n",
       "    </tr>\n",
       "    <tr>\n",
       "      <th>8397</th>\n",
       "      <td>Ord_5348</td>\n",
       "      <td>Prod_15</td>\n",
       "      <td>SHP_7469</td>\n",
       "      <td>Cust_1798</td>\n",
       "      <td>3872.8700</td>\n",
       "      <td>0.03</td>\n",
       "      <td>23</td>\n",
       "      <td>565.34</td>\n",
       "      <td>30.00</td>\n",
       "      <td>0.62</td>\n",
       "    </tr>\n",
       "    <tr>\n",
       "      <th>8398</th>\n",
       "      <td>Ord_5459</td>\n",
       "      <td>Prod_6</td>\n",
       "      <td>SHP_7628</td>\n",
       "      <td>Cust_1798</td>\n",
       "      <td>603.6900</td>\n",
       "      <td>0.00</td>\n",
       "      <td>47</td>\n",
       "      <td>131.39</td>\n",
       "      <td>4.86</td>\n",
       "      <td>0.38</td>\n",
       "    </tr>\n",
       "  </tbody>\n",
       "</table>\n",
       "<p>8399 rows × 10 columns</p>\n",
       "</div>"
      ],
      "text/plain": [
       "        Ord_id  Prod_id   Ship_id    Cust_id      Sales  Discount  \\\n",
       "0     Ord_5446  Prod_16  SHP_7609  Cust_1818   136.8100      0.01   \n",
       "1     Ord_5406  Prod_13  SHP_7549  Cust_1818    42.2700      0.01   \n",
       "2     Ord_5446   Prod_4  SHP_7610  Cust_1818  4701.6900      0.00   \n",
       "3     Ord_5456   Prod_6  SHP_7625  Cust_1818  2337.8900      0.09   \n",
       "4     Ord_5485  Prod_17  SHP_7664  Cust_1818  4233.1500      0.08   \n",
       "...        ...      ...       ...        ...        ...       ...   \n",
       "8394  Ord_5353   Prod_4  SHP_7479  Cust_1798  2841.4395      0.08   \n",
       "8395  Ord_5411   Prod_6  SHP_7555  Cust_1798   127.1600      0.10   \n",
       "8396  Ord_5388   Prod_6  SHP_7524  Cust_1798   243.0500      0.02   \n",
       "8397  Ord_5348  Prod_15  SHP_7469  Cust_1798  3872.8700      0.03   \n",
       "8398  Ord_5459   Prod_6  SHP_7628  Cust_1798   603.6900      0.00   \n",
       "\n",
       "      Order_Quantity   Profit  Shipping_Cost  Product_Base_Margin  \n",
       "0                 23   -30.51           3.60                 0.56  \n",
       "1                 13     4.56           0.93                 0.54  \n",
       "2                 26  1148.90           2.50                 0.59  \n",
       "3                 43   729.34          14.30                 0.37  \n",
       "4                 35  1219.87          26.30                 0.38  \n",
       "...              ...      ...            ...                  ...  \n",
       "8394              28   374.63           7.69                 0.59  \n",
       "8395              20   -74.03           6.92                 0.37  \n",
       "8396              39   -70.85           5.35                 0.40  \n",
       "8397              23   565.34          30.00                 0.62  \n",
       "8398              47   131.39           4.86                 0.38  \n",
       "\n",
       "[8399 rows x 10 columns]"
      ]
     },
     "execution_count": 24,
     "metadata": {},
     "output_type": "execute_result"
    }
   ],
   "source": [
    "marketfact_df"
   ]
  },
  {
   "cell_type": "code",
   "execution_count": 26,
   "id": "2f1b257c-c5b0-4048-8c15-f891ac39e65c",
   "metadata": {},
   "outputs": [
    {
     "data": {
      "text/html": [
       "<div>\n",
       "<style scoped>\n",
       "    .dataframe tbody tr th:only-of-type {\n",
       "        vertical-align: middle;\n",
       "    }\n",
       "\n",
       "    .dataframe tbody tr th {\n",
       "        vertical-align: top;\n",
       "    }\n",
       "\n",
       "    .dataframe thead th {\n",
       "        text-align: right;\n",
       "    }\n",
       "</style>\n",
       "<table border=\"1\" class=\"dataframe\">\n",
       "  <thead>\n",
       "    <tr style=\"text-align: right;\">\n",
       "      <th></th>\n",
       "      <th>Ord_id</th>\n",
       "      <th>Prod_id</th>\n",
       "      <th>Ship_id</th>\n",
       "      <th>Cust_id</th>\n",
       "      <th>Sales</th>\n",
       "      <th>Discount</th>\n",
       "      <th>Order_Quantity</th>\n",
       "      <th>Profit</th>\n",
       "      <th>Shipping_Cost</th>\n",
       "      <th>Product_Base_Margin</th>\n",
       "    </tr>\n",
       "  </thead>\n",
       "  <tbody>\n",
       "    <tr>\n",
       "      <th>0</th>\n",
       "      <td>Ord_5446</td>\n",
       "      <td>Prod_16</td>\n",
       "      <td>SHP_7609</td>\n",
       "      <td>Cust_1818</td>\n",
       "      <td>136.8100</td>\n",
       "      <td>0.01</td>\n",
       "      <td>23</td>\n",
       "      <td>-30.51</td>\n",
       "      <td>3.60</td>\n",
       "      <td>0.56</td>\n",
       "    </tr>\n",
       "    <tr>\n",
       "      <th>1</th>\n",
       "      <td>Ord_5406</td>\n",
       "      <td>Prod_13</td>\n",
       "      <td>SHP_7549</td>\n",
       "      <td>Cust_1818</td>\n",
       "      <td>42.2700</td>\n",
       "      <td>0.01</td>\n",
       "      <td>13</td>\n",
       "      <td>4.56</td>\n",
       "      <td>0.93</td>\n",
       "      <td>0.54</td>\n",
       "    </tr>\n",
       "    <tr>\n",
       "      <th>2</th>\n",
       "      <td>Ord_5446</td>\n",
       "      <td>Prod_4</td>\n",
       "      <td>SHP_7610</td>\n",
       "      <td>Cust_1818</td>\n",
       "      <td>4701.6900</td>\n",
       "      <td>0.00</td>\n",
       "      <td>26</td>\n",
       "      <td>1148.90</td>\n",
       "      <td>2.50</td>\n",
       "      <td>0.59</td>\n",
       "    </tr>\n",
       "    <tr>\n",
       "      <th>3</th>\n",
       "      <td>Ord_5456</td>\n",
       "      <td>Prod_6</td>\n",
       "      <td>SHP_7625</td>\n",
       "      <td>Cust_1818</td>\n",
       "      <td>2337.8900</td>\n",
       "      <td>0.09</td>\n",
       "      <td>43</td>\n",
       "      <td>729.34</td>\n",
       "      <td>14.30</td>\n",
       "      <td>0.37</td>\n",
       "    </tr>\n",
       "    <tr>\n",
       "      <th>4</th>\n",
       "      <td>Ord_5485</td>\n",
       "      <td>Prod_17</td>\n",
       "      <td>SHP_7664</td>\n",
       "      <td>Cust_1818</td>\n",
       "      <td>4233.1500</td>\n",
       "      <td>0.08</td>\n",
       "      <td>35</td>\n",
       "      <td>1219.87</td>\n",
       "      <td>26.30</td>\n",
       "      <td>0.38</td>\n",
       "    </tr>\n",
       "    <tr>\n",
       "      <th>5</th>\n",
       "      <td>Ord_5446</td>\n",
       "      <td>Prod_6</td>\n",
       "      <td>SHP_7608</td>\n",
       "      <td>Cust_1818</td>\n",
       "      <td>164.0200</td>\n",
       "      <td>0.03</td>\n",
       "      <td>23</td>\n",
       "      <td>-47.64</td>\n",
       "      <td>6.15</td>\n",
       "      <td>0.37</td>\n",
       "    </tr>\n",
       "    <tr>\n",
       "      <th>6</th>\n",
       "      <td>Ord_31</td>\n",
       "      <td>Prod_12</td>\n",
       "      <td>SHP_41</td>\n",
       "      <td>Cust_26</td>\n",
       "      <td>14.7600</td>\n",
       "      <td>0.01</td>\n",
       "      <td>5</td>\n",
       "      <td>1.32</td>\n",
       "      <td>0.50</td>\n",
       "      <td>0.36</td>\n",
       "    </tr>\n",
       "    <tr>\n",
       "      <th>7</th>\n",
       "      <td>Ord_4725</td>\n",
       "      <td>Prod_4</td>\n",
       "      <td>SHP_6593</td>\n",
       "      <td>Cust_1641</td>\n",
       "      <td>3410.1575</td>\n",
       "      <td>0.10</td>\n",
       "      <td>48</td>\n",
       "      <td>1137.91</td>\n",
       "      <td>0.99</td>\n",
       "      <td>0.55</td>\n",
       "    </tr>\n",
       "    <tr>\n",
       "      <th>8</th>\n",
       "      <td>Ord_4725</td>\n",
       "      <td>Prod_13</td>\n",
       "      <td>SHP_6593</td>\n",
       "      <td>Cust_1641</td>\n",
       "      <td>162.0000</td>\n",
       "      <td>0.01</td>\n",
       "      <td>33</td>\n",
       "      <td>45.84</td>\n",
       "      <td>0.71</td>\n",
       "      <td>0.52</td>\n",
       "    </tr>\n",
       "    <tr>\n",
       "      <th>9</th>\n",
       "      <td>Ord_4725</td>\n",
       "      <td>Prod_6</td>\n",
       "      <td>SHP_6593</td>\n",
       "      <td>Cust_1641</td>\n",
       "      <td>57.2200</td>\n",
       "      <td>0.07</td>\n",
       "      <td>8</td>\n",
       "      <td>-27.72</td>\n",
       "      <td>6.60</td>\n",
       "      <td>0.37</td>\n",
       "    </tr>\n",
       "  </tbody>\n",
       "</table>\n",
       "</div>"
      ],
      "text/plain": [
       "     Ord_id  Prod_id   Ship_id    Cust_id      Sales  Discount  \\\n",
       "0  Ord_5446  Prod_16  SHP_7609  Cust_1818   136.8100      0.01   \n",
       "1  Ord_5406  Prod_13  SHP_7549  Cust_1818    42.2700      0.01   \n",
       "2  Ord_5446   Prod_4  SHP_7610  Cust_1818  4701.6900      0.00   \n",
       "3  Ord_5456   Prod_6  SHP_7625  Cust_1818  2337.8900      0.09   \n",
       "4  Ord_5485  Prod_17  SHP_7664  Cust_1818  4233.1500      0.08   \n",
       "5  Ord_5446   Prod_6  SHP_7608  Cust_1818   164.0200      0.03   \n",
       "6    Ord_31  Prod_12    SHP_41    Cust_26    14.7600      0.01   \n",
       "7  Ord_4725   Prod_4  SHP_6593  Cust_1641  3410.1575      0.10   \n",
       "8  Ord_4725  Prod_13  SHP_6593  Cust_1641   162.0000      0.01   \n",
       "9  Ord_4725   Prod_6  SHP_6593  Cust_1641    57.2200      0.07   \n",
       "\n",
       "   Order_Quantity   Profit  Shipping_Cost  Product_Base_Margin  \n",
       "0              23   -30.51           3.60                 0.56  \n",
       "1              13     4.56           0.93                 0.54  \n",
       "2              26  1148.90           2.50                 0.59  \n",
       "3              43   729.34          14.30                 0.37  \n",
       "4              35  1219.87          26.30                 0.38  \n",
       "5              23   -47.64           6.15                 0.37  \n",
       "6               5     1.32           0.50                 0.36  \n",
       "7              48  1137.91           0.99                 0.55  \n",
       "8              33    45.84           0.71                 0.52  \n",
       "9               8   -27.72           6.60                 0.37  "
      ]
     },
     "execution_count": 26,
     "metadata": {},
     "output_type": "execute_result"
    }
   ],
   "source": [
    "marketfact_df1=marketfact_df[0:10]\n",
    "marketfact_df1"
   ]
  },
  {
   "cell_type": "code",
   "execution_count": 28,
   "id": "d3dd0308-7447-4c2a-9762-753bbc6e6f91",
   "metadata": {},
   "outputs": [
    {
     "data": {
      "text/plain": [
       "4701.69"
      ]
     },
     "execution_count": 28,
     "metadata": {},
     "output_type": "execute_result"
    }
   ],
   "source": [
    "marketfact_df1.iloc[2,4]# correspond to 3rd and 5th column."
   ]
  },
  {
   "cell_type": "markdown",
   "id": "ad9eb65f-ea6d-459e-93b3-499f6bb5ce00",
   "metadata": {},
   "source": [
    "marketfact_df1.iloc[2,4]"
   ]
  },
  {
   "cell_type": "code",
   "execution_count": 30,
   "id": "6857c68a-771a-4f43-ad33-d2385a472634",
   "metadata": {},
   "outputs": [
    {
     "data": {
      "text/plain": [
       "Ord_id                  Ord_5446\n",
       "Prod_id                   Prod_4\n",
       "Ship_id                 SHP_7610\n",
       "Cust_id                Cust_1818\n",
       "Sales                    4701.69\n",
       "Discount                     0.0\n",
       "Order_Quantity                26\n",
       "Profit                    1148.9\n",
       "Shipping_Cost                2.5\n",
       "Product_Base_Margin         0.59\n",
       "Name: 2, dtype: object"
      ]
     },
     "execution_count": 30,
     "metadata": {},
     "output_type": "execute_result"
    }
   ],
   "source": [
    "marketfact_df1.iloc[2] #corresponds to a single row and all columns. "
   ]
  },
  {
   "cell_type": "code",
   "execution_count": 32,
   "id": "43a8222c-276c-424f-9dca-9cd52a8a76d4",
   "metadata": {},
   "outputs": [
    {
     "data": {
      "text/html": [
       "<div>\n",
       "<style scoped>\n",
       "    .dataframe tbody tr th:only-of-type {\n",
       "        vertical-align: middle;\n",
       "    }\n",
       "\n",
       "    .dataframe tbody tr th {\n",
       "        vertical-align: top;\n",
       "    }\n",
       "\n",
       "    .dataframe thead th {\n",
       "        text-align: right;\n",
       "    }\n",
       "</style>\n",
       "<table border=\"1\" class=\"dataframe\">\n",
       "  <thead>\n",
       "    <tr style=\"text-align: right;\">\n",
       "      <th></th>\n",
       "      <th>Ord_id</th>\n",
       "      <th>Prod_id</th>\n",
       "      <th>Ship_id</th>\n",
       "      <th>Cust_id</th>\n",
       "      <th>Sales</th>\n",
       "      <th>Discount</th>\n",
       "      <th>Order_Quantity</th>\n",
       "      <th>Profit</th>\n",
       "      <th>Shipping_Cost</th>\n",
       "      <th>Product_Base_Margin</th>\n",
       "    </tr>\n",
       "  </thead>\n",
       "  <tbody>\n",
       "    <tr>\n",
       "      <th>3</th>\n",
       "      <td>Ord_5456</td>\n",
       "      <td>Prod_6</td>\n",
       "      <td>SHP_7625</td>\n",
       "      <td>Cust_1818</td>\n",
       "      <td>2337.8900</td>\n",
       "      <td>0.09</td>\n",
       "      <td>43</td>\n",
       "      <td>729.34</td>\n",
       "      <td>14.30</td>\n",
       "      <td>0.37</td>\n",
       "    </tr>\n",
       "    <tr>\n",
       "      <th>7</th>\n",
       "      <td>Ord_4725</td>\n",
       "      <td>Prod_4</td>\n",
       "      <td>SHP_6593</td>\n",
       "      <td>Cust_1641</td>\n",
       "      <td>3410.1575</td>\n",
       "      <td>0.10</td>\n",
       "      <td>48</td>\n",
       "      <td>1137.91</td>\n",
       "      <td>0.99</td>\n",
       "      <td>0.55</td>\n",
       "    </tr>\n",
       "    <tr>\n",
       "      <th>8</th>\n",
       "      <td>Ord_4725</td>\n",
       "      <td>Prod_13</td>\n",
       "      <td>SHP_6593</td>\n",
       "      <td>Cust_1641</td>\n",
       "      <td>162.0000</td>\n",
       "      <td>0.01</td>\n",
       "      <td>33</td>\n",
       "      <td>45.84</td>\n",
       "      <td>0.71</td>\n",
       "      <td>0.52</td>\n",
       "    </tr>\n",
       "  </tbody>\n",
       "</table>\n",
       "</div>"
      ],
      "text/plain": [
       "     Ord_id  Prod_id   Ship_id    Cust_id      Sales  Discount  \\\n",
       "3  Ord_5456   Prod_6  SHP_7625  Cust_1818  2337.8900      0.09   \n",
       "7  Ord_4725   Prod_4  SHP_6593  Cust_1641  3410.1575      0.10   \n",
       "8  Ord_4725  Prod_13  SHP_6593  Cust_1641   162.0000      0.01   \n",
       "\n",
       "   Order_Quantity   Profit  Shipping_Cost  Product_Base_Margin  \n",
       "3              43   729.34          14.30                 0.37  \n",
       "7              48  1137.91           0.99                 0.55  \n",
       "8              33    45.84           0.71                 0.52  "
      ]
     },
     "execution_count": 32,
     "metadata": {},
     "output_type": "execute_result"
    }
   ],
   "source": [
    "marketfact_df1.iloc[[3,7,8]]#multiple rows"
   ]
  },
  {
   "cell_type": "code",
   "execution_count": 34,
   "id": "2e7fb6f1-3f03-46e1-a86e-ae201211cc56",
   "metadata": {},
   "outputs": [
    {
     "data": {
      "text/html": [
       "<div>\n",
       "<style scoped>\n",
       "    .dataframe tbody tr th:only-of-type {\n",
       "        vertical-align: middle;\n",
       "    }\n",
       "\n",
       "    .dataframe tbody tr th {\n",
       "        vertical-align: top;\n",
       "    }\n",
       "\n",
       "    .dataframe thead th {\n",
       "        text-align: right;\n",
       "    }\n",
       "</style>\n",
       "<table border=\"1\" class=\"dataframe\">\n",
       "  <thead>\n",
       "    <tr style=\"text-align: right;\">\n",
       "      <th></th>\n",
       "      <th>Ord_id</th>\n",
       "      <th>Prod_id</th>\n",
       "      <th>Ship_id</th>\n",
       "      <th>Cust_id</th>\n",
       "      <th>Sales</th>\n",
       "      <th>Discount</th>\n",
       "      <th>Order_Quantity</th>\n",
       "      <th>Profit</th>\n",
       "      <th>Shipping_Cost</th>\n",
       "      <th>Product_Base_Margin</th>\n",
       "    </tr>\n",
       "  </thead>\n",
       "  <tbody>\n",
       "    <tr>\n",
       "      <th>4</th>\n",
       "      <td>Ord_5485</td>\n",
       "      <td>Prod_17</td>\n",
       "      <td>SHP_7664</td>\n",
       "      <td>Cust_1818</td>\n",
       "      <td>4233.1500</td>\n",
       "      <td>0.08</td>\n",
       "      <td>35</td>\n",
       "      <td>1219.87</td>\n",
       "      <td>26.30</td>\n",
       "      <td>0.38</td>\n",
       "    </tr>\n",
       "    <tr>\n",
       "      <th>5</th>\n",
       "      <td>Ord_5446</td>\n",
       "      <td>Prod_6</td>\n",
       "      <td>SHP_7608</td>\n",
       "      <td>Cust_1818</td>\n",
       "      <td>164.0200</td>\n",
       "      <td>0.03</td>\n",
       "      <td>23</td>\n",
       "      <td>-47.64</td>\n",
       "      <td>6.15</td>\n",
       "      <td>0.37</td>\n",
       "    </tr>\n",
       "    <tr>\n",
       "      <th>6</th>\n",
       "      <td>Ord_31</td>\n",
       "      <td>Prod_12</td>\n",
       "      <td>SHP_41</td>\n",
       "      <td>Cust_26</td>\n",
       "      <td>14.7600</td>\n",
       "      <td>0.01</td>\n",
       "      <td>5</td>\n",
       "      <td>1.32</td>\n",
       "      <td>0.50</td>\n",
       "      <td>0.36</td>\n",
       "    </tr>\n",
       "    <tr>\n",
       "      <th>7</th>\n",
       "      <td>Ord_4725</td>\n",
       "      <td>Prod_4</td>\n",
       "      <td>SHP_6593</td>\n",
       "      <td>Cust_1641</td>\n",
       "      <td>3410.1575</td>\n",
       "      <td>0.10</td>\n",
       "      <td>48</td>\n",
       "      <td>1137.91</td>\n",
       "      <td>0.99</td>\n",
       "      <td>0.55</td>\n",
       "    </tr>\n",
       "  </tbody>\n",
       "</table>\n",
       "</div>"
      ],
      "text/plain": [
       "     Ord_id  Prod_id   Ship_id    Cust_id      Sales  Discount  \\\n",
       "4  Ord_5485  Prod_17  SHP_7664  Cust_1818  4233.1500      0.08   \n",
       "5  Ord_5446   Prod_6  SHP_7608  Cust_1818   164.0200      0.03   \n",
       "6    Ord_31  Prod_12    SHP_41    Cust_26    14.7600      0.01   \n",
       "7  Ord_4725   Prod_4  SHP_6593  Cust_1641  3410.1575      0.10   \n",
       "\n",
       "   Order_Quantity   Profit  Shipping_Cost  Product_Base_Margin  \n",
       "4              35  1219.87          26.30                 0.38  \n",
       "5              23   -47.64           6.15                 0.37  \n",
       "6               5     1.32           0.50                 0.36  \n",
       "7              48  1137.91           0.99                 0.55  "
      ]
     },
     "execution_count": 34,
     "metadata": {},
     "output_type": "execute_result"
    }
   ],
   "source": [
    "marketfact_df1.iloc[4:8]#multiple rows and 8th row not included."
   ]
  },
  {
   "cell_type": "code",
   "execution_count": 37,
   "id": "083a229e-f714-4f82-ad27-4e138d977b08",
   "metadata": {},
   "outputs": [
    {
     "data": {
      "text/plain": [
       "0    SHP_7609\n",
       "1    SHP_7549\n",
       "2    SHP_7610\n",
       "3    SHP_7625\n",
       "4    SHP_7664\n",
       "5    SHP_7608\n",
       "6      SHP_41\n",
       "7    SHP_6593\n",
       "8    SHP_6593\n",
       "9    SHP_6593\n",
       "Name: Ship_id, dtype: object"
      ]
     },
     "execution_count": 37,
     "metadata": {},
     "output_type": "execute_result"
    }
   ],
   "source": [
    "marketfact_df1.iloc[:,2]#selecting a single column here third column."
   ]
  },
  {
   "cell_type": "code",
   "execution_count": 39,
   "id": "b4249d8e-3dda-41f1-bb6c-1483c8afe749",
   "metadata": {},
   "outputs": [
    {
     "data": {
      "text/html": [
       "<div>\n",
       "<style scoped>\n",
       "    .dataframe tbody tr th:only-of-type {\n",
       "        vertical-align: middle;\n",
       "    }\n",
       "\n",
       "    .dataframe tbody tr th {\n",
       "        vertical-align: top;\n",
       "    }\n",
       "\n",
       "    .dataframe thead th {\n",
       "        text-align: right;\n",
       "    }\n",
       "</style>\n",
       "<table border=\"1\" class=\"dataframe\">\n",
       "  <thead>\n",
       "    <tr style=\"text-align: right;\">\n",
       "      <th></th>\n",
       "      <th>Cust_id</th>\n",
       "      <th>Sales</th>\n",
       "      <th>Discount</th>\n",
       "      <th>Order_Quantity</th>\n",
       "      <th>Profit</th>\n",
       "    </tr>\n",
       "  </thead>\n",
       "  <tbody>\n",
       "    <tr>\n",
       "      <th>0</th>\n",
       "      <td>Cust_1818</td>\n",
       "      <td>136.8100</td>\n",
       "      <td>0.01</td>\n",
       "      <td>23</td>\n",
       "      <td>-30.51</td>\n",
       "    </tr>\n",
       "    <tr>\n",
       "      <th>1</th>\n",
       "      <td>Cust_1818</td>\n",
       "      <td>42.2700</td>\n",
       "      <td>0.01</td>\n",
       "      <td>13</td>\n",
       "      <td>4.56</td>\n",
       "    </tr>\n",
       "    <tr>\n",
       "      <th>2</th>\n",
       "      <td>Cust_1818</td>\n",
       "      <td>4701.6900</td>\n",
       "      <td>0.00</td>\n",
       "      <td>26</td>\n",
       "      <td>1148.90</td>\n",
       "    </tr>\n",
       "    <tr>\n",
       "      <th>3</th>\n",
       "      <td>Cust_1818</td>\n",
       "      <td>2337.8900</td>\n",
       "      <td>0.09</td>\n",
       "      <td>43</td>\n",
       "      <td>729.34</td>\n",
       "    </tr>\n",
       "    <tr>\n",
       "      <th>4</th>\n",
       "      <td>Cust_1818</td>\n",
       "      <td>4233.1500</td>\n",
       "      <td>0.08</td>\n",
       "      <td>35</td>\n",
       "      <td>1219.87</td>\n",
       "    </tr>\n",
       "    <tr>\n",
       "      <th>5</th>\n",
       "      <td>Cust_1818</td>\n",
       "      <td>164.0200</td>\n",
       "      <td>0.03</td>\n",
       "      <td>23</td>\n",
       "      <td>-47.64</td>\n",
       "    </tr>\n",
       "    <tr>\n",
       "      <th>6</th>\n",
       "      <td>Cust_26</td>\n",
       "      <td>14.7600</td>\n",
       "      <td>0.01</td>\n",
       "      <td>5</td>\n",
       "      <td>1.32</td>\n",
       "    </tr>\n",
       "    <tr>\n",
       "      <th>7</th>\n",
       "      <td>Cust_1641</td>\n",
       "      <td>3410.1575</td>\n",
       "      <td>0.10</td>\n",
       "      <td>48</td>\n",
       "      <td>1137.91</td>\n",
       "    </tr>\n",
       "    <tr>\n",
       "      <th>8</th>\n",
       "      <td>Cust_1641</td>\n",
       "      <td>162.0000</td>\n",
       "      <td>0.01</td>\n",
       "      <td>33</td>\n",
       "      <td>45.84</td>\n",
       "    </tr>\n",
       "    <tr>\n",
       "      <th>9</th>\n",
       "      <td>Cust_1641</td>\n",
       "      <td>57.2200</td>\n",
       "      <td>0.07</td>\n",
       "      <td>8</td>\n",
       "      <td>-27.72</td>\n",
       "    </tr>\n",
       "  </tbody>\n",
       "</table>\n",
       "</div>"
      ],
      "text/plain": [
       "     Cust_id      Sales  Discount  Order_Quantity   Profit\n",
       "0  Cust_1818   136.8100      0.01              23   -30.51\n",
       "1  Cust_1818    42.2700      0.01              13     4.56\n",
       "2  Cust_1818  4701.6900      0.00              26  1148.90\n",
       "3  Cust_1818  2337.8900      0.09              43   729.34\n",
       "4  Cust_1818  4233.1500      0.08              35  1219.87\n",
       "5  Cust_1818   164.0200      0.03              23   -47.64\n",
       "6    Cust_26    14.7600      0.01               5     1.32\n",
       "7  Cust_1641  3410.1575      0.10              48  1137.91\n",
       "8  Cust_1641   162.0000      0.01              33    45.84\n",
       "9  Cust_1641    57.2200      0.07               8   -27.72"
      ]
     },
     "execution_count": 39,
     "metadata": {},
     "output_type": "execute_result"
    }
   ],
   "source": [
    "marketfact_df1.iloc[:,3:8]#before , represents rows and after , represents columns."
   ]
  },
  {
   "cell_type": "code",
   "execution_count": 40,
   "id": "0a264ffa-76df-48fa-9a05-76bde7fef746",
   "metadata": {},
   "outputs": [
    {
     "data": {
      "text/html": [
       "<div>\n",
       "<style scoped>\n",
       "    .dataframe tbody tr th:only-of-type {\n",
       "        vertical-align: middle;\n",
       "    }\n",
       "\n",
       "    .dataframe tbody tr th {\n",
       "        vertical-align: top;\n",
       "    }\n",
       "\n",
       "    .dataframe thead th {\n",
       "        text-align: right;\n",
       "    }\n",
       "</style>\n",
       "<table border=\"1\" class=\"dataframe\">\n",
       "  <thead>\n",
       "    <tr style=\"text-align: right;\">\n",
       "      <th></th>\n",
       "      <th>Ship_id</th>\n",
       "      <th>Cust_id</th>\n",
       "      <th>Sales</th>\n",
       "    </tr>\n",
       "  </thead>\n",
       "  <tbody>\n",
       "    <tr>\n",
       "      <th>3</th>\n",
       "      <td>SHP_7625</td>\n",
       "      <td>Cust_1818</td>\n",
       "      <td>2337.89</td>\n",
       "    </tr>\n",
       "    <tr>\n",
       "      <th>4</th>\n",
       "      <td>SHP_7664</td>\n",
       "      <td>Cust_1818</td>\n",
       "      <td>4233.15</td>\n",
       "    </tr>\n",
       "    <tr>\n",
       "      <th>5</th>\n",
       "      <td>SHP_7608</td>\n",
       "      <td>Cust_1818</td>\n",
       "      <td>164.02</td>\n",
       "    </tr>\n",
       "  </tbody>\n",
       "</table>\n",
       "</div>"
      ],
      "text/plain": [
       "    Ship_id    Cust_id    Sales\n",
       "3  SHP_7625  Cust_1818  2337.89\n",
       "4  SHP_7664  Cust_1818  4233.15\n",
       "5  SHP_7608  Cust_1818   164.02"
      ]
     },
     "execution_count": 40,
     "metadata": {},
     "output_type": "execute_result"
    }
   ],
   "source": [
    "marketfact_df1.iloc[3:6,2:5]#(rows,columns)"
   ]
  },
  {
   "cell_type": "code",
   "execution_count": 44,
   "id": "97b7fbcf-78ea-4633-86f5-46e6e7c2ac22",
   "metadata": {},
   "outputs": [
    {
     "data": {
      "text/plain": [
       "4701.69"
      ]
     },
     "execution_count": 44,
     "metadata": {},
     "output_type": "execute_result"
    }
   ],
   "source": [
    "#label based indexing\n",
    "marketfact_df1.loc[2,'Sales']# prints 2nd label row and sales column."
   ]
  },
  {
   "cell_type": "code",
   "execution_count": 45,
   "id": "2b0143a7-131f-4e47-abde-876e40d254e8",
   "metadata": {},
   "outputs": [
    {
     "data": {
      "text/plain": [
       "Ord_id                  Ord_5446\n",
       "Prod_id                   Prod_6\n",
       "Ship_id                 SHP_7608\n",
       "Cust_id                Cust_1818\n",
       "Sales                     164.02\n",
       "Discount                    0.03\n",
       "Order_Quantity                23\n",
       "Profit                    -47.64\n",
       "Shipping_Cost               6.15\n",
       "Product_Base_Margin         0.37\n",
       "Name: 5, dtype: object"
      ]
     },
     "execution_count": 45,
     "metadata": {},
     "output_type": "execute_result"
    }
   ],
   "source": [
    "marketfact_df1.loc[5]#prints 5th label row"
   ]
  },
  {
   "cell_type": "code",
   "execution_count": 46,
   "id": "bafc84fb-ca72-4a24-9048-338633f4dcc8",
   "metadata": {},
   "outputs": [
    {
     "data": {
      "text/html": [
       "<div>\n",
       "<style scoped>\n",
       "    .dataframe tbody tr th:only-of-type {\n",
       "        vertical-align: middle;\n",
       "    }\n",
       "\n",
       "    .dataframe tbody tr th {\n",
       "        vertical-align: top;\n",
       "    }\n",
       "\n",
       "    .dataframe thead th {\n",
       "        text-align: right;\n",
       "    }\n",
       "</style>\n",
       "<table border=\"1\" class=\"dataframe\">\n",
       "  <thead>\n",
       "    <tr style=\"text-align: right;\">\n",
       "      <th></th>\n",
       "      <th>Ord_id</th>\n",
       "      <th>Prod_id</th>\n",
       "      <th>Ship_id</th>\n",
       "      <th>Cust_id</th>\n",
       "      <th>Sales</th>\n",
       "      <th>Discount</th>\n",
       "      <th>Order_Quantity</th>\n",
       "      <th>Profit</th>\n",
       "      <th>Shipping_Cost</th>\n",
       "      <th>Product_Base_Margin</th>\n",
       "    </tr>\n",
       "  </thead>\n",
       "  <tbody>\n",
       "    <tr>\n",
       "      <th>5</th>\n",
       "      <td>Ord_5446</td>\n",
       "      <td>Prod_6</td>\n",
       "      <td>SHP_7608</td>\n",
       "      <td>Cust_1818</td>\n",
       "      <td>164.0200</td>\n",
       "      <td>0.03</td>\n",
       "      <td>23</td>\n",
       "      <td>-47.64</td>\n",
       "      <td>6.15</td>\n",
       "      <td>0.37</td>\n",
       "    </tr>\n",
       "    <tr>\n",
       "      <th>6</th>\n",
       "      <td>Ord_31</td>\n",
       "      <td>Prod_12</td>\n",
       "      <td>SHP_41</td>\n",
       "      <td>Cust_26</td>\n",
       "      <td>14.7600</td>\n",
       "      <td>0.01</td>\n",
       "      <td>5</td>\n",
       "      <td>1.32</td>\n",
       "      <td>0.50</td>\n",
       "      <td>0.36</td>\n",
       "    </tr>\n",
       "    <tr>\n",
       "      <th>7</th>\n",
       "      <td>Ord_4725</td>\n",
       "      <td>Prod_4</td>\n",
       "      <td>SHP_6593</td>\n",
       "      <td>Cust_1641</td>\n",
       "      <td>3410.1575</td>\n",
       "      <td>0.10</td>\n",
       "      <td>48</td>\n",
       "      <td>1137.91</td>\n",
       "      <td>0.99</td>\n",
       "      <td>0.55</td>\n",
       "    </tr>\n",
       "  </tbody>\n",
       "</table>\n",
       "</div>"
      ],
      "text/plain": [
       "     Ord_id  Prod_id   Ship_id    Cust_id      Sales  Discount  \\\n",
       "5  Ord_5446   Prod_6  SHP_7608  Cust_1818   164.0200      0.03   \n",
       "6    Ord_31  Prod_12    SHP_41    Cust_26    14.7600      0.01   \n",
       "7  Ord_4725   Prod_4  SHP_6593  Cust_1641  3410.1575      0.10   \n",
       "\n",
       "   Order_Quantity   Profit  Shipping_Cost  Product_Base_Margin  \n",
       "5              23   -47.64           6.15                 0.37  \n",
       "6               5     1.32           0.50                 0.36  \n",
       "7              48  1137.91           0.99                 0.55  "
      ]
     },
     "execution_count": 46,
     "metadata": {},
     "output_type": "execute_result"
    }
   ],
   "source": [
    "marketfact_df1.loc[[5,6,7]]"
   ]
  },
  {
   "cell_type": "code",
   "execution_count": 47,
   "id": "26d31074-f750-4938-a086-9ef8d10ff8dc",
   "metadata": {},
   "outputs": [
    {
     "data": {
      "text/html": [
       "<div>\n",
       "<style scoped>\n",
       "    .dataframe tbody tr th:only-of-type {\n",
       "        vertical-align: middle;\n",
       "    }\n",
       "\n",
       "    .dataframe tbody tr th {\n",
       "        vertical-align: top;\n",
       "    }\n",
       "\n",
       "    .dataframe thead th {\n",
       "        text-align: right;\n",
       "    }\n",
       "</style>\n",
       "<table border=\"1\" class=\"dataframe\">\n",
       "  <thead>\n",
       "    <tr style=\"text-align: right;\">\n",
       "      <th></th>\n",
       "      <th>Ord_id</th>\n",
       "      <th>Prod_id</th>\n",
       "      <th>Ship_id</th>\n",
       "      <th>Cust_id</th>\n",
       "      <th>Sales</th>\n",
       "      <th>Discount</th>\n",
       "      <th>Order_Quantity</th>\n",
       "      <th>Profit</th>\n",
       "      <th>Shipping_Cost</th>\n",
       "      <th>Product_Base_Margin</th>\n",
       "    </tr>\n",
       "  </thead>\n",
       "  <tbody>\n",
       "    <tr>\n",
       "      <th>2</th>\n",
       "      <td>Ord_5446</td>\n",
       "      <td>Prod_4</td>\n",
       "      <td>SHP_7610</td>\n",
       "      <td>Cust_1818</td>\n",
       "      <td>4701.69</td>\n",
       "      <td>0.00</td>\n",
       "      <td>26</td>\n",
       "      <td>1148.90</td>\n",
       "      <td>2.50</td>\n",
       "      <td>0.59</td>\n",
       "    </tr>\n",
       "    <tr>\n",
       "      <th>3</th>\n",
       "      <td>Ord_5456</td>\n",
       "      <td>Prod_6</td>\n",
       "      <td>SHP_7625</td>\n",
       "      <td>Cust_1818</td>\n",
       "      <td>2337.89</td>\n",
       "      <td>0.09</td>\n",
       "      <td>43</td>\n",
       "      <td>729.34</td>\n",
       "      <td>14.30</td>\n",
       "      <td>0.37</td>\n",
       "    </tr>\n",
       "    <tr>\n",
       "      <th>4</th>\n",
       "      <td>Ord_5485</td>\n",
       "      <td>Prod_17</td>\n",
       "      <td>SHP_7664</td>\n",
       "      <td>Cust_1818</td>\n",
       "      <td>4233.15</td>\n",
       "      <td>0.08</td>\n",
       "      <td>35</td>\n",
       "      <td>1219.87</td>\n",
       "      <td>26.30</td>\n",
       "      <td>0.38</td>\n",
       "    </tr>\n",
       "    <tr>\n",
       "      <th>5</th>\n",
       "      <td>Ord_5446</td>\n",
       "      <td>Prod_6</td>\n",
       "      <td>SHP_7608</td>\n",
       "      <td>Cust_1818</td>\n",
       "      <td>164.02</td>\n",
       "      <td>0.03</td>\n",
       "      <td>23</td>\n",
       "      <td>-47.64</td>\n",
       "      <td>6.15</td>\n",
       "      <td>0.37</td>\n",
       "    </tr>\n",
       "  </tbody>\n",
       "</table>\n",
       "</div>"
      ],
      "text/plain": [
       "     Ord_id  Prod_id   Ship_id    Cust_id    Sales  Discount  Order_Quantity  \\\n",
       "2  Ord_5446   Prod_4  SHP_7610  Cust_1818  4701.69      0.00              26   \n",
       "3  Ord_5456   Prod_6  SHP_7625  Cust_1818  2337.89      0.09              43   \n",
       "4  Ord_5485  Prod_17  SHP_7664  Cust_1818  4233.15      0.08              35   \n",
       "5  Ord_5446   Prod_6  SHP_7608  Cust_1818   164.02      0.03              23   \n",
       "\n",
       "    Profit  Shipping_Cost  Product_Base_Margin  \n",
       "2  1148.90           2.50                 0.59  \n",
       "3   729.34          14.30                 0.37  \n",
       "4  1219.87          26.30                 0.38  \n",
       "5   -47.64           6.15                 0.37  "
      ]
     },
     "execution_count": 47,
     "metadata": {},
     "output_type": "execute_result"
    }
   ],
   "source": [
    "marketfact_df1.loc[2:5]"
   ]
  },
  {
   "cell_type": "code",
   "execution_count": 48,
   "id": "aa12dcb3-2b4c-4087-894b-18ea095ac0a9",
   "metadata": {},
   "outputs": [
    {
     "data": {
      "text/html": [
       "<div>\n",
       "<style scoped>\n",
       "    .dataframe tbody tr th:only-of-type {\n",
       "        vertical-align: middle;\n",
       "    }\n",
       "\n",
       "    .dataframe tbody tr th {\n",
       "        vertical-align: top;\n",
       "    }\n",
       "\n",
       "    .dataframe thead th {\n",
       "        text-align: right;\n",
       "    }\n",
       "</style>\n",
       "<table border=\"1\" class=\"dataframe\">\n",
       "  <thead>\n",
       "    <tr style=\"text-align: right;\">\n",
       "      <th></th>\n",
       "      <th>Ord_id</th>\n",
       "      <th>Prod_id</th>\n",
       "      <th>Ship_id</th>\n",
       "      <th>Cust_id</th>\n",
       "      <th>Sales</th>\n",
       "      <th>Discount</th>\n",
       "      <th>Order_Quantity</th>\n",
       "      <th>Profit</th>\n",
       "      <th>Shipping_Cost</th>\n",
       "      <th>Product_Base_Margin</th>\n",
       "    </tr>\n",
       "  </thead>\n",
       "  <tbody>\n",
       "    <tr>\n",
       "      <th>2</th>\n",
       "      <td>Ord_5446</td>\n",
       "      <td>Prod_4</td>\n",
       "      <td>SHP_7610</td>\n",
       "      <td>Cust_1818</td>\n",
       "      <td>4701.69</td>\n",
       "      <td>0.00</td>\n",
       "      <td>26</td>\n",
       "      <td>1148.90</td>\n",
       "      <td>2.50</td>\n",
       "      <td>0.59</td>\n",
       "    </tr>\n",
       "    <tr>\n",
       "      <th>3</th>\n",
       "      <td>Ord_5456</td>\n",
       "      <td>Prod_6</td>\n",
       "      <td>SHP_7625</td>\n",
       "      <td>Cust_1818</td>\n",
       "      <td>2337.89</td>\n",
       "      <td>0.09</td>\n",
       "      <td>43</td>\n",
       "      <td>729.34</td>\n",
       "      <td>14.30</td>\n",
       "      <td>0.37</td>\n",
       "    </tr>\n",
       "    <tr>\n",
       "      <th>4</th>\n",
       "      <td>Ord_5485</td>\n",
       "      <td>Prod_17</td>\n",
       "      <td>SHP_7664</td>\n",
       "      <td>Cust_1818</td>\n",
       "      <td>4233.15</td>\n",
       "      <td>0.08</td>\n",
       "      <td>35</td>\n",
       "      <td>1219.87</td>\n",
       "      <td>26.30</td>\n",
       "      <td>0.38</td>\n",
       "    </tr>\n",
       "    <tr>\n",
       "      <th>5</th>\n",
       "      <td>Ord_5446</td>\n",
       "      <td>Prod_6</td>\n",
       "      <td>SHP_7608</td>\n",
       "      <td>Cust_1818</td>\n",
       "      <td>164.02</td>\n",
       "      <td>0.03</td>\n",
       "      <td>23</td>\n",
       "      <td>-47.64</td>\n",
       "      <td>6.15</td>\n",
       "      <td>0.37</td>\n",
       "    </tr>\n",
       "  </tbody>\n",
       "</table>\n",
       "</div>"
      ],
      "text/plain": [
       "     Ord_id  Prod_id   Ship_id    Cust_id    Sales  Discount  Order_Quantity  \\\n",
       "2  Ord_5446   Prod_4  SHP_7610  Cust_1818  4701.69      0.00              26   \n",
       "3  Ord_5456   Prod_6  SHP_7625  Cust_1818  2337.89      0.09              43   \n",
       "4  Ord_5485  Prod_17  SHP_7664  Cust_1818  4233.15      0.08              35   \n",
       "5  Ord_5446   Prod_6  SHP_7608  Cust_1818   164.02      0.03              23   \n",
       "\n",
       "    Profit  Shipping_Cost  Product_Base_Margin  \n",
       "2  1148.90           2.50                 0.59  \n",
       "3   729.34          14.30                 0.37  \n",
       "4  1219.87          26.30                 0.38  \n",
       "5   -47.64           6.15                 0.37  "
      ]
     },
     "execution_count": 48,
     "metadata": {},
     "output_type": "execute_result"
    }
   ],
   "source": [
    "marketfact_df1.loc[2:5,]"
   ]
  },
  {
   "cell_type": "code",
   "execution_count": 49,
   "id": "1ce3b25e-57a6-4c8c-a541-9cbbbf055946",
   "metadata": {},
   "outputs": [
    {
     "data": {
      "text/html": [
       "<div>\n",
       "<style scoped>\n",
       "    .dataframe tbody tr th:only-of-type {\n",
       "        vertical-align: middle;\n",
       "    }\n",
       "\n",
       "    .dataframe tbody tr th {\n",
       "        vertical-align: top;\n",
       "    }\n",
       "\n",
       "    .dataframe thead th {\n",
       "        text-align: right;\n",
       "    }\n",
       "</style>\n",
       "<table border=\"1\" class=\"dataframe\">\n",
       "  <thead>\n",
       "    <tr style=\"text-align: right;\">\n",
       "      <th></th>\n",
       "      <th>Ord_id</th>\n",
       "      <th>Prod_id</th>\n",
       "      <th>Ship_id</th>\n",
       "      <th>Cust_id</th>\n",
       "      <th>Sales</th>\n",
       "      <th>Discount</th>\n",
       "      <th>Order_Quantity</th>\n",
       "      <th>Profit</th>\n",
       "      <th>Shipping_Cost</th>\n",
       "      <th>Product_Base_Margin</th>\n",
       "    </tr>\n",
       "  </thead>\n",
       "  <tbody>\n",
       "    <tr>\n",
       "      <th>2</th>\n",
       "      <td>Ord_5446</td>\n",
       "      <td>Prod_4</td>\n",
       "      <td>SHP_7610</td>\n",
       "      <td>Cust_1818</td>\n",
       "      <td>4701.69</td>\n",
       "      <td>0.00</td>\n",
       "      <td>26</td>\n",
       "      <td>1148.90</td>\n",
       "      <td>2.50</td>\n",
       "      <td>0.59</td>\n",
       "    </tr>\n",
       "    <tr>\n",
       "      <th>3</th>\n",
       "      <td>Ord_5456</td>\n",
       "      <td>Prod_6</td>\n",
       "      <td>SHP_7625</td>\n",
       "      <td>Cust_1818</td>\n",
       "      <td>2337.89</td>\n",
       "      <td>0.09</td>\n",
       "      <td>43</td>\n",
       "      <td>729.34</td>\n",
       "      <td>14.30</td>\n",
       "      <td>0.37</td>\n",
       "    </tr>\n",
       "    <tr>\n",
       "      <th>4</th>\n",
       "      <td>Ord_5485</td>\n",
       "      <td>Prod_17</td>\n",
       "      <td>SHP_7664</td>\n",
       "      <td>Cust_1818</td>\n",
       "      <td>4233.15</td>\n",
       "      <td>0.08</td>\n",
       "      <td>35</td>\n",
       "      <td>1219.87</td>\n",
       "      <td>26.30</td>\n",
       "      <td>0.38</td>\n",
       "    </tr>\n",
       "    <tr>\n",
       "      <th>5</th>\n",
       "      <td>Ord_5446</td>\n",
       "      <td>Prod_6</td>\n",
       "      <td>SHP_7608</td>\n",
       "      <td>Cust_1818</td>\n",
       "      <td>164.02</td>\n",
       "      <td>0.03</td>\n",
       "      <td>23</td>\n",
       "      <td>-47.64</td>\n",
       "      <td>6.15</td>\n",
       "      <td>0.37</td>\n",
       "    </tr>\n",
       "  </tbody>\n",
       "</table>\n",
       "</div>"
      ],
      "text/plain": [
       "     Ord_id  Prod_id   Ship_id    Cust_id    Sales  Discount  Order_Quantity  \\\n",
       "2  Ord_5446   Prod_4  SHP_7610  Cust_1818  4701.69      0.00              26   \n",
       "3  Ord_5456   Prod_6  SHP_7625  Cust_1818  2337.89      0.09              43   \n",
       "4  Ord_5485  Prod_17  SHP_7664  Cust_1818  4233.15      0.08              35   \n",
       "5  Ord_5446   Prod_6  SHP_7608  Cust_1818   164.02      0.03              23   \n",
       "\n",
       "    Profit  Shipping_Cost  Product_Base_Margin  \n",
       "2  1148.90           2.50                 0.59  \n",
       "3   729.34          14.30                 0.37  \n",
       "4  1219.87          26.30                 0.38  \n",
       "5   -47.64           6.15                 0.37  "
      ]
     },
     "execution_count": 49,
     "metadata": {},
     "output_type": "execute_result"
    }
   ],
   "source": [
    "marketfact_df1.loc[2:5, : ]"
   ]
  },
  {
   "cell_type": "code",
   "execution_count": null,
   "id": "4c5cda96-84a8-4ef5-882d-be927a73613e",
   "metadata": {},
   "outputs": [
    {
     "ename": "KeyError",
     "evalue": "\"None of ['Ord_id'] are in the columns\"",
     "output_type": "error",
     "traceback": [
      "\u001b[1;31m---------------------------------------------------------------------------\u001b[0m",
      "\u001b[1;31mKeyError\u001b[0m                                  Traceback (most recent call last)",
      "\u001b[1;32m~\\AppData\\Local\\Temp/ipykernel_5024/958616870.py\u001b[0m in \u001b[0;36m<module>\u001b[1;34m\u001b[0m\n\u001b[0;32m      1\u001b[0m \u001b[1;31m#replacing rows table with anyone values from a column like here we replace ORDER_ID.\u001b[0m\u001b[1;33m\u001b[0m\u001b[1;33m\u001b[0m\u001b[0m\n\u001b[1;32m----> 2\u001b[1;33m \u001b[0mmarketfact_df1\u001b[0m\u001b[1;33m.\u001b[0m\u001b[0mset_index\u001b[0m\u001b[1;33m(\u001b[0m\u001b[1;34m'Ord_id'\u001b[0m\u001b[1;33m,\u001b[0m\u001b[0minplace\u001b[0m\u001b[1;33m=\u001b[0m\u001b[1;32mTrue\u001b[0m\u001b[1;33m)\u001b[0m\u001b[1;33m\u001b[0m\u001b[1;33m\u001b[0m\u001b[0m\n\u001b[0m\u001b[0;32m      3\u001b[0m \u001b[0mmarketfact_df1\u001b[0m\u001b[1;33m.\u001b[0m\u001b[0mhead\u001b[0m\u001b[1;33m(\u001b[0m\u001b[1;33m)\u001b[0m\u001b[1;33m\u001b[0m\u001b[1;33m\u001b[0m\u001b[0m\n",
      "\u001b[1;32m~\\anaconda3\\lib\\site-packages\\pandas\\util\\_decorators.py\u001b[0m in \u001b[0;36mwrapper\u001b[1;34m(*args, **kwargs)\u001b[0m\n\u001b[0;32m    309\u001b[0m                     \u001b[0mstacklevel\u001b[0m\u001b[1;33m=\u001b[0m\u001b[0mstacklevel\u001b[0m\u001b[1;33m,\u001b[0m\u001b[1;33m\u001b[0m\u001b[1;33m\u001b[0m\u001b[0m\n\u001b[0;32m    310\u001b[0m                 )\n\u001b[1;32m--> 311\u001b[1;33m             \u001b[1;32mreturn\u001b[0m \u001b[0mfunc\u001b[0m\u001b[1;33m(\u001b[0m\u001b[1;33m*\u001b[0m\u001b[0margs\u001b[0m\u001b[1;33m,\u001b[0m \u001b[1;33m**\u001b[0m\u001b[0mkwargs\u001b[0m\u001b[1;33m)\u001b[0m\u001b[1;33m\u001b[0m\u001b[1;33m\u001b[0m\u001b[0m\n\u001b[0m\u001b[0;32m    312\u001b[0m \u001b[1;33m\u001b[0m\u001b[0m\n\u001b[0;32m    313\u001b[0m         \u001b[1;32mreturn\u001b[0m \u001b[0mwrapper\u001b[0m\u001b[1;33m\u001b[0m\u001b[1;33m\u001b[0m\u001b[0m\n",
      "\u001b[1;32m~\\anaconda3\\lib\\site-packages\\pandas\\core\\frame.py\u001b[0m in \u001b[0;36mset_index\u001b[1;34m(self, keys, drop, append, inplace, verify_integrity)\u001b[0m\n\u001b[0;32m   5449\u001b[0m \u001b[1;33m\u001b[0m\u001b[0m\n\u001b[0;32m   5450\u001b[0m         \u001b[1;32mif\u001b[0m \u001b[0mmissing\u001b[0m\u001b[1;33m:\u001b[0m\u001b[1;33m\u001b[0m\u001b[1;33m\u001b[0m\u001b[0m\n\u001b[1;32m-> 5451\u001b[1;33m             \u001b[1;32mraise\u001b[0m \u001b[0mKeyError\u001b[0m\u001b[1;33m(\u001b[0m\u001b[1;34mf\"None of {missing} are in the columns\"\u001b[0m\u001b[1;33m)\u001b[0m\u001b[1;33m\u001b[0m\u001b[1;33m\u001b[0m\u001b[0m\n\u001b[0m\u001b[0;32m   5452\u001b[0m \u001b[1;33m\u001b[0m\u001b[0m\n\u001b[0;32m   5453\u001b[0m         \u001b[1;32mif\u001b[0m \u001b[0minplace\u001b[0m\u001b[1;33m:\u001b[0m\u001b[1;33m\u001b[0m\u001b[1;33m\u001b[0m\u001b[0m\n",
      "\u001b[1;31mKeyError\u001b[0m: \"None of ['Ord_id'] are in the columns\""
     ]
    }
   ],
   "source": [
    "#replacing rows table with anyone values from a column like here we replace ORDER_ID.\n",
    "marketfact_df1.set_index('Ord_id',inplace=True)\n",
    "marketfact_df1.head()"
   ]
  },
  {
   "cell_type": "code",
   "execution_count": null,
   "id": "ab00f382-b87a-43fe-8b90-a8faa1e86788",
   "metadata": {},
   "outputs": [],
   "source": []
  }
 ],
 "metadata": {
  "kernelspec": {
   "display_name": "Python 3 (ipykernel)",
   "language": "python",
   "name": "python3"
  },
  "language_info": {
   "codemirror_mode": {
    "name": "ipython",
    "version": 3
   },
   "file_extension": ".py",
   "mimetype": "text/x-python",
   "name": "python",
   "nbconvert_exporter": "python",
   "pygments_lexer": "ipython3",
   "version": "3.9.7"
  }
 },
 "nbformat": 4,
 "nbformat_minor": 5
}
