{
 "cells": [
  {
   "cell_type": "code",
   "execution_count": null,
   "id": "a0c3ad47-1035-4a01-9da3-66c247da769e",
   "metadata": {},
   "outputs": [],
   "source": [
    "import numpy as np\n",
    "import pandas as pd\n",
    "import matplotlib.pyplot as plt\n",
    "from pandasql import sqldf"
   ]
  },
  {
   "cell_type": "code",
   "execution_count": 5,
   "id": "711dcdf9-88a5-45ce-9f85-735407bcf454",
   "metadata": {},
   "outputs": [
    {
     "name": "stdout",
     "output_type": "stream",
     "text": [
      "Collecting package metadata (current_repodata.json): ...working... done\n",
      "Note: you may need to restart the kernel to use updated packages.\n",
      "\n",
      "Solving environment: ...working... done\n",
      "\n",
      "## Package Plan ##\n",
      "\n",
      "  environment location: C:\\Users\\Dell\\anaconda3\n",
      "\n",
      "  added / updated specs:\n",
      "    - pandasql\n",
      "\n",
      "\n",
      "The following packages will be downloaded:\n",
      "\n",
      "    package                    |            build\n",
      "    ---------------------------|-----------------\n",
      "    conda-4.11.0               |   py39haa95532_0        14.4 MB\n",
      "    pandasql-0.7.3             |   py39haa95532_1         319 KB\n",
      "    ------------------------------------------------------------\n",
      "                                           Total:        14.8 MB\n",
      "\n",
      "The following NEW packages will be INSTALLED:\n",
      "\n",
      "  pandasql           pkgs/main/win-64::pandasql-0.7.3-py39haa95532_1\n",
      "\n",
      "The following packages will be SUPERSEDED by a higher-priority channel:\n",
      "\n",
      "  conda              conda-forge::conda-4.11.0-py39hcbf530~ --> pkgs/main::conda-4.11.0-py39haa95532_0\n",
      "\n",
      "\n",
      "\n",
      "Downloading and Extracting Packages\n",
      "\n",
      "conda-4.11.0         | 14.4 MB   |            |   0% \n",
      "conda-4.11.0         | 14.4 MB   |            |   0% \n",
      "conda-4.11.0         | 14.4 MB   |            |   1% \n",
      "conda-4.11.0         | 14.4 MB   | 1          |   2% \n",
      "conda-4.11.0         | 14.4 MB   | 2          |   3% \n",
      "conda-4.11.0         | 14.4 MB   | 3          |   4% \n",
      "conda-4.11.0         | 14.4 MB   | 5          |   6% \n",
      "conda-4.11.0         | 14.4 MB   | 7          |   7% \n",
      "conda-4.11.0         | 14.4 MB   | 9          |  10% \n",
      "conda-4.11.0         | 14.4 MB   | #2         |  12% \n",
      "conda-4.11.0         | 14.4 MB   | #4         |  15% \n",
      "conda-4.11.0         | 14.4 MB   | #7         |  17% \n",
      "conda-4.11.0         | 14.4 MB   | #9         |  19% \n",
      "conda-4.11.0         | 14.4 MB   | ##         |  21% \n",
      "conda-4.11.0         | 14.4 MB   | ##2        |  23% \n",
      "conda-4.11.0         | 14.4 MB   | ##4        |  24% \n",
      "conda-4.11.0         | 14.4 MB   | ##6        |  27% \n",
      "conda-4.11.0         | 14.4 MB   | ##8        |  29% \n",
      "conda-4.11.0         | 14.4 MB   | ###1       |  31% \n",
      "conda-4.11.0         | 14.4 MB   | ###3       |  33% \n",
      "conda-4.11.0         | 14.4 MB   | ###5       |  36% \n",
      "conda-4.11.0         | 14.4 MB   | ###7       |  37% \n",
      "conda-4.11.0         | 14.4 MB   | ###9       |  39% \n",
      "conda-4.11.0         | 14.4 MB   | ####       |  41% \n",
      "conda-4.11.0         | 14.4 MB   | ####2      |  42% \n",
      "conda-4.11.0         | 14.4 MB   | ####4      |  45% \n",
      "conda-4.11.0         | 14.4 MB   | ####6      |  46% \n",
      "conda-4.11.0         | 14.4 MB   | ####8      |  48% \n",
      "conda-4.11.0         | 14.4 MB   | ####9      |  50% \n",
      "conda-4.11.0         | 14.4 MB   | #####3     |  53% \n",
      "conda-4.11.0         | 14.4 MB   | ######1    |  61% \n",
      "conda-4.11.0         | 14.4 MB   | ######7    |  68% \n",
      "conda-4.11.0         | 14.4 MB   | #######2   |  72% \n",
      "conda-4.11.0         | 14.4 MB   | #######5   |  76% \n",
      "conda-4.11.0         | 14.4 MB   | #######8   |  79% \n",
      "conda-4.11.0         | 14.4 MB   | ########1  |  82% \n",
      "conda-4.11.0         | 14.4 MB   | ########3  |  84% \n",
      "conda-4.11.0         | 14.4 MB   | ########6  |  86% \n",
      "conda-4.11.0         | 14.4 MB   | ########8  |  89% \n",
      "conda-4.11.0         | 14.4 MB   | #########  |  91% \n",
      "conda-4.11.0         | 14.4 MB   | #########2 |  93% \n",
      "conda-4.11.0         | 14.4 MB   | #########5 |  95% \n",
      "conda-4.11.0         | 14.4 MB   | #########7 |  98% \n",
      "conda-4.11.0         | 14.4 MB   | ########## | 100% \n",
      "conda-4.11.0         | 14.4 MB   | ########## | 100% \n",
      "\n",
      "pandasql-0.7.3       | 319 KB    |            |   0% \n",
      "pandasql-0.7.3       | 319 KB    | 5          |   5% \n",
      "pandasql-0.7.3       | 319 KB    | ####       |  40% \n",
      "pandasql-0.7.3       | 319 KB    | ########## | 100% \n",
      "pandasql-0.7.3       | 319 KB    | ########## | 100% \n",
      "Preparing transaction: ...working... done\n",
      "Verifying transaction: ...working... done\n",
      "Executing transaction: ...working... done\n"
     ]
    }
   ],
   "source": [
    "conda install -c anaconda pandasql"
   ]
  },
  {
   "cell_type": "code",
   "execution_count": 10,
   "id": "0aca3377-c00c-461b-a338-23db02a6b209",
   "metadata": {},
   "outputs": [],
   "source": [
    "market_fact=pd.read_csv(\"C:/RFILES/market_fact.csv\")\n",
    "shipping_dimen=pd.read_csv(\"C:/RFILES/shipping_dimen.csv\")\n",
    "prod_dimen=pd.read_csv(\"C:/RFILES/prod_dimen.csv\")\n",
    "orders_dimen=pd.read_csv(\"C:/RFILES/orders_dimen.csv\")\n",
    "cust_dimen=pd.read_csv(\"C:/RFILES/cust_dimen.csv\")"
   ]
  },
  {
   "cell_type": "code",
   "execution_count": 12,
   "id": "8c94dd42-70f3-40ce-aad8-365d99320507",
   "metadata": {},
   "outputs": [],
   "source": [
    "import numpy as np\n",
    "import pandas as pd\n",
    "import matplotlib.pyplot as plt\n",
    "from pandasql import sqldf"
   ]
  },
  {
   "cell_type": "code",
   "execution_count": 15,
   "id": "29fb42cb-7db2-4cab-b535-ee840f9e0506",
   "metadata": {},
   "outputs": [
    {
     "data": {
      "text/html": [
       "<div>\n",
       "<style scoped>\n",
       "    .dataframe tbody tr th:only-of-type {\n",
       "        vertical-align: middle;\n",
       "    }\n",
       "\n",
       "    .dataframe tbody tr th {\n",
       "        vertical-align: top;\n",
       "    }\n",
       "\n",
       "    .dataframe thead th {\n",
       "        text-align: right;\n",
       "    }\n",
       "</style>\n",
       "<table border=\"1\" class=\"dataframe\">\n",
       "  <thead>\n",
       "    <tr style=\"text-align: right;\">\n",
       "      <th></th>\n",
       "      <th>Ord_id</th>\n",
       "      <th>Prod_id</th>\n",
       "      <th>Ship_id</th>\n",
       "      <th>Cust_id</th>\n",
       "      <th>Sales</th>\n",
       "      <th>Discount</th>\n",
       "      <th>Order_Quantity</th>\n",
       "      <th>Profit</th>\n",
       "      <th>Shipping_Cost</th>\n",
       "      <th>Product_Base_Margin</th>\n",
       "    </tr>\n",
       "  </thead>\n",
       "  <tbody>\n",
       "    <tr>\n",
       "      <th>0</th>\n",
       "      <td>Ord_5446</td>\n",
       "      <td>Prod_16</td>\n",
       "      <td>SHP_7609</td>\n",
       "      <td>Cust_1818</td>\n",
       "      <td>136.8100</td>\n",
       "      <td>0.01</td>\n",
       "      <td>23</td>\n",
       "      <td>-30.51</td>\n",
       "      <td>3.60</td>\n",
       "      <td>0.56</td>\n",
       "    </tr>\n",
       "    <tr>\n",
       "      <th>1</th>\n",
       "      <td>Ord_5406</td>\n",
       "      <td>Prod_13</td>\n",
       "      <td>SHP_7549</td>\n",
       "      <td>Cust_1818</td>\n",
       "      <td>42.2700</td>\n",
       "      <td>0.01</td>\n",
       "      <td>13</td>\n",
       "      <td>4.56</td>\n",
       "      <td>0.93</td>\n",
       "      <td>0.54</td>\n",
       "    </tr>\n",
       "    <tr>\n",
       "      <th>2</th>\n",
       "      <td>Ord_5446</td>\n",
       "      <td>Prod_4</td>\n",
       "      <td>SHP_7610</td>\n",
       "      <td>Cust_1818</td>\n",
       "      <td>4701.6900</td>\n",
       "      <td>0.00</td>\n",
       "      <td>26</td>\n",
       "      <td>1148.90</td>\n",
       "      <td>2.50</td>\n",
       "      <td>0.59</td>\n",
       "    </tr>\n",
       "    <tr>\n",
       "      <th>3</th>\n",
       "      <td>Ord_5456</td>\n",
       "      <td>Prod_6</td>\n",
       "      <td>SHP_7625</td>\n",
       "      <td>Cust_1818</td>\n",
       "      <td>2337.8900</td>\n",
       "      <td>0.09</td>\n",
       "      <td>43</td>\n",
       "      <td>729.34</td>\n",
       "      <td>14.30</td>\n",
       "      <td>0.37</td>\n",
       "    </tr>\n",
       "    <tr>\n",
       "      <th>4</th>\n",
       "      <td>Ord_5485</td>\n",
       "      <td>Prod_17</td>\n",
       "      <td>SHP_7664</td>\n",
       "      <td>Cust_1818</td>\n",
       "      <td>4233.1500</td>\n",
       "      <td>0.08</td>\n",
       "      <td>35</td>\n",
       "      <td>1219.87</td>\n",
       "      <td>26.30</td>\n",
       "      <td>0.38</td>\n",
       "    </tr>\n",
       "    <tr>\n",
       "      <th>...</th>\n",
       "      <td>...</td>\n",
       "      <td>...</td>\n",
       "      <td>...</td>\n",
       "      <td>...</td>\n",
       "      <td>...</td>\n",
       "      <td>...</td>\n",
       "      <td>...</td>\n",
       "      <td>...</td>\n",
       "      <td>...</td>\n",
       "      <td>...</td>\n",
       "    </tr>\n",
       "    <tr>\n",
       "      <th>8394</th>\n",
       "      <td>Ord_5353</td>\n",
       "      <td>Prod_4</td>\n",
       "      <td>SHP_7479</td>\n",
       "      <td>Cust_1798</td>\n",
       "      <td>2841.4395</td>\n",
       "      <td>0.08</td>\n",
       "      <td>28</td>\n",
       "      <td>374.63</td>\n",
       "      <td>7.69</td>\n",
       "      <td>0.59</td>\n",
       "    </tr>\n",
       "    <tr>\n",
       "      <th>8395</th>\n",
       "      <td>Ord_5411</td>\n",
       "      <td>Prod_6</td>\n",
       "      <td>SHP_7555</td>\n",
       "      <td>Cust_1798</td>\n",
       "      <td>127.1600</td>\n",
       "      <td>0.10</td>\n",
       "      <td>20</td>\n",
       "      <td>-74.03</td>\n",
       "      <td>6.92</td>\n",
       "      <td>0.37</td>\n",
       "    </tr>\n",
       "    <tr>\n",
       "      <th>8396</th>\n",
       "      <td>Ord_5388</td>\n",
       "      <td>Prod_6</td>\n",
       "      <td>SHP_7524</td>\n",
       "      <td>Cust_1798</td>\n",
       "      <td>243.0500</td>\n",
       "      <td>0.02</td>\n",
       "      <td>39</td>\n",
       "      <td>-70.85</td>\n",
       "      <td>5.35</td>\n",
       "      <td>0.40</td>\n",
       "    </tr>\n",
       "    <tr>\n",
       "      <th>8397</th>\n",
       "      <td>Ord_5348</td>\n",
       "      <td>Prod_15</td>\n",
       "      <td>SHP_7469</td>\n",
       "      <td>Cust_1798</td>\n",
       "      <td>3872.8700</td>\n",
       "      <td>0.03</td>\n",
       "      <td>23</td>\n",
       "      <td>565.34</td>\n",
       "      <td>30.00</td>\n",
       "      <td>0.62</td>\n",
       "    </tr>\n",
       "    <tr>\n",
       "      <th>8398</th>\n",
       "      <td>Ord_5459</td>\n",
       "      <td>Prod_6</td>\n",
       "      <td>SHP_7628</td>\n",
       "      <td>Cust_1798</td>\n",
       "      <td>603.6900</td>\n",
       "      <td>0.00</td>\n",
       "      <td>47</td>\n",
       "      <td>131.39</td>\n",
       "      <td>4.86</td>\n",
       "      <td>0.38</td>\n",
       "    </tr>\n",
       "  </tbody>\n",
       "</table>\n",
       "<p>8399 rows × 10 columns</p>\n",
       "</div>"
      ],
      "text/plain": [
       "        Ord_id  Prod_id   Ship_id    Cust_id      Sales  Discount  \\\n",
       "0     Ord_5446  Prod_16  SHP_7609  Cust_1818   136.8100      0.01   \n",
       "1     Ord_5406  Prod_13  SHP_7549  Cust_1818    42.2700      0.01   \n",
       "2     Ord_5446   Prod_4  SHP_7610  Cust_1818  4701.6900      0.00   \n",
       "3     Ord_5456   Prod_6  SHP_7625  Cust_1818  2337.8900      0.09   \n",
       "4     Ord_5485  Prod_17  SHP_7664  Cust_1818  4233.1500      0.08   \n",
       "...        ...      ...       ...        ...        ...       ...   \n",
       "8394  Ord_5353   Prod_4  SHP_7479  Cust_1798  2841.4395      0.08   \n",
       "8395  Ord_5411   Prod_6  SHP_7555  Cust_1798   127.1600      0.10   \n",
       "8396  Ord_5388   Prod_6  SHP_7524  Cust_1798   243.0500      0.02   \n",
       "8397  Ord_5348  Prod_15  SHP_7469  Cust_1798  3872.8700      0.03   \n",
       "8398  Ord_5459   Prod_6  SHP_7628  Cust_1798   603.6900      0.00   \n",
       "\n",
       "      Order_Quantity   Profit  Shipping_Cost  Product_Base_Margin  \n",
       "0                 23   -30.51           3.60                 0.56  \n",
       "1                 13     4.56           0.93                 0.54  \n",
       "2                 26  1148.90           2.50                 0.59  \n",
       "3                 43   729.34          14.30                 0.37  \n",
       "4                 35  1219.87          26.30                 0.38  \n",
       "...              ...      ...            ...                  ...  \n",
       "8394              28   374.63           7.69                 0.59  \n",
       "8395              20   -74.03           6.92                 0.37  \n",
       "8396              39   -70.85           5.35                 0.40  \n",
       "8397              23   565.34          30.00                 0.62  \n",
       "8398              47   131.39           4.86                 0.38  \n",
       "\n",
       "[8399 rows x 10 columns]"
      ]
     },
     "execution_count": 15,
     "metadata": {},
     "output_type": "execute_result"
    }
   ],
   "source": [
    "sqldf(\"select * from market_fact;\")"
   ]
  },
  {
   "cell_type": "code",
   "execution_count": 16,
   "id": "4dc2b933-2da2-46bb-b6f8-39f93f24d188",
   "metadata": {},
   "outputs": [
    {
     "name": "stdout",
     "output_type": "stream",
     "text": [
      "        Ord_id  Prod_id   Ship_id    Cust_id      Sales  Discount  \\\n",
      "0     Ord_5446  Prod_16  SHP_7609  Cust_1818   136.8100      0.01   \n",
      "1     Ord_5406  Prod_13  SHP_7549  Cust_1818    42.2700      0.01   \n",
      "2     Ord_5446   Prod_4  SHP_7610  Cust_1818  4701.6900      0.00   \n",
      "3     Ord_5456   Prod_6  SHP_7625  Cust_1818  2337.8900      0.09   \n",
      "4     Ord_5485  Prod_17  SHP_7664  Cust_1818  4233.1500      0.08   \n",
      "...        ...      ...       ...        ...        ...       ...   \n",
      "8394  Ord_5353   Prod_4  SHP_7479  Cust_1798  2841.4395      0.08   \n",
      "8395  Ord_5411   Prod_6  SHP_7555  Cust_1798   127.1600      0.10   \n",
      "8396  Ord_5388   Prod_6  SHP_7524  Cust_1798   243.0500      0.02   \n",
      "8397  Ord_5348  Prod_15  SHP_7469  Cust_1798  3872.8700      0.03   \n",
      "8398  Ord_5459   Prod_6  SHP_7628  Cust_1798   603.6900      0.00   \n",
      "\n",
      "      Order_Quantity   Profit  Shipping_Cost  Product_Base_Margin  \n",
      "0                 23   -30.51           3.60                 0.56  \n",
      "1                 13     4.56           0.93                 0.54  \n",
      "2                 26  1148.90           2.50                 0.59  \n",
      "3                 43   729.34          14.30                 0.37  \n",
      "4                 35  1219.87          26.30                 0.38  \n",
      "...              ...      ...            ...                  ...  \n",
      "8394              28   374.63           7.69                 0.59  \n",
      "8395              20   -74.03           6.92                 0.37  \n",
      "8396              39   -70.85           5.35                 0.40  \n",
      "8397              23   565.34          30.00                 0.62  \n",
      "8398              47   131.39           4.86                 0.38  \n",
      "\n",
      "[8399 rows x 10 columns]\n"
     ]
    }
   ],
   "source": [
    "print(sqldf(\"select * from market_fact;\"))"
   ]
  },
  {
   "cell_type": "code",
   "execution_count": 17,
   "id": "d3ceab96-7e78-4064-9a1f-82ea340da379",
   "metadata": {},
   "outputs": [
    {
     "name": "stdout",
     "output_type": "stream",
     "text": [
      "     Ord_id  Prod_id   Ship_id    Cust_id    Sales  Discount  Order_Quantity  \\\n",
      "0  Ord_5446  Prod_16  SHP_7609  Cust_1818   136.81      0.01              23   \n",
      "1  Ord_5406  Prod_13  SHP_7549  Cust_1818    42.27      0.01              13   \n",
      "2  Ord_5446   Prod_4  SHP_7610  Cust_1818  4701.69      0.00              26   \n",
      "3  Ord_5456   Prod_6  SHP_7625  Cust_1818  2337.89      0.09              43   \n",
      "4  Ord_5485  Prod_17  SHP_7664  Cust_1818  4233.15      0.08              35   \n",
      "\n",
      "    Profit  Shipping_Cost  Product_Base_Margin  \n",
      "0   -30.51           3.60                 0.56  \n",
      "1     4.56           0.93                 0.54  \n",
      "2  1148.90           2.50                 0.59  \n",
      "3   729.34          14.30                 0.37  \n",
      "4  1219.87          26.30                 0.38  \n"
     ]
    }
   ],
   "source": [
    "print(sqldf(\"select * from market_fact limit 5;\"))"
   ]
  },
  {
   "cell_type": "code",
   "execution_count": 20,
   "id": "5c176cbb-7d5e-4d0a-83c1-bc32384fca3d",
   "metadata": {},
   "outputs": [
    {
     "name": "stdout",
     "output_type": "stream",
     "text": [
      "   count(*)\n",
      "0      8399\n"
     ]
    }
   ],
   "source": [
    "print(sqldf(\"select count(*) from market_fact ;\"))"
   ]
  },
  {
   "cell_type": "code",
   "execution_count": 19,
   "id": "4f8c9db6-b732-4e3b-ba02-502bc52e8590",
   "metadata": {},
   "outputs": [
    {
     "name": "stdout",
     "output_type": "stream",
     "text": [
      "<class 'pandas.core.frame.DataFrame'>\n",
      "RangeIndex: 8399 entries, 0 to 8398\n",
      "Data columns (total 10 columns):\n",
      " #   Column               Non-Null Count  Dtype  \n",
      "---  ------               --------------  -----  \n",
      " 0   Ord_id               8399 non-null   object \n",
      " 1   Prod_id              8399 non-null   object \n",
      " 2   Ship_id              8399 non-null   object \n",
      " 3   Cust_id              8399 non-null   object \n",
      " 4   Sales                8399 non-null   float64\n",
      " 5   Discount             8399 non-null   float64\n",
      " 6   Order_Quantity       8399 non-null   int64  \n",
      " 7   Profit               8399 non-null   float64\n",
      " 8   Shipping_Cost        8399 non-null   float64\n",
      " 9   Product_Base_Margin  8336 non-null   float64\n",
      "dtypes: float64(5), int64(1), object(4)\n",
      "memory usage: 656.3+ KB\n"
     ]
    }
   ],
   "source": [
    "market_fact.info()"
   ]
  },
  {
   "cell_type": "code",
   "execution_count": 22,
   "id": "0758dc6f-e2f2-4bc5-ae0b-dc896d716c82",
   "metadata": {},
   "outputs": [
    {
     "data": {
      "text/html": [
       "<div>\n",
       "<style scoped>\n",
       "    .dataframe tbody tr th:only-of-type {\n",
       "        vertical-align: middle;\n",
       "    }\n",
       "\n",
       "    .dataframe tbody tr th {\n",
       "        vertical-align: top;\n",
       "    }\n",
       "\n",
       "    .dataframe thead th {\n",
       "        text-align: right;\n",
       "    }\n",
       "</style>\n",
       "<table border=\"1\" class=\"dataframe\">\n",
       "  <thead>\n",
       "    <tr style=\"text-align: right;\">\n",
       "      <th></th>\n",
       "      <th>count(*)</th>\n",
       "    </tr>\n",
       "  </thead>\n",
       "  <tbody>\n",
       "    <tr>\n",
       "      <th>0</th>\n",
       "      <td>4029</td>\n",
       "    </tr>\n",
       "  </tbody>\n",
       "</table>\n",
       "</div>"
      ],
      "text/plain": [
       "   count(*)\n",
       "0      4029"
      ]
     },
     "execution_count": 22,
     "metadata": {},
     "output_type": "execute_result"
    }
   ],
   "source": [
    "sqldf(\"select count(*) from market_fact where sales>500;\")"
   ]
  },
  {
   "cell_type": "code",
   "execution_count": 23,
   "id": "7cbbcf37-3b43-4e17-a2e6-f579c0e45f17",
   "metadata": {},
   "outputs": [
    {
     "data": {
      "text/html": [
       "<div>\n",
       "<style scoped>\n",
       "    .dataframe tbody tr th:only-of-type {\n",
       "        vertical-align: middle;\n",
       "    }\n",
       "\n",
       "    .dataframe tbody tr th {\n",
       "        vertical-align: top;\n",
       "    }\n",
       "\n",
       "    .dataframe thead th {\n",
       "        text-align: right;\n",
       "    }\n",
       "</style>\n",
       "<table border=\"1\" class=\"dataframe\">\n",
       "  <thead>\n",
       "    <tr style=\"text-align: right;\">\n",
       "      <th></th>\n",
       "      <th>Ord_id</th>\n",
       "      <th>Prod_id</th>\n",
       "      <th>Ship_id</th>\n",
       "      <th>Cust_id</th>\n",
       "      <th>Sales</th>\n",
       "      <th>Discount</th>\n",
       "      <th>Order_Quantity</th>\n",
       "      <th>Profit</th>\n",
       "      <th>Shipping_Cost</th>\n",
       "      <th>Product_Base_Margin</th>\n",
       "      <th>Product_Category</th>\n",
       "      <th>Product_Sub_Category</th>\n",
       "    </tr>\n",
       "  </thead>\n",
       "  <tbody>\n",
       "    <tr>\n",
       "      <th>0</th>\n",
       "      <td>Ord_5446</td>\n",
       "      <td>Prod_16</td>\n",
       "      <td>SHP_7609</td>\n",
       "      <td>Cust_1818</td>\n",
       "      <td>136.81</td>\n",
       "      <td>0.01</td>\n",
       "      <td>23</td>\n",
       "      <td>-30.51</td>\n",
       "      <td>3.60</td>\n",
       "      <td>0.56</td>\n",
       "      <td>OFFICE SUPPLIES</td>\n",
       "      <td>SCISSORS, RULERS AND TRIMMERS</td>\n",
       "    </tr>\n",
       "    <tr>\n",
       "      <th>1</th>\n",
       "      <td>Ord_2978</td>\n",
       "      <td>Prod_16</td>\n",
       "      <td>SHP_4112</td>\n",
       "      <td>Cust_1088</td>\n",
       "      <td>305.05</td>\n",
       "      <td>0.04</td>\n",
       "      <td>27</td>\n",
       "      <td>23.12</td>\n",
       "      <td>3.37</td>\n",
       "      <td>0.57</td>\n",
       "      <td>OFFICE SUPPLIES</td>\n",
       "      <td>SCISSORS, RULERS AND TRIMMERS</td>\n",
       "    </tr>\n",
       "    <tr>\n",
       "      <th>2</th>\n",
       "      <td>Ord_5484</td>\n",
       "      <td>Prod_16</td>\n",
       "      <td>SHP_7663</td>\n",
       "      <td>Cust_1820</td>\n",
       "      <td>322.82</td>\n",
       "      <td>0.05</td>\n",
       "      <td>35</td>\n",
       "      <td>-17.58</td>\n",
       "      <td>3.98</td>\n",
       "      <td>0.56</td>\n",
       "      <td>OFFICE SUPPLIES</td>\n",
       "      <td>SCISSORS, RULERS AND TRIMMERS</td>\n",
       "    </tr>\n",
       "    <tr>\n",
       "      <th>3</th>\n",
       "      <td>Ord_3730</td>\n",
       "      <td>Prod_16</td>\n",
       "      <td>SHP_5175</td>\n",
       "      <td>Cust_1314</td>\n",
       "      <td>459.08</td>\n",
       "      <td>0.04</td>\n",
       "      <td>34</td>\n",
       "      <td>61.57</td>\n",
       "      <td>3.14</td>\n",
       "      <td>0.60</td>\n",
       "      <td>OFFICE SUPPLIES</td>\n",
       "      <td>SCISSORS, RULERS AND TRIMMERS</td>\n",
       "    </tr>\n",
       "    <tr>\n",
       "      <th>4</th>\n",
       "      <td>Ord_4143</td>\n",
       "      <td>Prod_16</td>\n",
       "      <td>SHP_5771</td>\n",
       "      <td>Cust_1417</td>\n",
       "      <td>207.21</td>\n",
       "      <td>0.06</td>\n",
       "      <td>24</td>\n",
       "      <td>-78.64</td>\n",
       "      <td>6.14</td>\n",
       "      <td>0.59</td>\n",
       "      <td>OFFICE SUPPLIES</td>\n",
       "      <td>SCISSORS, RULERS AND TRIMMERS</td>\n",
       "    </tr>\n",
       "    <tr>\n",
       "      <th>...</th>\n",
       "      <td>...</td>\n",
       "      <td>...</td>\n",
       "      <td>...</td>\n",
       "      <td>...</td>\n",
       "      <td>...</td>\n",
       "      <td>...</td>\n",
       "      <td>...</td>\n",
       "      <td>...</td>\n",
       "      <td>...</td>\n",
       "      <td>...</td>\n",
       "      <td>...</td>\n",
       "      <td>...</td>\n",
       "    </tr>\n",
       "    <tr>\n",
       "      <th>8394</th>\n",
       "      <td>Ord_5467</td>\n",
       "      <td>Prod_14</td>\n",
       "      <td>SHP_7639</td>\n",
       "      <td>Cust_1803</td>\n",
       "      <td>5964.19</td>\n",
       "      <td>0.10</td>\n",
       "      <td>33</td>\n",
       "      <td>988.20</td>\n",
       "      <td>24.49</td>\n",
       "      <td>0.46</td>\n",
       "      <td>TECHNOLOGY</td>\n",
       "      <td>COPIERS AND FAX</td>\n",
       "    </tr>\n",
       "    <tr>\n",
       "      <th>8395</th>\n",
       "      <td>Ord_825</td>\n",
       "      <td>Prod_14</td>\n",
       "      <td>SHP_1132</td>\n",
       "      <td>Cust_247</td>\n",
       "      <td>27663.92</td>\n",
       "      <td>0.05</td>\n",
       "      <td>8</td>\n",
       "      <td>-391.92</td>\n",
       "      <td>24.49</td>\n",
       "      <td>0.37</td>\n",
       "      <td>TECHNOLOGY</td>\n",
       "      <td>COPIERS AND FAX</td>\n",
       "    </tr>\n",
       "    <tr>\n",
       "      <th>8396</th>\n",
       "      <td>Ord_5368</td>\n",
       "      <td>Prod_14</td>\n",
       "      <td>SHP_7497</td>\n",
       "      <td>Cust_1795</td>\n",
       "      <td>17279.62</td>\n",
       "      <td>0.04</td>\n",
       "      <td>40</td>\n",
       "      <td>4176.25</td>\n",
       "      <td>24.49</td>\n",
       "      <td>0.52</td>\n",
       "      <td>TECHNOLOGY</td>\n",
       "      <td>COPIERS AND FAX</td>\n",
       "    </tr>\n",
       "    <tr>\n",
       "      <th>8397</th>\n",
       "      <td>Ord_1765</td>\n",
       "      <td>Prod_14</td>\n",
       "      <td>SHP_2446</td>\n",
       "      <td>Cust_595</td>\n",
       "      <td>14647.26</td>\n",
       "      <td>0.07</td>\n",
       "      <td>25</td>\n",
       "      <td>5485.15</td>\n",
       "      <td>24.49</td>\n",
       "      <td>0.37</td>\n",
       "      <td>TECHNOLOGY</td>\n",
       "      <td>COPIERS AND FAX</td>\n",
       "    </tr>\n",
       "    <tr>\n",
       "      <th>8398</th>\n",
       "      <td>Ord_3610</td>\n",
       "      <td>Prod_14</td>\n",
       "      <td>SHP_4998</td>\n",
       "      <td>Cust_1266</td>\n",
       "      <td>1759.65</td>\n",
       "      <td>0.06</td>\n",
       "      <td>3</td>\n",
       "      <td>-2213.75</td>\n",
       "      <td>24.49</td>\n",
       "      <td>0.50</td>\n",
       "      <td>TECHNOLOGY</td>\n",
       "      <td>COPIERS AND FAX</td>\n",
       "    </tr>\n",
       "  </tbody>\n",
       "</table>\n",
       "<p>8399 rows × 12 columns</p>\n",
       "</div>"
      ],
      "text/plain": [
       "        Ord_id  Prod_id   Ship_id    Cust_id     Sales  Discount  \\\n",
       "0     Ord_5446  Prod_16  SHP_7609  Cust_1818    136.81      0.01   \n",
       "1     Ord_2978  Prod_16  SHP_4112  Cust_1088    305.05      0.04   \n",
       "2     Ord_5484  Prod_16  SHP_7663  Cust_1820    322.82      0.05   \n",
       "3     Ord_3730  Prod_16  SHP_5175  Cust_1314    459.08      0.04   \n",
       "4     Ord_4143  Prod_16  SHP_5771  Cust_1417    207.21      0.06   \n",
       "...        ...      ...       ...        ...       ...       ...   \n",
       "8394  Ord_5467  Prod_14  SHP_7639  Cust_1803   5964.19      0.10   \n",
       "8395   Ord_825  Prod_14  SHP_1132   Cust_247  27663.92      0.05   \n",
       "8396  Ord_5368  Prod_14  SHP_7497  Cust_1795  17279.62      0.04   \n",
       "8397  Ord_1765  Prod_14  SHP_2446   Cust_595  14647.26      0.07   \n",
       "8398  Ord_3610  Prod_14  SHP_4998  Cust_1266   1759.65      0.06   \n",
       "\n",
       "      Order_Quantity   Profit  Shipping_Cost  Product_Base_Margin  \\\n",
       "0                 23   -30.51           3.60                 0.56   \n",
       "1                 27    23.12           3.37                 0.57   \n",
       "2                 35   -17.58           3.98                 0.56   \n",
       "3                 34    61.57           3.14                 0.60   \n",
       "4                 24   -78.64           6.14                 0.59   \n",
       "...              ...      ...            ...                  ...   \n",
       "8394              33   988.20          24.49                 0.46   \n",
       "8395               8  -391.92          24.49                 0.37   \n",
       "8396              40  4176.25          24.49                 0.52   \n",
       "8397              25  5485.15          24.49                 0.37   \n",
       "8398               3 -2213.75          24.49                 0.50   \n",
       "\n",
       "     Product_Category           Product_Sub_Category  \n",
       "0     OFFICE SUPPLIES  SCISSORS, RULERS AND TRIMMERS  \n",
       "1     OFFICE SUPPLIES  SCISSORS, RULERS AND TRIMMERS  \n",
       "2     OFFICE SUPPLIES  SCISSORS, RULERS AND TRIMMERS  \n",
       "3     OFFICE SUPPLIES  SCISSORS, RULERS AND TRIMMERS  \n",
       "4     OFFICE SUPPLIES  SCISSORS, RULERS AND TRIMMERS  \n",
       "...               ...                            ...  \n",
       "8394       TECHNOLOGY                COPIERS AND FAX  \n",
       "8395       TECHNOLOGY                COPIERS AND FAX  \n",
       "8396       TECHNOLOGY                COPIERS AND FAX  \n",
       "8397       TECHNOLOGY                COPIERS AND FAX  \n",
       "8398       TECHNOLOGY                COPIERS AND FAX  \n",
       "\n",
       "[8399 rows x 12 columns]"
      ]
     },
     "execution_count": 23,
     "metadata": {},
     "output_type": "execute_result"
    }
   ],
   "source": [
    "mark_prod_py=pd.merge(market_fact,prod_dimen,how='inner',on='Prod_id')\n",
    "mark_prod_py"
   ]
  },
  {
   "cell_type": "code",
   "execution_count": 26,
   "id": "aca273b1-fa23-45be-a8a2-cce3c1cd3599",
   "metadata": {},
   "outputs": [
    {
     "data": {
      "text/html": [
       "<div>\n",
       "<style scoped>\n",
       "    .dataframe tbody tr th:only-of-type {\n",
       "        vertical-align: middle;\n",
       "    }\n",
       "\n",
       "    .dataframe tbody tr th {\n",
       "        vertical-align: top;\n",
       "    }\n",
       "\n",
       "    .dataframe thead th {\n",
       "        text-align: right;\n",
       "    }\n",
       "</style>\n",
       "<table border=\"1\" class=\"dataframe\">\n",
       "  <thead>\n",
       "    <tr style=\"text-align: right;\">\n",
       "      <th></th>\n",
       "      <th>Ord_id</th>\n",
       "      <th>Prod_id</th>\n",
       "      <th>Ship_id</th>\n",
       "      <th>Cust_id</th>\n",
       "      <th>Sales</th>\n",
       "      <th>Discount</th>\n",
       "      <th>Order_Quantity</th>\n",
       "      <th>Profit</th>\n",
       "      <th>Shipping_Cost</th>\n",
       "      <th>Product_Base_Margin</th>\n",
       "      <th>Product_Category</th>\n",
       "      <th>Product_Sub_Category</th>\n",
       "      <th>Prod_id</th>\n",
       "    </tr>\n",
       "  </thead>\n",
       "  <tbody>\n",
       "    <tr>\n",
       "      <th>0</th>\n",
       "      <td>Ord_5446</td>\n",
       "      <td>Prod_16</td>\n",
       "      <td>SHP_7609</td>\n",
       "      <td>Cust_1818</td>\n",
       "      <td>136.81</td>\n",
       "      <td>0.01</td>\n",
       "      <td>23</td>\n",
       "      <td>-30.51</td>\n",
       "      <td>3.60</td>\n",
       "      <td>0.56</td>\n",
       "      <td>OFFICE SUPPLIES</td>\n",
       "      <td>SCISSORS, RULERS AND TRIMMERS</td>\n",
       "      <td>Prod_16</td>\n",
       "    </tr>\n",
       "    <tr>\n",
       "      <th>1</th>\n",
       "      <td>Ord_5406</td>\n",
       "      <td>Prod_13</td>\n",
       "      <td>SHP_7549</td>\n",
       "      <td>Cust_1818</td>\n",
       "      <td>42.27</td>\n",
       "      <td>0.01</td>\n",
       "      <td>13</td>\n",
       "      <td>4.56</td>\n",
       "      <td>0.93</td>\n",
       "      <td>0.54</td>\n",
       "      <td>OFFICE SUPPLIES</td>\n",
       "      <td>PENS &amp; ART SUPPLIES</td>\n",
       "      <td>Prod_13</td>\n",
       "    </tr>\n",
       "    <tr>\n",
       "      <th>2</th>\n",
       "      <td>Ord_5446</td>\n",
       "      <td>Prod_4</td>\n",
       "      <td>SHP_7610</td>\n",
       "      <td>Cust_1818</td>\n",
       "      <td>4701.69</td>\n",
       "      <td>0.00</td>\n",
       "      <td>26</td>\n",
       "      <td>1148.90</td>\n",
       "      <td>2.50</td>\n",
       "      <td>0.59</td>\n",
       "      <td>TECHNOLOGY</td>\n",
       "      <td>TELEPHONES AND COMMUNICATION</td>\n",
       "      <td>Prod_4</td>\n",
       "    </tr>\n",
       "    <tr>\n",
       "      <th>3</th>\n",
       "      <td>Ord_5456</td>\n",
       "      <td>Prod_6</td>\n",
       "      <td>SHP_7625</td>\n",
       "      <td>Cust_1818</td>\n",
       "      <td>2337.89</td>\n",
       "      <td>0.09</td>\n",
       "      <td>43</td>\n",
       "      <td>729.34</td>\n",
       "      <td>14.30</td>\n",
       "      <td>0.37</td>\n",
       "      <td>OFFICE SUPPLIES</td>\n",
       "      <td>PAPER</td>\n",
       "      <td>Prod_6</td>\n",
       "    </tr>\n",
       "    <tr>\n",
       "      <th>4</th>\n",
       "      <td>Ord_5485</td>\n",
       "      <td>Prod_17</td>\n",
       "      <td>SHP_7664</td>\n",
       "      <td>Cust_1818</td>\n",
       "      <td>4233.15</td>\n",
       "      <td>0.08</td>\n",
       "      <td>35</td>\n",
       "      <td>1219.87</td>\n",
       "      <td>26.30</td>\n",
       "      <td>0.38</td>\n",
       "      <td>TECHNOLOGY</td>\n",
       "      <td>OFFICE MACHINES</td>\n",
       "      <td>Prod_17</td>\n",
       "    </tr>\n",
       "  </tbody>\n",
       "</table>\n",
       "</div>"
      ],
      "text/plain": [
       "     Ord_id  Prod_id   Ship_id    Cust_id    Sales  Discount  Order_Quantity  \\\n",
       "0  Ord_5446  Prod_16  SHP_7609  Cust_1818   136.81      0.01              23   \n",
       "1  Ord_5406  Prod_13  SHP_7549  Cust_1818    42.27      0.01              13   \n",
       "2  Ord_5446   Prod_4  SHP_7610  Cust_1818  4701.69      0.00              26   \n",
       "3  Ord_5456   Prod_6  SHP_7625  Cust_1818  2337.89      0.09              43   \n",
       "4  Ord_5485  Prod_17  SHP_7664  Cust_1818  4233.15      0.08              35   \n",
       "\n",
       "    Profit  Shipping_Cost  Product_Base_Margin Product_Category  \\\n",
       "0   -30.51           3.60                 0.56  OFFICE SUPPLIES   \n",
       "1     4.56           0.93                 0.54  OFFICE SUPPLIES   \n",
       "2  1148.90           2.50                 0.59       TECHNOLOGY   \n",
       "3   729.34          14.30                 0.37  OFFICE SUPPLIES   \n",
       "4  1219.87          26.30                 0.38       TECHNOLOGY   \n",
       "\n",
       "            Product_Sub_Category  Prod_id  \n",
       "0  SCISSORS, RULERS AND TRIMMERS  Prod_16  \n",
       "1            PENS & ART SUPPLIES  Prod_13  \n",
       "2   TELEPHONES AND COMMUNICATION   Prod_4  \n",
       "3                          PAPER   Prod_6  \n",
       "4                OFFICE MACHINES  Prod_17  "
      ]
     },
     "execution_count": 26,
     "metadata": {},
     "output_type": "execute_result"
    }
   ],
   "source": [
    "market_prod_sql=sqldf(\"select * from market_fact m inner join prod_dimen p on m.Prod_id=p.Prod_id;\")\n",
    "market_prod_sql.head()"
   ]
  },
  {
   "cell_type": "code",
   "execution_count": 31,
   "id": "b83fa86f-8c5d-459f-bb43-cb287af94c9b",
   "metadata": {},
   "outputs": [
    {
     "data": {
      "text/html": [
       "<div>\n",
       "<style scoped>\n",
       "    .dataframe tbody tr th:only-of-type {\n",
       "        vertical-align: middle;\n",
       "    }\n",
       "\n",
       "    .dataframe tbody tr th {\n",
       "        vertical-align: top;\n",
       "    }\n",
       "\n",
       "    .dataframe thead th {\n",
       "        text-align: right;\n",
       "    }\n",
       "</style>\n",
       "<table border=\"1\" class=\"dataframe\">\n",
       "  <thead>\n",
       "    <tr style=\"text-align: right;\">\n",
       "      <th></th>\n",
       "      <th>count_prod</th>\n",
       "      <th>Product_Category</th>\n",
       "    </tr>\n",
       "  </thead>\n",
       "  <tbody>\n",
       "    <tr>\n",
       "      <th>0</th>\n",
       "      <td>1724</td>\n",
       "      <td>FURNITURE</td>\n",
       "    </tr>\n",
       "    <tr>\n",
       "      <th>1</th>\n",
       "      <td>4610</td>\n",
       "      <td>OFFICE SUPPLIES</td>\n",
       "    </tr>\n",
       "    <tr>\n",
       "      <th>2</th>\n",
       "      <td>2065</td>\n",
       "      <td>TECHNOLOGY</td>\n",
       "    </tr>\n",
       "  </tbody>\n",
       "</table>\n",
       "</div>"
      ],
      "text/plain": [
       "   count_prod Product_Category\n",
       "0        1724        FURNITURE\n",
       "1        4610  OFFICE SUPPLIES\n",
       "2        2065       TECHNOLOGY"
      ]
     },
     "execution_count": 31,
     "metadata": {},
     "output_type": "execute_result"
    }
   ],
   "source": [
    "sqldf(\"select count(*) as count_prod,Product_Category from market_prod_sql group by Product_Category;\")"
   ]
  },
  {
   "cell_type": "code",
   "execution_count": 32,
   "id": "161c429a-cbb2-4fe7-bc7f-de9e3576a709",
   "metadata": {},
   "outputs": [],
   "source": [
    "import seaborn as sns"
   ]
  },
  {
   "cell_type": "code",
   "execution_count": 33,
   "id": "420f869b-d6b8-43d5-b1fc-1e4f9d5855f7",
   "metadata": {},
   "outputs": [],
   "source": [
    "sns.set_style(\"whitegrid\")"
   ]
  },
  {
   "cell_type": "code",
   "execution_count": 34,
   "id": "79e953c9-8d89-4c14-a2f5-325d26ffdb51",
   "metadata": {},
   "outputs": [
    {
     "name": "stderr",
     "output_type": "stream",
     "text": [
      "C:\\Users\\Dell\\anaconda3\\lib\\site-packages\\seaborn\\distributions.py:2619: FutureWarning: `distplot` is a deprecated function and will be removed in a future version. Please adapt your code to use either `displot` (a figure-level function with similar flexibility) or `histplot` (an axes-level function for histograms).\n",
      "  warnings.warn(msg, FutureWarning)\n"
     ]
    },
    {
     "data": {
      "image/png": "[encoded data removed]",
      "text/plain": [
       "<Figure size 432x288 with 1 Axes>"
      ]
     },
     "metadata": {},
     "output_type": "display_data"
    }
   ],
   "source": [
    "sns.distplot(market_prod_sql['Shipping_Cost'])\n",
    "plt.show()"
   ]
  },
  {
   "cell_type": "code",
   "execution_count": 36,
   "id": "c3c71c0d-5f94-45e2-b944-0bdefd11bc80",
   "metadata": {},
   "outputs": [
    {
     "name": "stderr",
     "output_type": "stream",
     "text": [
      "C:\\Users\\Dell\\anaconda3\\lib\\site-packages\\seaborn\\distributions.py:2619: FutureWarning: `distplot` is a deprecated function and will be removed in a future version. Please adapt your code to use either `displot` (a figure-level function with similar flexibility) or `histplot` (an axes-level function for histograms).\n",
      "  warnings.warn(msg, FutureWarning)\n"
     ]
    },
    {
     "data": {
      "image/png": "[encoded data removed]",
      "text/plain": [
       "<Figure size 432x288 with 1 Axes>"
      ]
     },
     "metadata": {},
     "output_type": "display_data"
    }
   ],
   "source": [
    "sns.distplot(market_prod_sql['Sales'])\n",
    "plt.show()"
   ]
  },
  {
   "cell_type": "code",
   "execution_count": 38,
   "id": "31d4fad4-673e-4788-8e72-eb77006b322b",
   "metadata": {},
   "outputs": [
    {
     "name": "stderr",
     "output_type": "stream",
     "text": [
      "C:\\Users\\Dell\\anaconda3\\lib\\site-packages\\seaborn\\_decorators.py:36: FutureWarning: Pass the following variable as a keyword arg: x. From version 0.12, the only valid positional argument will be `data`, and passing other arguments without an explicit keyword will result in an error or misinterpretation.\n",
      "  warnings.warn(\n"
     ]
    },
    {
     "data": {
      "image/png": "[encoded data removed]",
      "text/plain": [
       "<Figure size 432x288 with 1 Axes>"
      ]
     },
     "metadata": {},
     "output_type": "display_data"
    }
   ],
   "source": [
    "sns.boxplot(market_prod_sql['Order_Quantity'])\n",
    "plt.show()"
   ]
  },
  {
   "cell_type": "code",
   "execution_count": 43,
   "id": "25e9f12c-f309-403a-97fc-508683c11182",
   "metadata": {},
   "outputs": [
    {
     "name": "stderr",
     "output_type": "stream",
     "text": [
      "C:\\Users\\Dell\\anaconda3\\lib\\site-packages\\seaborn\\_decorators.py:36: FutureWarning: Pass the following variables as keyword args: x, y, data. From version 0.12, the only valid positional argument will be `data`, and passing other arguments without an explicit keyword will result in an error or misinterpretation.\n",
      "  warnings.warn(\n"
     ]
    },
    {
     "data": {
      "image/png": "[encoded data removed]",
      "text/plain": [
       "<Figure size 432x432 with 3 Axes>"
      ]
     },
     "metadata": {},
     "output_type": "display_data"
    }
   ],
   "source": [
    "sns.jointplot('Sales','Profit',market_prod_sql)\n",
    "plt.show()"
   ]
  },
  {
   "cell_type": "code",
   "execution_count": 46,
   "id": "c3cc4009-65f5-42b0-a53d-ff27ee0945a3",
   "metadata": {},
   "outputs": [
    {
     "data": {
      "image/png": "[encoded data removed]",
      "text/plain": [
       "<Figure size 432x288 with 1 Axes>"
      ]
     },
     "metadata": {},
     "output_type": "display_data"
    }
   ],
   "source": [
    "sns.boxplot(x='Product_Category',y='Profit',data=market_prod_sql)\n",
    "plt.show()"
   ]
  },
  {
   "cell_type": "code",
   "execution_count": 51,
   "id": "0a040050-7331-41c8-9c5a-06c272ffc15e",
   "metadata": {},
   "outputs": [],
   "source": [
    "market_prod_sql_1=sqldf(\"select Sales,Profit,Product_Category from market_prod_sql where Profit between 0 and 1000 ;\")"
   ]
  },
  {
   "cell_type": "code",
   "execution_count": 52,
   "id": "7925f7f8-96b3-4b97-a3bd-b86763ff077c",
   "metadata": {},
   "outputs": [
    {
     "data": {
      "image/png": "[encoded data removed]",
      "text/plain": [
       "<Figure size 432x288 with 1 Axes>"
      ]
     },
     "metadata": {},
     "output_type": "display_data"
    }
   ],
   "source": [
    "sns.boxplot(x='Product_Category',y='Profit',data=market_prod_sql_1)\n",
    "plt.show()"
   ]
  },
  {
   "cell_type": "code",
   "execution_count": 56,
   "id": "5360c540-44d7-4dec-b1f5-f215882a0d7e",
   "metadata": {},
   "outputs": [],
   "source": [
    "#####learnt connecting database with python\n",
    "###further SQL AND EXCEL USES AS SEEN in UDEMY COURSES."
   ]
  },
  {
   "cell_type": "code",
   "execution_count": 57,
   "id": "a4ba8a5e-a2f4-4b91-8882-c8daeccd5aaa",
   "metadata": {},
   "outputs": [],
   "source": [
    "import numpy as np\n",
    "import pandas as pd\n",
    "smart_mark=pd.read_csv(\"C:/RFILES/smartphone_ads.csv\")"
   ]
  },
  {
   "cell_type": "code",
   "execution_count": 58,
   "id": "93313f4f-8029-4e3b-ab84-a22e1b2d2152",
   "metadata": {},
   "outputs": [
    {
     "data": {
      "text/html": [
       "<div>\n",
       "<style scoped>\n",
       "    .dataframe tbody tr th:only-of-type {\n",
       "        vertical-align: middle;\n",
       "    }\n",
       "\n",
       "    .dataframe tbody tr th {\n",
       "        vertical-align: top;\n",
       "    }\n",
       "\n",
       "    .dataframe thead th {\n",
       "        text-align: right;\n",
       "    }\n",
       "</style>\n",
       "<table border=\"1\" class=\"dataframe\">\n",
       "  <thead>\n",
       "    <tr style=\"text-align: right;\">\n",
       "      <th></th>\n",
       "      <th>Youtube_Ads</th>\n",
       "      <th>google_Ads</th>\n",
       "      <th>FB_Ads</th>\n",
       "      <th>Smartphone_Sales</th>\n",
       "    </tr>\n",
       "  </thead>\n",
       "  <tbody>\n",
       "    <tr>\n",
       "      <th>0</th>\n",
       "      <td>355.29</td>\n",
       "      <td>91.3</td>\n",
       "      <td>94.8</td>\n",
       "      <td>2260</td>\n",
       "    </tr>\n",
       "    <tr>\n",
       "      <th>1</th>\n",
       "      <td>169.69</td>\n",
       "      <td>92.8</td>\n",
       "      <td>70.7</td>\n",
       "      <td>1090</td>\n",
       "    </tr>\n",
       "    <tr>\n",
       "      <th>2</th>\n",
       "      <td>142.39</td>\n",
       "      <td>99.4</td>\n",
       "      <td>94.9</td>\n",
       "      <td>1250</td>\n",
       "    </tr>\n",
       "    <tr>\n",
       "      <th>3</th>\n",
       "      <td>276.69</td>\n",
       "      <td>94.8</td>\n",
       "      <td>84.1</td>\n",
       "      <td>1700</td>\n",
       "    </tr>\n",
       "    <tr>\n",
       "      <th>4</th>\n",
       "      <td>305.99</td>\n",
       "      <td>64.3</td>\n",
       "      <td>84.0</td>\n",
       "      <td>1840</td>\n",
       "    </tr>\n",
       "  </tbody>\n",
       "</table>\n",
       "</div>"
      ],
      "text/plain": [
       "   Youtube_Ads  google_Ads  FB_Ads  Smartphone_Sales\n",
       "0       355.29        91.3    94.8              2260\n",
       "1       169.69        92.8    70.7              1090\n",
       "2       142.39        99.4    94.9              1250\n",
       "3       276.69        94.8    84.1              1700\n",
       "4       305.99        64.3    84.0              1840"
      ]
     },
     "execution_count": 58,
     "metadata": {},
     "output_type": "execute_result"
    }
   ],
   "source": [
    "smart_mark.head()"
   ]
  },
  {
   "cell_type": "code",
   "execution_count": 60,
   "id": "c7527123-bd13-4e4e-8ca8-c4eac67ce1ec",
   "metadata": {},
   "outputs": [
    {
     "name": "stdout",
     "output_type": "stream",
     "text": [
      "<class 'pandas.core.frame.DataFrame'>\n",
      "RangeIndex: 200 entries, 0 to 199\n",
      "Data columns (total 4 columns):\n",
      " #   Column            Non-Null Count  Dtype  \n",
      "---  ------            --------------  -----  \n",
      " 0   Youtube_Ads       200 non-null    float64\n",
      " 1   google_Ads        200 non-null    float64\n",
      " 2   FB_Ads            200 non-null    float64\n",
      " 3   Smartphone_Sales  200 non-null    int64  \n",
      "dtypes: float64(3), int64(1)\n",
      "memory usage: 6.4 KB\n"
     ]
    }
   ],
   "source": [
    "smart_mark.info()"
   ]
  },
  {
   "cell_type": "code",
   "execution_count": 61,
   "id": "acde87bb-a67e-4902-a4cd-a9b7ee20fd91",
   "metadata": {},
   "outputs": [
    {
     "data": {
      "text/html": [
       "<div>\n",
       "<style scoped>\n",
       "    .dataframe tbody tr th:only-of-type {\n",
       "        vertical-align: middle;\n",
       "    }\n",
       "\n",
       "    .dataframe tbody tr th {\n",
       "        vertical-align: top;\n",
       "    }\n",
       "\n",
       "    .dataframe thead th {\n",
       "        text-align: right;\n",
       "    }\n",
       "</style>\n",
       "<table border=\"1\" class=\"dataframe\">\n",
       "  <thead>\n",
       "    <tr style=\"text-align: right;\">\n",
       "      <th></th>\n",
       "      <th>Youtube_Ads</th>\n",
       "      <th>google_Ads</th>\n",
       "      <th>FB_Ads</th>\n",
       "      <th>Smartphone_Sales</th>\n",
       "    </tr>\n",
       "  </thead>\n",
       "  <tbody>\n",
       "    <tr>\n",
       "      <th>count</th>\n",
       "      <td>200.000000</td>\n",
       "      <td>200.000000</td>\n",
       "      <td>200.000000</td>\n",
       "      <td>200.000000</td>\n",
       "    </tr>\n",
       "    <tr>\n",
       "      <th>mean</th>\n",
       "      <td>272.232500</td>\n",
       "      <td>76.764000</td>\n",
       "      <td>56.154000</td>\n",
       "      <td>1563.050000</td>\n",
       "    </tr>\n",
       "    <tr>\n",
       "      <th>std</th>\n",
       "      <td>85.854236</td>\n",
       "      <td>14.846809</td>\n",
       "      <td>21.778621</td>\n",
       "      <td>528.389225</td>\n",
       "    </tr>\n",
       "    <tr>\n",
       "      <th>min</th>\n",
       "      <td>125.890000</td>\n",
       "      <td>53.500000</td>\n",
       "      <td>25.900000</td>\n",
       "      <td>210.000000</td>\n",
       "    </tr>\n",
       "    <tr>\n",
       "      <th>25%</th>\n",
       "      <td>199.565000</td>\n",
       "      <td>63.475000</td>\n",
       "      <td>38.350000</td>\n",
       "      <td>1150.000000</td>\n",
       "    </tr>\n",
       "    <tr>\n",
       "      <th>50%</th>\n",
       "      <td>274.940000</td>\n",
       "      <td>76.400000</td>\n",
       "      <td>51.350000</td>\n",
       "      <td>1650.000000</td>\n",
       "    </tr>\n",
       "    <tr>\n",
       "      <th>75%</th>\n",
       "      <td>344.015000</td>\n",
       "      <td>90.025000</td>\n",
       "      <td>70.700000</td>\n",
       "      <td>1955.000000</td>\n",
       "    </tr>\n",
       "    <tr>\n",
       "      <th>max</th>\n",
       "      <td>421.590000</td>\n",
       "      <td>103.100000</td>\n",
       "      <td>139.600000</td>\n",
       "      <td>2750.000000</td>\n",
       "    </tr>\n",
       "  </tbody>\n",
       "</table>\n",
       "</div>"
      ],
      "text/plain": [
       "       Youtube_Ads  google_Ads      FB_Ads  Smartphone_Sales\n",
       "count   200.000000  200.000000  200.000000        200.000000\n",
       "mean    272.232500   76.764000   56.154000       1563.050000\n",
       "std      85.854236   14.846809   21.778621        528.389225\n",
       "min     125.890000   53.500000   25.900000        210.000000\n",
       "25%     199.565000   63.475000   38.350000       1150.000000\n",
       "50%     274.940000   76.400000   51.350000       1650.000000\n",
       "75%     344.015000   90.025000   70.700000       1955.000000\n",
       "max     421.590000  103.100000  139.600000       2750.000000"
      ]
     },
     "execution_count": 61,
     "metadata": {},
     "output_type": "execute_result"
    }
   ],
   "source": [
    "smart_mark.describe()"
   ]
  },
  {
   "cell_type": "code",
   "execution_count": 63,
   "id": "bb56d909-92dc-4b7d-a04f-12aeca89e55d",
   "metadata": {},
   "outputs": [
    {
     "data": {
      "text/plain": [
       "(200, 4)"
      ]
     },
     "execution_count": 63,
     "metadata": {},
     "output_type": "execute_result"
    }
   ],
   "source": [
    "smart_mark.shape###(no. of rows,no. of columns)"
   ]
  },
  {
   "cell_type": "code",
   "execution_count": 64,
   "id": "ce0d5609-ca5d-4a53-9077-9ed6a10d5ec8",
   "metadata": {},
   "outputs": [],
   "source": [
    "import matplotlib.pyplot as plt\n",
    "import seaborn as sns"
   ]
  },
  {
   "cell_type": "code",
   "execution_count": 65,
   "id": "59574b7d-84db-44fc-9e45-2debb10ff622",
   "metadata": {},
   "outputs": [
    {
     "name": "stderr",
     "output_type": "stream",
     "text": [
      "C:\\Users\\Dell\\anaconda3\\lib\\site-packages\\seaborn\\distributions.py:2619: FutureWarning: `distplot` is a deprecated function and will be removed in a future version. Please adapt your code to use either `displot` (a figure-level function with similar flexibility) or `histplot` (an axes-level function for histograms).\n",
      "  warnings.warn(msg, FutureWarning)\n"
     ]
    },
    {
     "data": {
      "image/png": "[encoded data removed]",
      "text/plain": [
       "<Figure size 432x288 with 1 Axes>"
      ]
     },
     "metadata": {},
     "output_type": "display_data"
    }
   ],
   "source": [
    "sns.distplot(smart_mark['Smartphone_Sales'],hist= True)\n",
    "plt.show()"
   ]
  },
  {
   "cell_type": "code",
   "execution_count": 66,
   "id": "de18ebba-5ed5-4c68-bc13-6c038d050ba9",
   "metadata": {},
   "outputs": [
    {
     "name": "stderr",
     "output_type": "stream",
     "text": [
      "C:\\Users\\Dell\\anaconda3\\lib\\site-packages\\seaborn\\distributions.py:2619: FutureWarning: `distplot` is a deprecated function and will be removed in a future version. Please adapt your code to use either `displot` (a figure-level function with similar flexibility) or `histplot` (an axes-level function for histograms).\n",
      "  warnings.warn(msg, FutureWarning)\n"
     ]
    },
    {
     "data": {
      "image/png": "[encoded data removed]",
      "text/plain": [
       "<Figure size 432x288 with 1 Axes>"
      ]
     },
     "metadata": {},
     "output_type": "display_data"
    }
   ],
   "source": [
    "sns.distplot(smart_mark['Youtube_Ads'],hist= True)\n",
    "plt.show()"
   ]
  },
  {
   "cell_type": "code",
   "execution_count": 68,
   "id": "de57ba51-0064-4dff-aeff-3912c379a9f9",
   "metadata": {},
   "outputs": [
    {
     "data": {
      "image/png": "[encoded data removed]",
      "text/plain": [
       "<Figure size 540x180 with 3 Axes>"
      ]
     },
     "metadata": {},
     "output_type": "display_data"
    }
   ],
   "source": [
    "sns.pairplot(smart_mark,x_vars=['Youtube_Ads','google_Ads','FB_Ads'],y_vars='Smartphone_Sales',kind='scatter')\n",
    "plt.show()"
   ]
  },
  {
   "cell_type": "code",
   "execution_count": 69,
   "id": "ad5f4deb-c3b7-4364-b0c8-70868cfedfd8",
   "metadata": {},
   "outputs": [
    {
     "data": {
      "image/png": "[encoded data removed]",
      "text/plain": [
       "<Figure size 432x288 with 2 Axes>"
      ]
     },
     "metadata": {},
     "output_type": "display_data"
    }
   ],
   "source": [
    "sns.heatmap(smart_mark.corr(),cmap=\"YlGnBu\",annot=True)\n",
    "plt.show()"
   ]
  },
  {
   "cell_type": "code",
   "execution_count": 74,
   "id": "7a8b071b-443d-41d1-8442-f890af94f387",
   "metadata": {},
   "outputs": [],
   "source": [
    "x=smart_mark['Youtube_Ads']\n",
    "y=smart_mark['Smartphone_Sales']\n",
    "from sklearn.model_selection import train_test_split\n",
    "x_train,x_test,y_train,y_test=train_test_split(x,y,train_size=0.7,test_size=0.3,random_state=100)"
   ]
  },
  {
   "cell_type": "code",
   "execution_count": 75,
   "id": "97e74a22-1e5c-404b-8b71-fe218f096a62",
   "metadata": {},
   "outputs": [
    {
     "data": {
      "text/plain": [
       "count    140.000000\n",
       "mean     272.901429\n",
       "std       92.866185\n",
       "min      125.890000\n",
       "25%      191.890000\n",
       "50%      270.290000\n",
       "75%      355.790000\n",
       "max      421.590000\n",
       "Name: Youtube_Ads, dtype: float64"
      ]
     },
     "execution_count": 75,
     "metadata": {},
     "output_type": "execute_result"
    }
   ],
   "source": [
    "x_train.describe()"
   ]
  },
  {
   "cell_type": "code",
   "execution_count": 76,
   "id": "08501693-2417-4eff-ac73-c0a0c63bdd1f",
   "metadata": {},
   "outputs": [
    {
     "data": {
      "text/plain": [
       "count     60.000000\n",
       "mean     270.671667\n",
       "std       67.379066\n",
       "min      132.990000\n",
       "25%      214.265000\n",
       "50%      289.190000\n",
       "75%      328.765000\n",
       "max      373.990000\n",
       "Name: Youtube_Ads, dtype: float64"
      ]
     },
     "execution_count": 76,
     "metadata": {},
     "output_type": "execute_result"
    }
   ],
   "source": [
    "x_test.describe()"
   ]
  },
  {
   "cell_type": "code",
   "execution_count": null,
   "id": "5f390966-318d-46eb-8b9a-90e7da2e655f",
   "metadata": {},
   "outputs": [
    {
     "data": {
      "text/plain": [
       "const          62.010039\n",
       "Youtube_Ads     5.454575\n",
       "dtype: float64"
      ]
     },
     "execution_count": 80,
     "metadata": {},
     "output_type": "execute_result"
    }
   ],
   "source": [
    "import statsmodels.api as sm\n",
    "x_train_sm=sm.add_constant(x_train)\n",
    "lr=sm.OLS(y_train,x_train_sm).fit()\n",
    "lr.params"
   ]
  },
  {
   "cell_type": "code",
   "execution_count": 81,
   "id": "b086cd2d-6000-45eb-8bba-fe6595df875b",
   "metadata": {},
   "outputs": [
    {
     "name": "stdout",
     "output_type": "stream",
     "text": [
      "                            OLS Regression Results                            \n",
      "==============================================================================\n",
      "Dep. Variable:       Smartphone_Sales   R-squared:                       0.816\n",
      "Model:                            OLS   Adj. R-squared:                  0.814\n",
      "Method:                 Least Squares   F-statistic:                     611.2\n",
      "Date:                Thu, 09 Dec 2021   Prob (F-statistic):           1.52e-52\n",
      "Time:                        19:45:52   Log-Likelihood:                -965.85\n",
      "No. Observations:                 140   AIC:                             1936.\n",
      "Df Residuals:                     138   BIC:                             1942.\n",
      "Df Model:                           1                                         \n",
      "Covariance Type:            nonrobust                                         \n",
      "===============================================================================\n",
      "                  coef    std err          t      P>|t|      [0.025      0.975]\n",
      "-------------------------------------------------------------------------------\n",
      "const          62.0100     63.580      0.975      0.331     -63.707     187.727\n",
      "Youtube_Ads     5.4546      0.221     24.722      0.000       5.018       5.891\n",
      "==============================================================================\n",
      "Omnibus:                        0.027   Durbin-Watson:                   2.196\n",
      "Prob(Omnibus):                  0.987   Jarque-Bera (JB):                0.150\n",
      "Skew:                          -0.006   Prob(JB):                        0.928\n",
      "Kurtosis:                       2.840   Cond. No.                         897.\n",
      "==============================================================================\n",
      "\n",
      "Notes:\n",
      "[1] Standard Errors assume that the covariance matrix of the errors is correctly specified.\n"
     ]
    }
   ],
   "source": [
    "print(lr.summary())"
   ]
  }
 ],
 "metadata": {
  "kernelspec": {
   "display_name": "Python 3 (ipykernel)",
   "language": "python",
   "name": "python3"
  },
  "language_info": {
   "codemirror_mode": {
    "name": "ipython",
    "version": 3
   },
   "file_extension": ".py",
   "mimetype": "text/x-python",
   "name": "python",
   "nbconvert_exporter": "python",
   "pygments_lexer": "ipython3",
   "version": "3.9.7"
  }
 },
 "nbformat": 4,
 "nbformat_minor": 5
}
