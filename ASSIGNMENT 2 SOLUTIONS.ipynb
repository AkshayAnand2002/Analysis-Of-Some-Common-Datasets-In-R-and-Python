{
 "cells": [
  {
   "cell_type": "code",
   "execution_count": 1,
   "id": "76219c6f-7696-4a79-960a-3674428fdfb8",
   "metadata": {},
   "outputs": [],
   "source": [
    "import numpy as np\n",
    "import pandas as pd\n",
    "import matplotlib.pyplot as plt"
   ]
  },
  {
   "cell_type": "code",
   "execution_count": 2,
   "id": "a406457d-9ab3-4f17-a34d-d6938c161640",
   "metadata": {},
   "outputs": [],
   "source": [
    "covid19=pd.read_csv('C:/rfiles/covid19_data_mar.csv')"
   ]
  },
  {
   "cell_type": "code",
   "execution_count": 3,
   "id": "a6e5edf0-4b6b-46ae-83b8-735e5fc33499",
   "metadata": {},
   "outputs": [
    {
     "data": {
      "text/html": [
       "<div>\n",
       "<style scoped>\n",
       "    .dataframe tbody tr th:only-of-type {\n",
       "        vertical-align: middle;\n",
       "    }\n",
       "\n",
       "    .dataframe tbody tr th {\n",
       "        vertical-align: top;\n",
       "    }\n",
       "\n",
       "    .dataframe thead th {\n",
       "        text-align: right;\n",
       "    }\n",
       "</style>\n",
       "<table border=\"1\" class=\"dataframe\">\n",
       "  <thead>\n",
       "    <tr style=\"text-align: right;\">\n",
       "      <th></th>\n",
       "      <th>id</th>\n",
       "      <th>case_in_country</th>\n",
       "      <th>reporting date</th>\n",
       "      <th>location</th>\n",
       "      <th>country</th>\n",
       "      <th>gender</th>\n",
       "      <th>age</th>\n",
       "      <th>symptom_onset</th>\n",
       "      <th>If_onset_approximated</th>\n",
       "      <th>hosp_visit_date</th>\n",
       "      <th>exposure_start</th>\n",
       "      <th>exposure_end</th>\n",
       "      <th>incubationdays</th>\n",
       "      <th>hospitaldays</th>\n",
       "      <th>visiting Wuhan</th>\n",
       "      <th>from Wuhan</th>\n",
       "      <th>death</th>\n",
       "      <th>recovered</th>\n",
       "      <th>symptom</th>\n",
       "    </tr>\n",
       "  </thead>\n",
       "  <tbody>\n",
       "    <tr>\n",
       "      <th>0</th>\n",
       "      <td>195</td>\n",
       "      <td>NaN</td>\n",
       "      <td>1/27/2020</td>\n",
       "      <td>Hubei</td>\n",
       "      <td>China</td>\n",
       "      <td>female</td>\n",
       "      <td>28.0</td>\n",
       "      <td>1/7/2020</td>\n",
       "      <td>0.0</td>\n",
       "      <td>1/10/2020</td>\n",
       "      <td>NaN</td>\n",
       "      <td>NaN</td>\n",
       "      <td>#VALUE!</td>\n",
       "      <td>3</td>\n",
       "      <td>0</td>\n",
       "      <td>1</td>\n",
       "      <td>NaN</td>\n",
       "      <td>NaN</td>\n",
       "      <td>fever, cough, difficult in breathing</td>\n",
       "    </tr>\n",
       "    <tr>\n",
       "      <th>1</th>\n",
       "      <td>196</td>\n",
       "      <td>NaN</td>\n",
       "      <td>1/27/2020</td>\n",
       "      <td>Hubei</td>\n",
       "      <td>China</td>\n",
       "      <td>female</td>\n",
       "      <td>51.0</td>\n",
       "      <td>NaN</td>\n",
       "      <td>NaN</td>\n",
       "      <td>1/11/2020</td>\n",
       "      <td>NaN</td>\n",
       "      <td>NaN</td>\n",
       "      <td>#VALUE!</td>\n",
       "      <td>#VALUE!</td>\n",
       "      <td>0</td>\n",
       "      <td>1</td>\n",
       "      <td>NaN</td>\n",
       "      <td>NaN</td>\n",
       "      <td>fever, cough, difficult in breathing</td>\n",
       "    </tr>\n",
       "    <tr>\n",
       "      <th>2</th>\n",
       "      <td>197</td>\n",
       "      <td>NaN</td>\n",
       "      <td>1/27/2020</td>\n",
       "      <td>Shandong</td>\n",
       "      <td>China</td>\n",
       "      <td>male</td>\n",
       "      <td>37.0</td>\n",
       "      <td>NaN</td>\n",
       "      <td>NaN</td>\n",
       "      <td>1/17/2020</td>\n",
       "      <td>NaN</td>\n",
       "      <td>NaN</td>\n",
       "      <td>#VALUE!</td>\n",
       "      <td>#VALUE!</td>\n",
       "      <td>0</td>\n",
       "      <td>1</td>\n",
       "      <td>NaN</td>\n",
       "      <td>NaN</td>\n",
       "      <td>fever</td>\n",
       "    </tr>\n",
       "    <tr>\n",
       "      <th>3</th>\n",
       "      <td>237</td>\n",
       "      <td>1.0</td>\n",
       "      <td>1/15/2020</td>\n",
       "      <td>Kanagawa</td>\n",
       "      <td>Japan</td>\n",
       "      <td>male</td>\n",
       "      <td>35.0</td>\n",
       "      <td>1/3/2020</td>\n",
       "      <td>0.0</td>\n",
       "      <td>1/6/2020</td>\n",
       "      <td>NaN</td>\n",
       "      <td>1/6/2020</td>\n",
       "      <td>#VALUE!</td>\n",
       "      <td>3</td>\n",
       "      <td>1</td>\n",
       "      <td>0</td>\n",
       "      <td>NaN</td>\n",
       "      <td>1/15/2020</td>\n",
       "      <td>fever</td>\n",
       "    </tr>\n",
       "    <tr>\n",
       "      <th>4</th>\n",
       "      <td>241</td>\n",
       "      <td>5.0</td>\n",
       "      <td>1/28/2020</td>\n",
       "      <td>Aichi Prefecture</td>\n",
       "      <td>Japan</td>\n",
       "      <td>male</td>\n",
       "      <td>45.0</td>\n",
       "      <td>1/22/2020</td>\n",
       "      <td>0.0</td>\n",
       "      <td>1/26/2020</td>\n",
       "      <td>NaN</td>\n",
       "      <td>1/20/2020</td>\n",
       "      <td>#VALUE!</td>\n",
       "      <td>4</td>\n",
       "      <td>0</td>\n",
       "      <td>1</td>\n",
       "      <td>NaN</td>\n",
       "      <td>NaN</td>\n",
       "      <td>fever</td>\n",
       "    </tr>\n",
       "  </tbody>\n",
       "</table>\n",
       "</div>"
      ],
      "text/plain": [
       "    id  case_in_country reporting date          location country  gender  \\\n",
       "0  195              NaN      1/27/2020             Hubei   China  female   \n",
       "1  196              NaN      1/27/2020             Hubei   China  female   \n",
       "2  197              NaN      1/27/2020          Shandong   China    male   \n",
       "3  237              1.0      1/15/2020          Kanagawa   Japan    male   \n",
       "4  241              5.0      1/28/2020  Aichi Prefecture   Japan    male   \n",
       "\n",
       "    age symptom_onset  If_onset_approximated hosp_visit_date exposure_start  \\\n",
       "0  28.0      1/7/2020                    0.0       1/10/2020            NaN   \n",
       "1  51.0           NaN                    NaN       1/11/2020            NaN   \n",
       "2  37.0           NaN                    NaN       1/17/2020            NaN   \n",
       "3  35.0      1/3/2020                    0.0        1/6/2020            NaN   \n",
       "4  45.0     1/22/2020                    0.0       1/26/2020            NaN   \n",
       "\n",
       "  exposure_end incubationdays hospitaldays  visiting Wuhan  from Wuhan death  \\\n",
       "0          NaN        #VALUE!            3               0           1   NaN   \n",
       "1          NaN        #VALUE!      #VALUE!               0           1   NaN   \n",
       "2          NaN        #VALUE!      #VALUE!               0           1   NaN   \n",
       "3     1/6/2020        #VALUE!            3               1           0   NaN   \n",
       "4    1/20/2020        #VALUE!            4               0           1   NaN   \n",
       "\n",
       "   recovered                               symptom  \n",
       "0        NaN  fever, cough, difficult in breathing  \n",
       "1        NaN  fever, cough, difficult in breathing  \n",
       "2        NaN                                 fever  \n",
       "3  1/15/2020                                 fever  \n",
       "4        NaN                                 fever  "
      ]
     },
     "execution_count": 3,
     "metadata": {},
     "output_type": "execute_result"
    }
   ],
   "source": [
    "covid19.head()"
   ]
  },
  {
   "cell_type": "code",
   "execution_count": 4,
   "id": "75f76a54-cb82-416f-9155-022d8240c5dc",
   "metadata": {},
   "outputs": [
    {
     "name": "stdout",
     "output_type": "stream",
     "text": [
      "<class 'pandas.core.frame.DataFrame'>\n",
      "RangeIndex: 270 entries, 0 to 269\n",
      "Data columns (total 19 columns):\n",
      " #   Column                 Non-Null Count  Dtype  \n",
      "---  ------                 --------------  -----  \n",
      " 0   id                     270 non-null    int64  \n",
      " 1   case_in_country        267 non-null    float64\n",
      " 2   reporting date         270 non-null    object \n",
      " 3   location               270 non-null    object \n",
      " 4   country                270 non-null    object \n",
      " 5   gender                 269 non-null    object \n",
      " 6   age                    265 non-null    float64\n",
      " 7   symptom_onset          252 non-null    object \n",
      " 8   If_onset_approximated  252 non-null    float64\n",
      " 9   hosp_visit_date        214 non-null    object \n",
      " 10  exposure_start         32 non-null     object \n",
      " 11  exposure_end           79 non-null     object \n",
      " 12  incubationdays         270 non-null    object \n",
      " 13  hospitaldays           270 non-null    object \n",
      " 14  visiting Wuhan         270 non-null    int64  \n",
      " 15  from Wuhan             270 non-null    int64  \n",
      " 16  death                  6 non-null      object \n",
      " 17  recovered              36 non-null     object \n",
      " 18  symptom                270 non-null    object \n",
      "dtypes: float64(3), int64(3), object(13)\n",
      "memory usage: 40.2+ KB\n"
     ]
    }
   ],
   "source": [
    "covid19.info()"
   ]
  },
  {
   "cell_type": "code",
   "execution_count": 5,
   "id": "8612567f-6bb2-4598-840d-4a2f244bd56f",
   "metadata": {},
   "outputs": [
    {
     "data": {
      "text/html": [
       "<div>\n",
       "<style scoped>\n",
       "    .dataframe tbody tr th:only-of-type {\n",
       "        vertical-align: middle;\n",
       "    }\n",
       "\n",
       "    .dataframe tbody tr th {\n",
       "        vertical-align: top;\n",
       "    }\n",
       "\n",
       "    .dataframe thead th {\n",
       "        text-align: right;\n",
       "    }\n",
       "</style>\n",
       "<table border=\"1\" class=\"dataframe\">\n",
       "  <thead>\n",
       "    <tr style=\"text-align: right;\">\n",
       "      <th></th>\n",
       "      <th>id</th>\n",
       "      <th>case_in_country</th>\n",
       "      <th>reporting date</th>\n",
       "      <th>location</th>\n",
       "      <th>country</th>\n",
       "      <th>gender</th>\n",
       "      <th>age</th>\n",
       "      <th>symptom_onset</th>\n",
       "      <th>If_onset_approximated</th>\n",
       "      <th>hosp_visit_date</th>\n",
       "      <th>exposure_start</th>\n",
       "      <th>exposure_end</th>\n",
       "      <th>incubationdays</th>\n",
       "      <th>hospitaldays</th>\n",
       "      <th>visiting Wuhan</th>\n",
       "      <th>from Wuhan</th>\n",
       "      <th>death</th>\n",
       "      <th>recovered</th>\n",
       "      <th>symptom</th>\n",
       "    </tr>\n",
       "  </thead>\n",
       "  <tbody>\n",
       "    <tr>\n",
       "      <th>0</th>\n",
       "      <td>False</td>\n",
       "      <td>True</td>\n",
       "      <td>False</td>\n",
       "      <td>False</td>\n",
       "      <td>False</td>\n",
       "      <td>False</td>\n",
       "      <td>False</td>\n",
       "      <td>False</td>\n",
       "      <td>False</td>\n",
       "      <td>False</td>\n",
       "      <td>True</td>\n",
       "      <td>True</td>\n",
       "      <td>False</td>\n",
       "      <td>False</td>\n",
       "      <td>False</td>\n",
       "      <td>False</td>\n",
       "      <td>True</td>\n",
       "      <td>True</td>\n",
       "      <td>False</td>\n",
       "    </tr>\n",
       "    <tr>\n",
       "      <th>1</th>\n",
       "      <td>False</td>\n",
       "      <td>True</td>\n",
       "      <td>False</td>\n",
       "      <td>False</td>\n",
       "      <td>False</td>\n",
       "      <td>False</td>\n",
       "      <td>False</td>\n",
       "      <td>True</td>\n",
       "      <td>True</td>\n",
       "      <td>False</td>\n",
       "      <td>True</td>\n",
       "      <td>True</td>\n",
       "      <td>False</td>\n",
       "      <td>False</td>\n",
       "      <td>False</td>\n",
       "      <td>False</td>\n",
       "      <td>True</td>\n",
       "      <td>True</td>\n",
       "      <td>False</td>\n",
       "    </tr>\n",
       "    <tr>\n",
       "      <th>2</th>\n",
       "      <td>False</td>\n",
       "      <td>True</td>\n",
       "      <td>False</td>\n",
       "      <td>False</td>\n",
       "      <td>False</td>\n",
       "      <td>False</td>\n",
       "      <td>False</td>\n",
       "      <td>True</td>\n",
       "      <td>True</td>\n",
       "      <td>False</td>\n",
       "      <td>True</td>\n",
       "      <td>True</td>\n",
       "      <td>False</td>\n",
       "      <td>False</td>\n",
       "      <td>False</td>\n",
       "      <td>False</td>\n",
       "      <td>True</td>\n",
       "      <td>True</td>\n",
       "      <td>False</td>\n",
       "    </tr>\n",
       "    <tr>\n",
       "      <th>3</th>\n",
       "      <td>False</td>\n",
       "      <td>False</td>\n",
       "      <td>False</td>\n",
       "      <td>False</td>\n",
       "      <td>False</td>\n",
       "      <td>False</td>\n",
       "      <td>False</td>\n",
       "      <td>False</td>\n",
       "      <td>False</td>\n",
       "      <td>False</td>\n",
       "      <td>True</td>\n",
       "      <td>False</td>\n",
       "      <td>False</td>\n",
       "      <td>False</td>\n",
       "      <td>False</td>\n",
       "      <td>False</td>\n",
       "      <td>True</td>\n",
       "      <td>False</td>\n",
       "      <td>False</td>\n",
       "    </tr>\n",
       "    <tr>\n",
       "      <th>4</th>\n",
       "      <td>False</td>\n",
       "      <td>False</td>\n",
       "      <td>False</td>\n",
       "      <td>False</td>\n",
       "      <td>False</td>\n",
       "      <td>False</td>\n",
       "      <td>False</td>\n",
       "      <td>False</td>\n",
       "      <td>False</td>\n",
       "      <td>False</td>\n",
       "      <td>True</td>\n",
       "      <td>False</td>\n",
       "      <td>False</td>\n",
       "      <td>False</td>\n",
       "      <td>False</td>\n",
       "      <td>False</td>\n",
       "      <td>True</td>\n",
       "      <td>True</td>\n",
       "      <td>False</td>\n",
       "    </tr>\n",
       "    <tr>\n",
       "      <th>...</th>\n",
       "      <td>...</td>\n",
       "      <td>...</td>\n",
       "      <td>...</td>\n",
       "      <td>...</td>\n",
       "      <td>...</td>\n",
       "      <td>...</td>\n",
       "      <td>...</td>\n",
       "      <td>...</td>\n",
       "      <td>...</td>\n",
       "      <td>...</td>\n",
       "      <td>...</td>\n",
       "      <td>...</td>\n",
       "      <td>...</td>\n",
       "      <td>...</td>\n",
       "      <td>...</td>\n",
       "      <td>...</td>\n",
       "      <td>...</td>\n",
       "      <td>...</td>\n",
       "      <td>...</td>\n",
       "    </tr>\n",
       "    <tr>\n",
       "      <th>265</th>\n",
       "      <td>False</td>\n",
       "      <td>False</td>\n",
       "      <td>False</td>\n",
       "      <td>False</td>\n",
       "      <td>False</td>\n",
       "      <td>False</td>\n",
       "      <td>False</td>\n",
       "      <td>False</td>\n",
       "      <td>False</td>\n",
       "      <td>False</td>\n",
       "      <td>True</td>\n",
       "      <td>True</td>\n",
       "      <td>False</td>\n",
       "      <td>False</td>\n",
       "      <td>False</td>\n",
       "      <td>False</td>\n",
       "      <td>True</td>\n",
       "      <td>True</td>\n",
       "      <td>False</td>\n",
       "    </tr>\n",
       "    <tr>\n",
       "      <th>266</th>\n",
       "      <td>False</td>\n",
       "      <td>False</td>\n",
       "      <td>False</td>\n",
       "      <td>False</td>\n",
       "      <td>False</td>\n",
       "      <td>False</td>\n",
       "      <td>False</td>\n",
       "      <td>False</td>\n",
       "      <td>False</td>\n",
       "      <td>False</td>\n",
       "      <td>True</td>\n",
       "      <td>False</td>\n",
       "      <td>False</td>\n",
       "      <td>False</td>\n",
       "      <td>False</td>\n",
       "      <td>False</td>\n",
       "      <td>False</td>\n",
       "      <td>True</td>\n",
       "      <td>False</td>\n",
       "    </tr>\n",
       "    <tr>\n",
       "      <th>267</th>\n",
       "      <td>False</td>\n",
       "      <td>False</td>\n",
       "      <td>False</td>\n",
       "      <td>False</td>\n",
       "      <td>False</td>\n",
       "      <td>False</td>\n",
       "      <td>False</td>\n",
       "      <td>False</td>\n",
       "      <td>False</td>\n",
       "      <td>False</td>\n",
       "      <td>True</td>\n",
       "      <td>False</td>\n",
       "      <td>False</td>\n",
       "      <td>False</td>\n",
       "      <td>False</td>\n",
       "      <td>False</td>\n",
       "      <td>True</td>\n",
       "      <td>True</td>\n",
       "      <td>False</td>\n",
       "    </tr>\n",
       "    <tr>\n",
       "      <th>268</th>\n",
       "      <td>False</td>\n",
       "      <td>False</td>\n",
       "      <td>False</td>\n",
       "      <td>False</td>\n",
       "      <td>False</td>\n",
       "      <td>False</td>\n",
       "      <td>False</td>\n",
       "      <td>True</td>\n",
       "      <td>True</td>\n",
       "      <td>False</td>\n",
       "      <td>True</td>\n",
       "      <td>True</td>\n",
       "      <td>False</td>\n",
       "      <td>False</td>\n",
       "      <td>False</td>\n",
       "      <td>False</td>\n",
       "      <td>True</td>\n",
       "      <td>True</td>\n",
       "      <td>False</td>\n",
       "    </tr>\n",
       "    <tr>\n",
       "      <th>269</th>\n",
       "      <td>False</td>\n",
       "      <td>False</td>\n",
       "      <td>False</td>\n",
       "      <td>False</td>\n",
       "      <td>False</td>\n",
       "      <td>False</td>\n",
       "      <td>False</td>\n",
       "      <td>False</td>\n",
       "      <td>False</td>\n",
       "      <td>True</td>\n",
       "      <td>True</td>\n",
       "      <td>False</td>\n",
       "      <td>False</td>\n",
       "      <td>False</td>\n",
       "      <td>False</td>\n",
       "      <td>False</td>\n",
       "      <td>True</td>\n",
       "      <td>True</td>\n",
       "      <td>False</td>\n",
       "    </tr>\n",
       "  </tbody>\n",
       "</table>\n",
       "<p>270 rows × 19 columns</p>\n",
       "</div>"
      ],
      "text/plain": [
       "        id  case_in_country  reporting date  location  country  gender    age  \\\n",
       "0    False             True           False     False    False   False  False   \n",
       "1    False             True           False     False    False   False  False   \n",
       "2    False             True           False     False    False   False  False   \n",
       "3    False            False           False     False    False   False  False   \n",
       "4    False            False           False     False    False   False  False   \n",
       "..     ...              ...             ...       ...      ...     ...    ...   \n",
       "265  False            False           False     False    False   False  False   \n",
       "266  False            False           False     False    False   False  False   \n",
       "267  False            False           False     False    False   False  False   \n",
       "268  False            False           False     False    False   False  False   \n",
       "269  False            False           False     False    False   False  False   \n",
       "\n",
       "     symptom_onset  If_onset_approximated  hosp_visit_date  exposure_start  \\\n",
       "0            False                  False            False            True   \n",
       "1             True                   True            False            True   \n",
       "2             True                   True            False            True   \n",
       "3            False                  False            False            True   \n",
       "4            False                  False            False            True   \n",
       "..             ...                    ...              ...             ...   \n",
       "265          False                  False            False            True   \n",
       "266          False                  False            False            True   \n",
       "267          False                  False            False            True   \n",
       "268           True                   True            False            True   \n",
       "269          False                  False             True            True   \n",
       "\n",
       "     exposure_end  incubationdays  hospitaldays  visiting Wuhan  from Wuhan  \\\n",
       "0            True           False         False           False       False   \n",
       "1            True           False         False           False       False   \n",
       "2            True           False         False           False       False   \n",
       "3           False           False         False           False       False   \n",
       "4           False           False         False           False       False   \n",
       "..            ...             ...           ...             ...         ...   \n",
       "265          True           False         False           False       False   \n",
       "266         False           False         False           False       False   \n",
       "267         False           False         False           False       False   \n",
       "268          True           False         False           False       False   \n",
       "269         False           False         False           False       False   \n",
       "\n",
       "     death  recovered  symptom  \n",
       "0     True       True    False  \n",
       "1     True       True    False  \n",
       "2     True       True    False  \n",
       "3     True      False    False  \n",
       "4     True       True    False  \n",
       "..     ...        ...      ...  \n",
       "265   True       True    False  \n",
       "266  False       True    False  \n",
       "267   True       True    False  \n",
       "268   True       True    False  \n",
       "269   True       True    False  \n",
       "\n",
       "[270 rows x 19 columns]"
      ]
     },
     "execution_count": 5,
     "metadata": {},
     "output_type": "execute_result"
    }
   ],
   "source": [
    "#DATA CLEANING AND ANALYSIS.\n",
    "covid19.isnull()"
   ]
  },
  {
   "cell_type": "code",
   "execution_count": 6,
   "id": "ae80751e-b453-4b57-94e3-88bf6db71357",
   "metadata": {},
   "outputs": [
    {
     "data": {
      "text/plain": [
       "id                         0\n",
       "case_in_country            3\n",
       "reporting date             0\n",
       "location                   0\n",
       "country                    0\n",
       "gender                     1\n",
       "age                        5\n",
       "symptom_onset             18\n",
       "If_onset_approximated     18\n",
       "hosp_visit_date           56\n",
       "exposure_start           238\n",
       "exposure_end             191\n",
       "incubationdays             0\n",
       "hospitaldays               0\n",
       "visiting Wuhan             0\n",
       "from Wuhan                 0\n",
       "death                    264\n",
       "recovered                234\n",
       "symptom                    0\n",
       "dtype: int64"
      ]
     },
     "execution_count": 6,
     "metadata": {},
     "output_type": "execute_result"
    }
   ],
   "source": [
    "covid19.isnull().sum()"
   ]
  },
  {
   "cell_type": "code",
   "execution_count": 9,
   "id": "1fb43ab6-ca96-4ed3-8798-8ac50ce2173e",
   "metadata": {},
   "outputs": [
    {
     "data": {
      "text/plain": [
       "id                        0.00\n",
       "case_in_country           1.11\n",
       "reporting date            0.00\n",
       "location                  0.00\n",
       "country                   0.00\n",
       "gender                    0.37\n",
       "age                       1.85\n",
       "symptom_onset             6.67\n",
       "If_onset_approximated     6.67\n",
       "hosp_visit_date          20.74\n",
       "exposure_start           88.15\n",
       "exposure_end             70.74\n",
       "incubationdays            0.00\n",
       "hospitaldays              0.00\n",
       "visiting Wuhan            0.00\n",
       "from Wuhan                0.00\n",
       "death                    97.78\n",
       "recovered                86.67\n",
       "symptom                   0.00\n",
       "dtype: float64"
      ]
     },
     "execution_count": 9,
     "metadata": {},
     "output_type": "execute_result"
    }
   ],
   "source": [
    "round(100*(covid19.isnull().sum()/len(covid19.index)),2)###calculating percentage of different columns having no value."
   ]
  },
  {
   "cell_type": "code",
   "execution_count": 10,
   "id": "8550fd4b-7311-4076-98f4-3e69837a9e35",
   "metadata": {},
   "outputs": [
    {
     "data": {
      "text/plain": [
       "count    265.000000\n",
       "mean      53.301887\n",
       "std       17.563936\n",
       "min        4.000000\n",
       "25%       43.000000\n",
       "50%       55.000000\n",
       "75%       65.000000\n",
       "max       89.000000\n",
       "Name: age, dtype: float64"
      ]
     },
     "execution_count": 10,
     "metadata": {},
     "output_type": "execute_result"
    }
   ],
   "source": [
    "covid19['age'].describe()"
   ]
  },
  {
   "cell_type": "code",
   "execution_count": 15,
   "id": "eed5e543-f7f2-4904-8181-d2fcc592c518",
   "metadata": {},
   "outputs": [],
   "source": [
    "###in age column replacing null values by mean value.\n",
    "###doing this as mean is very near to median(50% or 2nd percentile).\n",
    "covid19.loc[np.isnan(covid19['age']),['age']]=covid19['age'].mean()"
   ]
  },
  {
   "cell_type": "code",
   "execution_count": 18,
   "id": "35c4c156-a59d-494d-ab69-569e18718ab8",
   "metadata": {},
   "outputs": [
    {
     "data": {
      "image/png": "[encoded data removed]",
      "text/plain": [
       "<Figure size 432x288 with 1 Axes>"
      ]
     },
     "metadata": {
      "needs_background": "light"
     },
     "output_type": "display_data"
    }
   ],
   "source": [
    "import seaborn as sns\n",
    "import matplotlib.pyplot as plt\n",
    "sns.boxplot(y=covid19['age'])\n",
    "plt.title('age boxplot')\n",
    "plt.show()##maximum population is in rnage of 50 to 60."
   ]
  },
  {
   "cell_type": "code",
   "execution_count": 20,
   "id": "ab1ed0c7-1eaf-4656-bd99-1aa03d6115ef",
   "metadata": {},
   "outputs": [
    {
     "name": "stderr",
     "output_type": "stream",
     "text": [
      "C:\\Users\\Dell\\anaconda3\\lib\\site-packages\\seaborn\\distributions.py:2619: FutureWarning: `distplot` is a deprecated function and will be removed in a future version. Please adapt your code to use either `displot` (a figure-level function with similar flexibility) or `histplot` (an axes-level function for histograms).\n",
      "  warnings.warn(msg, FutureWarning)\n"
     ]
    },
    {
     "data": {
      "image/png": "[encoded data removed]",
      "text/plain": [
       "<Figure size 432x288 with 1 Axes>"
      ]
     },
     "metadata": {
      "needs_background": "light"
     },
     "output_type": "display_data"
    }
   ],
   "source": [
    "import seaborn as sns\n",
    "import matplotlib.pyplot as plt\n",
    "sns.distplot(covid19['age'])\n",
    "plt.title('age density plot')\n",
    "plt.show()"
   ]
  },
  {
   "cell_type": "code",
   "execution_count": 22,
   "id": "c36c6e9e-854e-4647-8721-16ccf84fb8be",
   "metadata": {},
   "outputs": [
    {
     "data": {
      "image/png": "[encoded data removed]",
      "text/plain": [
       "<Figure size 432x288 with 1 Axes>"
      ]
     },
     "metadata": {
      "needs_background": "light"
     },
     "output_type": "display_data"
    }
   ],
   "source": [
    "sns.countplot(x='gender',data=covid19)\n",
    "plt.title('gender')\n",
    "plt.show()###male more likely to be corona positive than female."
   ]
  },
  {
   "cell_type": "code",
   "execution_count": 23,
   "id": "8ac5da12-35ba-43d9-9f28-296e6f7db055",
   "metadata": {},
   "outputs": [
    {
     "name": "stdout",
     "output_type": "stream",
     "text": [
      "<class 'pandas.core.frame.DataFrame'>\n",
      "RangeIndex: 270 entries, 0 to 269\n",
      "Data columns (total 19 columns):\n",
      " #   Column                 Non-Null Count  Dtype  \n",
      "---  ------                 --------------  -----  \n",
      " 0   id                     270 non-null    int64  \n",
      " 1   case_in_country        267 non-null    float64\n",
      " 2   reporting date         270 non-null    object \n",
      " 3   location               270 non-null    object \n",
      " 4   country                270 non-null    object \n",
      " 5   gender                 269 non-null    object \n",
      " 6   age                    270 non-null    float64\n",
      " 7   symptom_onset          252 non-null    object \n",
      " 8   If_onset_approximated  252 non-null    float64\n",
      " 9   hosp_visit_date        214 non-null    object \n",
      " 10  exposure_start         32 non-null     object \n",
      " 11  exposure_end           79 non-null     object \n",
      " 12  incubationdays         270 non-null    object \n",
      " 13  hospitaldays           270 non-null    object \n",
      " 14  visiting Wuhan         270 non-null    int64  \n",
      " 15  from Wuhan             270 non-null    int64  \n",
      " 16  death                  6 non-null      object \n",
      " 17  recovered              36 non-null     object \n",
      " 18  symptom                270 non-null    object \n",
      "dtypes: float64(3), int64(3), object(13)\n",
      "memory usage: 40.2+ KB\n"
     ]
    }
   ],
   "source": [
    "###incubationdays\n",
    "covid19.info()"
   ]
  },
  {
   "cell_type": "code",
   "execution_count": 27,
   "id": "bf6b608c-cc47-46f7-936f-50b29b06e91d",
   "metadata": {},
   "outputs": [],
   "source": [
    "covid19['incubationdays']=pd.to_numeric(covid19['incubationdays'],errors='coerce')\n",
    "###above line converts object incubationdays to numeric.\n",
    "####errors convert all non-numeric values to null."
   ]
  },
  {
   "cell_type": "code",
   "execution_count": 26,
   "id": "5f344ef8-7ce8-4445-aa2e-456ff63264bd",
   "metadata": {},
   "outputs": [
    {
     "data": {
      "text/plain": [
       "count    31.000000\n",
       "mean     10.064516\n",
       "std       8.053718\n",
       "min      -1.000000\n",
       "25%       5.500000\n",
       "50%       8.000000\n",
       "75%      11.000000\n",
       "max      34.000000\n",
       "Name: incubationdays, dtype: float64"
      ]
     },
     "execution_count": 26,
     "metadata": {},
     "output_type": "execute_result"
    }
   ],
   "source": [
    "covid19['incubationdays'].describe()"
   ]
  },
  {
   "cell_type": "code",
   "execution_count": 31,
   "id": "cd2c6a29-cd05-4fad-afe8-85ea0ce9e696",
   "metadata": {},
   "outputs": [
    {
     "data": {
      "image/png": "[encoded data removed]",
      "text/plain": [
       "<Figure size 432x288 with 1 Axes>"
      ]
     },
     "metadata": {
      "needs_background": "light"
     },
     "output_type": "display_data"
    }
   ],
   "source": [
    "sns.boxplot(y=covid19['incubationdays'])\n",
    "plt.title('Incubation Days')\n",
    "plt.show()###most cases show incubation within 10 days so govt. has them as 14 days.\n",
    "###some cases show incubation or symptoms after 20 days or more as seen from outliers."
   ]
  },
  {
   "cell_type": "code",
   "execution_count": 32,
   "id": "cdb8819b-8dc2-4e98-917c-1ae5fc0b2d91",
   "metadata": {},
   "outputs": [
    {
     "name": "stdout",
     "output_type": "stream",
     "text": [
      "<class 'pandas.core.frame.DataFrame'>\n",
      "RangeIndex: 270 entries, 0 to 269\n",
      "Data columns (total 19 columns):\n",
      " #   Column                 Non-Null Count  Dtype  \n",
      "---  ------                 --------------  -----  \n",
      " 0   id                     270 non-null    int64  \n",
      " 1   case_in_country        267 non-null    float64\n",
      " 2   reporting date         270 non-null    object \n",
      " 3   location               270 non-null    object \n",
      " 4   country                270 non-null    object \n",
      " 5   gender                 269 non-null    object \n",
      " 6   age                    270 non-null    float64\n",
      " 7   symptom_onset          252 non-null    object \n",
      " 8   If_onset_approximated  252 non-null    float64\n",
      " 9   hosp_visit_date        214 non-null    object \n",
      " 10  exposure_start         32 non-null     object \n",
      " 11  exposure_end           79 non-null     object \n",
      " 12  incubationdays         31 non-null     float64\n",
      " 13  hospitaldays           270 non-null    object \n",
      " 14  visiting Wuhan         270 non-null    int64  \n",
      " 15  from Wuhan             270 non-null    int64  \n",
      " 16  death                  6 non-null      object \n",
      " 17  recovered              36 non-null     object \n",
      " 18  symptom                270 non-null    object \n",
      "dtypes: float64(4), int64(3), object(12)\n",
      "memory usage: 40.2+ KB\n"
     ]
    }
   ],
   "source": [
    "covid19.info()"
   ]
  },
  {
   "cell_type": "code",
   "execution_count": 34,
   "id": "a48a7eb3-bf0f-4545-bd90-f69c3236bf80",
   "metadata": {},
   "outputs": [],
   "source": [
    "covid19['hospitaldays']=pd.to_numeric(covid19['hospitaldays'],errors='coerce')###to convert hospital days object to numeric."
   ]
  },
  {
   "cell_type": "code",
   "execution_count": 38,
   "id": "c171c996-f5b7-4f7a-b20f-ba9fd81cfcfc",
   "metadata": {},
   "outputs": [
    {
     "data": {
      "image/png": "[encoded data removed]",
      "text/plain": [
       "<Figure size 432x288 with 1 Axes>"
      ]
     },
     "metadata": {
      "needs_background": "light"
     },
     "output_type": "display_data"
    }
   ],
   "source": [
    "sns.boxplot(y=covid19['hospitaldays'])\n",
    "plt.title('Hospital Days')\n",
    "plt.show()##outliers may represent serious cases as hospital days is very much greater than mean."
   ]
  },
  {
   "cell_type": "code",
   "execution_count": 37,
   "id": "6f068efc-8c43-4a99-a7bf-bf3f05e65e93",
   "metadata": {},
   "outputs": [
    {
     "data": {
      "text/plain": [
       "count    200.00000\n",
       "mean       2.17500\n",
       "std        2.82565\n",
       "min       -5.00000\n",
       "25%        0.00000\n",
       "50%        1.00000\n",
       "75%        3.00000\n",
       "max       13.00000\n",
       "Name: hospitaldays, dtype: float64"
      ]
     },
     "execution_count": 37,
     "metadata": {},
     "output_type": "execute_result"
    }
   ],
   "source": [
    "covid19['hospitaldays'].describe()"
   ]
  },
  {
   "cell_type": "code",
   "execution_count": 39,
   "id": "3cb31309-f3cd-4c9f-a1f9-9243da97217f",
   "metadata": {},
   "outputs": [
    {
     "data": {
      "text/plain": [
       "fever                                      73\n",
       "fever, cough                               36\n",
       "cough                                      14\n",
       "fever, malaise                              7\n",
       "fever, sore throat                          6\n",
       "                                           ..\n",
       "fever, abdominal pain, diarrhea             1\n",
       "feve\\                                       1\n",
       "fatigue, muscle pain, joint pain, fever     1\n",
       "fatigue, malaise, headache                  1\n",
       "vomiting, diarrhea, fever, cough            1\n",
       "Name: symptom, Length: 108, dtype: int64"
      ]
     },
     "execution_count": 39,
     "metadata": {},
     "output_type": "execute_result"
    }
   ],
   "source": [
    "####symptom\n",
    "covid19['symptom'].astype('category').value_counts()"
   ]
  },
  {
   "cell_type": "code",
   "execution_count": 42,
   "id": "b17b2b5f-ad01-41d3-9351-f1f7ab9313ad",
   "metadata": {},
   "outputs": [],
   "source": [
    "covid19_symptoms=covid19.loc[(covid19['symptom']=='fever') | (covid19['symptom']=='fever, cough') | (covid19['symptom']=='fever, cough, malaise')\n",
    "                              | (covid19['symptom']=='fever, malaise') | (covid19['symptom']=='cough'), :]"
   ]
  },
  {
   "cell_type": "code",
   "execution_count": 43,
   "id": "b53dab8e-f57e-4043-bb80-508fda1f0a47",
   "metadata": {},
   "outputs": [
    {
     "data": {
      "image/png": "[encoded data removed]",
      "text/plain": [
       "<Figure size 432x288 with 1 Axes>"
      ]
     },
     "metadata": {
      "needs_background": "light"
     },
     "output_type": "display_data"
    }
   ],
   "source": [
    "sns.countplot(x='symptom',data=covid19_symptoms)\n",
    "plt.title(\"Symptoms\")\n",
    "plt.show()"
   ]
  },
  {
   "cell_type": "code",
   "execution_count": 46,
   "id": "954886ef-a1be-4ae1-adb6-c87b2bf6f180",
   "metadata": {},
   "outputs": [],
   "source": [
    "###conclusion:------->\n",
    "#age between 50 to 60 yrs is more affected.\n",
    "#incubation period is around 10 days but there are some outliers with more than 20 days.\n",
    "#Male patients more than Female.\n",
    "#Most common symptoms are fever followed by fever,cough then cough then fever,malaise then cough,malaise."
   ]
  }
 ],
 "metadata": {
  "kernelspec": {
   "display_name": "Python 3 (ipykernel)",
   "language": "python",
   "name": "python3"
  },
  "language_info": {
   "codemirror_mode": {
    "name": "ipython",
    "version": 3
   },
   "file_extension": ".py",
   "mimetype": "text/x-python",
   "name": "python",
   "nbconvert_exporter": "python",
   "pygments_lexer": "ipython3",
   "version": "3.9.7"
  }
 },
 "nbformat": 4,
 "nbformat_minor": 5
}
