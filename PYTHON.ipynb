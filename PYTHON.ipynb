{
 "cells": [
  {
   "cell_type": "code",
   "execution_count": 1,
   "id": "36b04bf9-a08c-4014-91ee-6cd8e02a091d",
   "metadata": {},
   "outputs": [
    {
     "name": "stdout",
     "output_type": "stream",
     "text": [
      "hello python\n"
     ]
    }
   ],
   "source": [
    "print('hello python')## ctrl+enter"
   ]
  },
  {
   "cell_type": "code",
   "execution_count": 7,
   "id": "e89a16a3-a01c-420e-802f-6cdf06d60291",
   "metadata": {},
   "outputs": [
    {
     "name": "stdout",
     "output_type": "stream",
     "text": [
      "1st line\n",
      "2nd line\n",
      "3rd line\n"
     ]
    }
   ],
   "source": [
    "print('1st line\\n2nd line\\n3rd line')"
   ]
  },
  {
   "cell_type": "code",
   "execution_count": 9,
   "id": "00bc6ef0-f5af-4089-95b1-e72bde64a7b2",
   "metadata": {},
   "outputs": [],
   "source": [
    "a=3\n",
    "b=3"
   ]
  },
  {
   "cell_type": "code",
   "execution_count": 10,
   "id": "70017476-38ac-4499-8013-da995208db59",
   "metadata": {},
   "outputs": [
    {
     "name": "stdout",
     "output_type": "stream",
     "text": [
      "6\n",
      "0\n",
      "9\n",
      "1.0\n"
     ]
    }
   ],
   "source": [
    "print(a+b)\n",
    "print(a-b)\n",
    "print(a*b)\n",
    "print(a/b)"
   ]
  },
  {
   "cell_type": "code",
   "execution_count": 11,
   "id": "d653f3f6-fe72-49ad-abba-be7cdaac6c94",
   "metadata": {},
   "outputs": [
    {
     "name": "stdout",
     "output_type": "stream",
     "text": [
      "4\n",
      "1\n"
     ]
    }
   ],
   "source": [
    "a+=1\n",
    "b-=2\n",
    "print(a)\n",
    "print(b)"
   ]
  },
  {
   "cell_type": "markdown",
   "id": "53b00c19-5e21-497d-895c-1dec88aac5d5",
   "metadata": {
    "tags": []
   },
   "source": [
    "#### logical operator"
   ]
  },
  {
   "cell_type": "code",
   "execution_count": 14,
   "id": "0e1bfab5-c0b8-4b5f-8bdb-142bbffa2deb",
   "metadata": {},
   "outputs": [
    {
     "name": "stdout",
     "output_type": "stream",
     "text": [
      "True\n",
      "True\n",
      "False\n",
      "True\n",
      "False\n",
      "True\n"
     ]
    }
   ],
   "source": [
    "print(3<4)\n",
    "print(3==3)\n",
    "print(3>4)\n",
    "print(True and True)\n",
    "print(True and False)\n",
    "print(True or False)"
   ]
  },
  {
   "cell_type": "markdown",
   "id": "a370f11d-fa1a-4212-9f90-f87d32ec99ff",
   "metadata": {},
   "source": [
    "#### string operations"
   ]
  },
  {
   "cell_type": "code",
   "execution_count": 17,
   "id": "380b5992-dda9-4ccc-9aaf-baf475d23b42",
   "metadata": {},
   "outputs": [
    {
     "name": "stdout",
     "output_type": "stream",
     "text": [
      "I AM PYTHON\n",
      "i am python\n"
     ]
    }
   ],
   "source": [
    "str1='i am python'\n",
    "print(str1.upper())\n",
    "str2=str1.upper()\n",
    "print(str2.lower())"
   ]
  },
  {
   "cell_type": "code",
   "execution_count": 33,
   "id": "aac9de7d-6991-49dc-848f-b58876207ab0",
   "metadata": {},
   "outputs": [],
   "source": [
    "some_str=' I am python'\n",
    "another_str='   I am python  '"
   ]
  },
  {
   "cell_type": "code",
   "execution_count": 36,
   "id": "64d7776e-3098-435a-9a08-7bc4fdefaf2a",
   "metadata": {},
   "outputs": [
    {
     "name": "stdout",
     "output_type": "stream",
     "text": [
      " I am python\n",
      "I am python\n",
      "   I am python\n"
     ]
    }
   ],
   "source": [
    "print(some_str)\n",
    "print(some_str.lstrip())\n",
    "print(another_str.rstrip())"
   ]
  },
  {
   "cell_type": "code",
   "execution_count": 38,
   "id": "0853368c-d715-4c0d-99d7-89745234465a",
   "metadata": {},
   "outputs": [
    {
     "name": "stdout",
     "output_type": "stream",
     "text": [
      "i am python\n",
      "i am pytho\n"
     ]
    }
   ],
   "source": [
    "special_str='i am python%'\n",
    "print(special_str.rstrip('%'))\n",
    "print(special_str.rstrip('n%'))"
   ]
  },
  {
   "cell_type": "raw",
   "id": "1efe1a48-90dd-4aae-ac9b-b1b9835d1b7e",
   "metadata": {},
   "source": [
    "some_str=' I am python  '\n",
    "print(some_str.strip())\n",
    "print(some_str)"
   ]
  },
  {
   "cell_type": "code",
   "execution_count": 40,
   "id": "b78ca95c-6a4b-462a-a069-d9ea71b5a91a",
   "metadata": {},
   "outputs": [
    {
     "name": "stdout",
     "output_type": "stream",
     "text": [
      "I am python\n",
      "        I am python  \n"
     ]
    }
   ],
   "source": [
    "some_str='        I am python  '\n",
    "print(some_str.strip())\n",
    "print(some_str)"
   ]
  },
  {
   "cell_type": "code",
   "execution_count": 42,
   "id": "67970445-6741-480b-996d-3e59e7f3d564",
   "metadata": {},
   "outputs": [
    {
     "name": "stdout",
     "output_type": "stream",
     "text": [
      "456\n"
     ]
    }
   ],
   "source": [
    "num_str='*456#'\n",
    "print(num_str.rstrip('#').lstrip('*'))"
   ]
  },
  {
   "cell_type": "code",
   "execution_count": 43,
   "id": "7999133e-40e5-40b1-a0c2-3772d8233d91",
   "metadata": {},
   "outputs": [],
   "source": [
    "## apple a p p l e\n",
    "## index 0 1 2 3 4"
   ]
  },
  {
   "cell_type": "code",
   "execution_count": 45,
   "id": "d1857cb9-04d2-47d5-b527-f9c989d06d2c",
   "metadata": {},
   "outputs": [
    {
     "name": "stdout",
     "output_type": "stream",
     "text": [
      "e\n"
     ]
    }
   ],
   "source": [
    "val='apple'\n",
    "print(val[4])"
   ]
  },
  {
   "cell_type": "code",
   "execution_count": 46,
   "id": "a7dcdca0-720e-4a91-a8b6-819b2a479a5d",
   "metadata": {},
   "outputs": [
    {
     "name": "stdout",
     "output_type": "stream",
     "text": [
      "pple\n"
     ]
    }
   ],
   "source": [
    "print(val[1:])"
   ]
  },
  {
   "cell_type": "code",
   "execution_count": 47,
   "id": "e829f8af-b958-4735-b9d5-1d8ef757a8ad",
   "metadata": {},
   "outputs": [
    {
     "name": "stdout",
     "output_type": "stream",
     "text": [
      "pp\n"
     ]
    }
   ],
   "source": [
    "print(val[1:3])"
   ]
  },
  {
   "cell_type": "code",
   "execution_count": 48,
   "id": "35aa5aa7-b254-48ea-a48b-74718d8861bf",
   "metadata": {},
   "outputs": [
    {
     "name": "stdout",
     "output_type": "stream",
     "text": [
      "app\n"
     ]
    }
   ],
   "source": [
    "print(val[:3])"
   ]
  },
  {
   "cell_type": "code",
   "execution_count": 50,
   "id": "895c9d24-6d03-4c30-b948-4c01e2b1bd22",
   "metadata": {},
   "outputs": [
    {
     "name": "stdout",
     "output_type": "stream",
     "text": [
      "STEVESAM\n",
      "STEVE SAM\n"
     ]
    }
   ],
   "source": [
    "first_name='STEVE'\n",
    "second_name='SAM'\n",
    "name=first_name+second_name\n",
    "print(name)\n",
    "name1=first_name+\" \"+second_name\n",
    "print(name1)"
   ]
  },
  {
   "cell_type": "code",
   "execution_count": 55,
   "id": "6326d30e-43ae-4ccd-81a8-58110fcfd435",
   "metadata": {},
   "outputs": [
    {
     "name": "stdout",
     "output_type": "stream",
     "text": [
      "age of STEVE SAM is 30\n"
     ]
    }
   ],
   "source": [
    "age=30\n",
    "print('age of '+name1+' is '+str(age))##str(age) to convert numeric age to string."
   ]
  },
  {
   "cell_type": "code",
   "execution_count": 67,
   "id": "0c1f7767-f053-4745-b79b-7e52bda775e5",
   "metadata": {},
   "outputs": [
    {
     "name": "stdout",
     "output_type": "stream",
     "text": [
      "python\n",
      "python12\n",
      "python123\n"
     ]
    }
   ],
   "source": [
    "value='python123'\n",
    "print(value[0:-3])##prints all characters from 0 to -3 excluding -3,-2,-1th character.\n",
    "print(value[0:-1])##prints all characters from 0 to -1 excluding -1th character.\n",
    "print(value[0:])"
   ]
  },
  {
   "cell_type": "code",
   "execution_count": 70,
   "id": "acca7219-7c33-41db-a881-d34e2d6a8f89",
   "metadata": {},
   "outputs": [
    {
     "name": "stdout",
     "output_type": "stream",
     "text": [
      "cats\n",
      "5 cats\n"
     ]
    }
   ],
   "source": [
    "animals='5 cats'\n",
    "print(animals[-4:6])## prints characters from -4 th position to 6th position excluding 6th position.\n",
    "print(animals[-6:6])## prints characters from -6 th position to 6th position excluding 6th position."
   ]
  },
  {
   "cell_type": "code",
   "execution_count": 71,
   "id": "ccaebb9f-785c-49dc-8dff-b5b0ad3e644e",
   "metadata": {},
   "outputs": [
    {
     "name": "stdout",
     "output_type": "stream",
     "text": [
      "[]\n"
     ]
    }
   ],
   "source": [
    "initial_list=[]\n",
    "print(initial_list)"
   ]
  },
  {
   "cell_type": "code",
   "execution_count": 72,
   "id": "546e15e5-1694-444c-a6b1-782d1fa92780",
   "metadata": {},
   "outputs": [
    {
     "name": "stdout",
     "output_type": "stream",
     "text": [
      "['R', 'Python', 'SAS', 'Scala', 42]\n"
     ]
    }
   ],
   "source": [
    "DA_languages=['R','Python','SAS','Scala',42]\n",
    "print(DA_languages)"
   ]
  },
  {
   "cell_type": "code",
   "execution_count": 73,
   "id": "bc0013a4-8112-4438-b2b2-58ab900007b9",
   "metadata": {},
   "outputs": [
    {
     "name": "stdout",
     "output_type": "stream",
     "text": [
      "['R', 'Python']\n"
     ]
    }
   ],
   "source": [
    "print(DA_languages[:-3])"
   ]
  },
  {
   "cell_type": "code",
   "execution_count": 90,
   "id": "0213a8a3-b29c-4dd5-b2cd-e60d1dd5f20a",
   "metadata": {},
   "outputs": [
    {
     "name": "stdout",
     "output_type": "stream",
     "text": [
      "['R', 'Python', 'SAS', 'Scala', 42, 'JAVA', 'JAVA', 'JAVA', 'JAVA', 'JAVA', 'JAVA', 'JAVA', 'JAVA', 'JAVA', 'JAVA', 'JAVA', 'JAVA', 'JAVA']\n",
      "['R', 'Python', 'SAS', 'Scala', 42, 'JAVA', 'JAVA', 'JAVA', 'JAVA', 'JAVA', 'JAVA', 'JAVA', 'JAVA', 'JAVA', 'JAVA', 'JAVA', 'JAVA']\n"
     ]
    }
   ],
   "source": [
    "DA_languages.append('JAVA')##as many time we click enter after writing append command as many time the same element is in the list\n",
    "print(DA_languages)\n",
    "DA_languages.pop()# pop to remove last element\n",
    "print(DA_languages)"
   ]
  },
  {
   "cell_type": "code",
   "execution_count": null,
   "id": "d39b769a-71cf-4065-ba0a-9cfebd1891c0",
   "metadata": {},
   "outputs": [],
   "source": [
    ".append('any element')\n",
    ".remove('any element \")"
   ]
  },
  {
   "cell_type": "code",
   "execution_count": 92,
   "id": "8fc50b6e-1f70-49e6-8100-10070a5f34a6",
   "metadata": {},
   "outputs": [
    {
     "name": "stdout",
     "output_type": "stream",
     "text": [
      "['SAS', 'Scala', 42, 'JAVA', 'JAVA', 'JAVA', 'JAVA', 'JAVA', 'JAVA', 'JAVA', 'JAVA', 'JAVA', 'JAVA', 'JAVA', 'JAVA']\n"
     ]
    }
   ],
   "source": [
    "DA_languages.pop(0)# pop to remove first or zeroth element\n",
    "print(DA_languages)\n",
    "#### output this as clicked pop command twice."
   ]
  },
  {
   "cell_type": "code",
   "execution_count": 93,
   "id": "8ce45366-4df7-4640-96b5-97de0aa6a433",
   "metadata": {},
   "outputs": [
    {
     "name": "stdout",
     "output_type": "stream",
     "text": [
      "None\n"
     ]
    }
   ],
   "source": [
    "print(DA_languages.append('SQL'))##APPEND SHOULD DONE SEPARATELY BEFORE THEN PRINT DA_languages only should be done."
   ]
  },
  {
   "cell_type": "code",
   "execution_count": null,
   "id": "1132a19f-9c0c-4887-a77c-b8db7d631578",
   "metadata": {},
   "outputs": [],
   "source": [
    "any sentence.split('any element or null') # sentence split by any element\n",
    "\" any element eg & \".join('many different sentences')# sentences are joined by & . "
   ]
  },
  {
   "cell_type": "code",
   "execution_count": 97,
   "id": "18f5e611-f21d-4746-b0f1-b997cf958cef",
   "metadata": {},
   "outputs": [
    {
     "name": "stdout",
     "output_type": "stream",
     "text": [
      "hello hello hello hello hello \n",
      "hello hello \n"
     ]
    }
   ],
   "source": [
    "my_list='hello '\n",
    "print(my_list*5)\n",
    "print(my_list+my_list)"
   ]
  },
  {
   "cell_type": "code",
   "execution_count": 102,
   "id": "25292d27-64d6-44d3-ac83-0cedf3e4dce2",
   "metadata": {},
   "outputs": [
    {
     "name": "stdout",
     "output_type": "stream",
     "text": [
      "5\n",
      "[2, 3, 4, 6, 7]\n",
      "7\n",
      "2\n"
     ]
    }
   ],
   "source": [
    "nums=[2,4,3,7,6]\n",
    "print(len(nums))\n",
    "print(sorted(nums))\n",
    "print(max(nums))\n",
    "print(min(nums))"
   ]
  },
  {
   "cell_type": "code",
   "execution_count": 104,
   "id": "76afa6a3-e1a6-461b-bb85-445b47312af5",
   "metadata": {},
   "outputs": [
    {
     "name": "stdout",
     "output_type": "stream",
     "text": [
      "('python', 30, 'street', 5.999)\n",
      "python\n"
     ]
    }
   ],
   "source": [
    "first_tuple=(\"python\",30,\"street\",5.999)\n",
    "print(first_tuple)\n",
    "print(first_tuple[0])"
   ]
  },
  {
   "cell_type": "code",
   "execution_count": 105,
   "id": "04cd2657-622e-48c9-922f-1853bf2c973a",
   "metadata": {},
   "outputs": [
    {
     "name": "stdout",
     "output_type": "stream",
     "text": [
      "('python', 30, 'street')\n",
      "3\n"
     ]
    }
   ],
   "source": [
    "b=first_tuple[:-1]\n",
    "print(b)\n",
    "print(len(b))"
   ]
  },
  {
   "cell_type": "code",
   "execution_count": 106,
   "id": "95fba8be-1fe3-425b-8b40-d843d0f42888",
   "metadata": {},
   "outputs": [
    {
     "name": "stdout",
     "output_type": "stream",
     "text": [
      "c is ['python', 30, 'street']\n",
      "c is now a tuple:('python', 30, 'street')\n"
     ]
    }
   ],
   "source": [
    "c=list(b)\n",
    "print(\"c is {0}\".format(c))\n",
    "c=tuple(c)\n",
    "print(\"c is now a tuple:{0}\".format(c))"
   ]
  },
  {
   "cell_type": "code",
   "execution_count": 108,
   "id": "d258964b-881c-4caf-95c9-7e4a6e8e0ce8",
   "metadata": {},
   "outputs": [
    {
     "name": "stdout",
     "output_type": "stream",
     "text": [
      "[]\n"
     ]
    }
   ],
   "source": [
    "list1=['1','2','3','4']\n",
    "list1[ : ]=[] \n",
    "print(list1)"
   ]
  },
  {
   "cell_type": "code",
   "execution_count": 110,
   "id": "52a28444-358f-4777-8bb8-de2e725ea487",
   "metadata": {},
   "outputs": [
    {
     "ename": "TypeError",
     "evalue": "'tuple' object does not support item assignment",
     "output_type": "error",
     "traceback": [
      "\u001b[1;31m---------------------------------------------------------------------------\u001b[0m",
      "\u001b[1;31mTypeError\u001b[0m                                 Traceback (most recent call last)",
      "\u001b[1;32m~\\AppData\\Local\\Temp/ipykernel_20204/256846988.py\u001b[0m in \u001b[0;36m<module>\u001b[1;34m\u001b[0m\n\u001b[0;32m      1\u001b[0m \u001b[0mtuple1\u001b[0m\u001b[1;33m=\u001b[0m\u001b[1;33m(\u001b[0m\u001b[1;34m'1'\u001b[0m\u001b[1;33m,\u001b[0m\u001b[1;34m'2'\u001b[0m\u001b[1;33m,\u001b[0m\u001b[1;34m'3'\u001b[0m\u001b[1;33m,\u001b[0m\u001b[1;34m'4'\u001b[0m\u001b[1;33m)\u001b[0m\u001b[1;33m\u001b[0m\u001b[1;33m\u001b[0m\u001b[0m\n\u001b[1;32m----> 2\u001b[1;33m \u001b[0mtuple1\u001b[0m\u001b[1;33m[\u001b[0m\u001b[1;36m1\u001b[0m\u001b[1;33m]\u001b[0m\u001b[1;33m=\u001b[0m\u001b[1;34m'0'\u001b[0m\u001b[1;33m\u001b[0m\u001b[1;33m\u001b[0m\u001b[0m\n\u001b[0m\u001b[0;32m      3\u001b[0m \u001b[0mprint\u001b[0m\u001b[1;33m(\u001b[0m\u001b[0mtuple1\u001b[0m\u001b[1;33m[\u001b[0m\u001b[1;36m0\u001b[0m\u001b[1;33m]\u001b[0m\u001b[1;33m)\u001b[0m\u001b[1;31m#tuple elements can be changed by assigning different values.\u001b[0m\u001b[1;33m\u001b[0m\u001b[1;33m\u001b[0m\u001b[0m\n",
      "\u001b[1;31mTypeError\u001b[0m: 'tuple' object does not support item assignment"
     ]
    }
   ],
   "source": [
    "tuple1=('1','2','3','4')\n",
    "tuple1[1]='0'\n",
    "print(tuple1[0])#tuple elements can be changed by assigning different values."
   ]
  },
  {
   "cell_type": "code",
   "execution_count": 111,
   "id": "b27fb24e-15c7-4aba-91b8-e6f942fb2fca",
   "metadata": {},
   "outputs": [
    {
     "name": "stdout",
     "output_type": "stream",
     "text": [
      "<class 'dict'>\n"
     ]
    }
   ],
   "source": [
    "dict={}\n",
    "print(type(dict))"
   ]
  },
  {
   "cell_type": "code",
   "execution_count": 113,
   "id": "bd56885d-bf4b-4fa0-87c6-19c25f28626a",
   "metadata": {},
   "outputs": [
    {
     "name": "stdout",
     "output_type": "stream",
     "text": [
      "{'Name': 'John', 'Age': 27, 'Height': '5.6 ft', 'Hobby': 'golf'}\n"
     ]
    }
   ],
   "source": [
    "data={'Name':'John','Age':27,'Height':'5.6 ft','Hobby':'golf'}\n",
    "print(data)"
   ]
  },
  {
   "cell_type": "code",
   "execution_count": 124,
   "id": "0fbd548f-7f7e-4c7c-a023-9056105c00e4",
   "metadata": {},
   "outputs": [
    {
     "name": "stdout",
     "output_type": "stream",
     "text": [
      "golf\n"
     ]
    }
   ],
   "source": [
    "hobby=data['Hobby']\n",
    "print(hobby)"
   ]
  },
  {
   "cell_type": "code",
   "execution_count": 126,
   "id": "ad681480-cfbd-4058-9d54-25e336502e39",
   "metadata": {},
   "outputs": [
    {
     "name": "stdout",
     "output_type": "stream",
     "text": [
      "27\n"
     ]
    }
   ],
   "source": [
    "age=data.get('Age')\n",
    "print(age)"
   ]
  },
  {
   "cell_type": "code",
   "execution_count": 127,
   "id": "3b577b17-0354-4cf8-8904-edeae967dc95",
   "metadata": {},
   "outputs": [
    {
     "name": "stdout",
     "output_type": "stream",
     "text": [
      "New York\n"
     ]
    }
   ],
   "source": [
    "address=data.get('Address','New York')\n",
    "print(address)"
   ]
  },
  {
   "cell_type": "code",
   "execution_count": 128,
   "id": "130a30e5-f6ae-46ed-8ed8-9cffd8023cd3",
   "metadata": {},
   "outputs": [
    {
     "ename": "KeyError",
     "evalue": "'Address'",
     "output_type": "error",
     "traceback": [
      "\u001b[1;31m---------------------------------------------------------------------------\u001b[0m",
      "\u001b[1;31mKeyError\u001b[0m                                  Traceback (most recent call last)",
      "\u001b[1;32m~\\AppData\\Local\\Temp/ipykernel_20204/390659611.py\u001b[0m in \u001b[0;36m<module>\u001b[1;34m\u001b[0m\n\u001b[1;32m----> 1\u001b[1;33m \u001b[0maddress\u001b[0m\u001b[1;33m=\u001b[0m\u001b[0mdata\u001b[0m\u001b[1;33m[\u001b[0m\u001b[1;34m'Address'\u001b[0m\u001b[1;33m]\u001b[0m\u001b[1;33m\u001b[0m\u001b[1;33m\u001b[0m\u001b[0m\n\u001b[0m\u001b[0;32m      2\u001b[0m \u001b[0mprint\u001b[0m\u001b[1;33m(\u001b[0m\u001b[0maddress\u001b[0m\u001b[1;33m)\u001b[0m\u001b[1;33m\u001b[0m\u001b[1;33m\u001b[0m\u001b[0m\n",
      "\u001b[1;31mKeyError\u001b[0m: 'Address'"
     ]
    }
   ],
   "source": [
    "address=data['Address']\n",
    "print(address)"
   ]
  },
  {
   "cell_type": "code",
   "execution_count": 130,
   "id": "9e665941-1ec2-44c4-a013-ef3423bc5107",
   "metadata": {},
   "outputs": [
    {
     "name": "stdout",
     "output_type": "stream",
     "text": [
      "{'Name': 'John', 'Age': 36, 'Height': '5.6 ft', 'Hobby': 'golf'}\n"
     ]
    }
   ],
   "source": [
    "data['Age']=36\n",
    "print(data)##UPDATING VALUES"
   ]
  },
  {
   "cell_type": "code",
   "execution_count": 131,
   "id": "b5c96180-d55d-464b-9fc4-c94dc3999a4f",
   "metadata": {},
   "outputs": [
    {
     "name": "stdout",
     "output_type": "stream",
     "text": [
      "{'Name': 'John', 'Age': 36, 'Height': '5.6 ft', 'Hobby': 'golf', 'Address': 'New York'}\n"
     ]
    }
   ],
   "source": [
    "# ADDING A KEY AND VALUE .\n",
    "data['Address']='New York'\n",
    "print(data)"
   ]
  },
  {
   "cell_type": "code",
   "execution_count": 133,
   "id": "5bf7e33b-7d61-4b3e-ae62-670de3050805",
   "metadata": {},
   "outputs": [
    {
     "name": "stdout",
     "output_type": "stream",
     "text": [
      "False\n"
     ]
    }
   ],
   "source": [
    "print('Address1'in data)"
   ]
  },
  {
   "cell_type": "code",
   "execution_count": 138,
   "id": "0153ae60-5d2b-4234-b99d-c86170e627cc",
   "metadata": {},
   "outputs": [
    {
     "name": "stdout",
     "output_type": "stream",
     "text": [
      "['Name', 'Age', 'Height', 'Hobby', 'Address']\n",
      "['John', 36, '5.6 ft', 'golf', 'New York']\n"
     ]
    }
   ],
   "source": [
    "print(list(data.keys()))\n",
    "print(list(data.values()))"
   ]
  },
  {
   "cell_type": "code",
   "execution_count": 140,
   "id": "f5992da0-0d1e-4796-b0d9-7384b4ea3902",
   "metadata": {},
   "outputs": [
    {
     "name": "stdout",
     "output_type": "stream",
     "text": [
      "{'Name': 'John', 'Age': 36, 'Height': '5.6 ft', 'Hobby': 'golf', 'Address': 'New York', 'Country': 'India', 'continent': 'Asia'}\n"
     ]
    }
   ],
   "source": [
    "new_dicitionary={'Country':'India','continent':'Asia'}\n",
    "data.update(new_dicitionary)\n",
    "print(data)"
   ]
  },
  {
   "cell_type": "code",
   "execution_count": 141,
   "id": "1d2f0737-78a1-4d34-a2d2-ced1b069f4a6",
   "metadata": {},
   "outputs": [
    {
     "name": "stdout",
     "output_type": "stream",
     "text": [
      "{'Name': 'John', 'Age': 36, 'Height': '5.6 ft', 'Hobby': 'golf', 'Address': 'New York', 'continent': 'Asia'}\n"
     ]
    }
   ],
   "source": [
    "del data['Country']\n",
    "print(data)"
   ]
  },
  {
   "cell_type": "code",
   "execution_count": 142,
   "id": "7b368893-f575-4ab8-8327-614175255932",
   "metadata": {},
   "outputs": [
    {
     "name": "stdout",
     "output_type": "stream",
     "text": [
      "{'2': 'b'}\n"
     ]
    }
   ],
   "source": [
    "dict={'1':'a','2':'b'}\n",
    "del dict['1']\n",
    "print(dict)"
   ]
  },
  {
   "cell_type": "code",
   "execution_count": 143,
   "id": "67928fd0-1867-482d-af61-982bd85ab04e",
   "metadata": {},
   "outputs": [
    {
     "name": "stdout",
     "output_type": "stream",
     "text": [
      "['k', 'k', 'h', 'j', 'l']\n"
     ]
    }
   ],
   "source": [
    "employee=['k','k','h','j','l']\n",
    "print(employee)"
   ]
  },
  {
   "cell_type": "code",
   "execution_count": 147,
   "id": "6b2c0f0d-1ca6-4404-a64e-73255ca8677b",
   "metadata": {},
   "outputs": [
    {
     "name": "stdout",
     "output_type": "stream",
     "text": [
      "{'j', 'l', 'k', 'h'}\n",
      "<class 'set'>\n"
     ]
    }
   ],
   "source": [
    "emp_sets=set(employee)\n",
    "print(emp_sets)\n",
    "print(type(emp_sets))"
   ]
  },
  {
   "cell_type": "code",
   "execution_count": 149,
   "id": "11f61767-7e1c-4f29-a235-a63d3d03195d",
   "metadata": {},
   "outputs": [
    {
     "name": "stdout",
     "output_type": "stream",
     "text": [
      "{'d', 'p', 'r', 'k'}\n"
     ]
    }
   ],
   "source": [
    "emp_list_2=['k','r','p','d']\n",
    "emp_set_2=set(emp_list_2)\n",
    "print(emp_set_2)"
   ]
  },
  {
   "cell_type": "code",
   "execution_count": 153,
   "id": "e77fa17e-ef43-404a-a209-6b7bea71b503",
   "metadata": {},
   "outputs": [
    {
     "name": "stdout",
     "output_type": "stream",
     "text": [
      "{'k'}\n",
      "{'l', 'k', 'd', 'p', 'r', 'j', 'h'}\n",
      "{'l', 'j', 'h'}\n"
     ]
    }
   ],
   "source": [
    "print(emp_sets.intersection(emp_set_2))\n",
    "print(emp_sets.union(emp_set_2))\n",
    "print(emp_sets.difference(emp_set_2))"
   ]
  },
  {
   "cell_type": "code",
   "execution_count": 154,
   "id": "a0759072-0d6e-4169-b468-92ce2c84a1d0",
   "metadata": {},
   "outputs": [
    {
     "name": "stdin",
     "output_type": "stream",
     "text": [
      "Enter a number: 34\n"
     ]
    },
    {
     "name": "stdout",
     "output_type": "stream",
     "text": [
      "even\n",
      "NOT divisible by 4\n"
     ]
    }
   ],
   "source": [
    "num=int(input(\"Enter a number:\"))\n",
    "if num%2==0:\n",
    "    print(\"even\")\n",
    "    if(num%4==0):\n",
    "        print(\"divisible by 4\")\n",
    "    else:\n",
    "        print(\"NOT divisible by 4\")\n",
    "else:\n",
    "    print(\"odd\")\n",
    "    if(num%3==0):\n",
    "        print(\"divisible by 3\")\n",
    "    else:\n",
    "        print(\"NOT divisible by 3\")\n",
    "    "
   ]
  },
  {
   "cell_type": "code",
   "execution_count": 155,
   "id": "edf92d4d-cb6e-42f5-ac15-2b66402a5f62",
   "metadata": {},
   "outputs": [
    {
     "name": "stdout",
     "output_type": "stream",
     "text": [
      "B\n"
     ]
    }
   ],
   "source": [
    "if True and False:\n",
    "    print(\"A\") \n",
    "elif (1 > 0) or False:      \n",
    "    print(\"B\") \n",
    "else:      \n",
    "    print(\"C\")"
   ]
  },
  {
   "cell_type": "code",
   "execution_count": 157,
   "id": "2b48dc80-3b65-4c79-b196-b53580aaf3e1",
   "metadata": {},
   "outputs": [
    {
     "name": "stdout",
     "output_type": "stream",
     "text": [
      "0\n",
      "4\n",
      "8\n"
     ]
    }
   ],
   "source": [
    "for i in range(0,10,4):\n",
    "    print(i)"
   ]
  },
  {
   "cell_type": "code",
   "execution_count": 158,
   "id": "5a21e793-db83-44c3-9e01-ae3ecf881652",
   "metadata": {},
   "outputs": [
    {
     "name": "stdout",
     "output_type": "stream",
     "text": [
      "j\n",
      "i\n",
      "n\n",
      "g\n",
      "l\n",
      "e\n",
      " \n",
      "b\n",
      "e\n",
      "l\n",
      "l\n",
      " \n",
      "j\n",
      "i\n",
      "n\n",
      "g\n",
      "l\n",
      "e\n",
      " \n",
      "b\n",
      "e\n",
      "l\n",
      "l\n"
     ]
    }
   ],
   "source": [
    "string=\"jingle bell jingle bell\"\n",
    "for alphabet in string:\n",
    "    print(alphabet)"
   ]
  },
  {
   "cell_type": "code",
   "execution_count": 161,
   "id": "5d3e23d7-fe3b-41cd-af94-067ae4d4fc50",
   "metadata": {},
   "outputs": [
    {
     "name": "stdout",
     "output_type": "stream",
     "text": [
      "* \n",
      "* * \n",
      "* * * \n",
      "* * * * \n",
      "* * * * * \n",
      "* * * * \n",
      "* * * \n",
      "* * \n",
      "* \n"
     ]
    }
   ],
   "source": [
    "s1=''\n",
    "for i in range(0,9):\n",
    "    if i<5:\n",
    "        s1+='* '\n",
    "        print(s1)\n",
    "    elif(i>4):\n",
    "        s1=s1[:-2]\n",
    "        print(s1)"
   ]
  },
  {
   "cell_type": "code",
   "execution_count": 162,
   "id": "98ff2f71-6ce8-499a-bbb2-b1725a385904",
   "metadata": {},
   "outputs": [
    {
     "name": "stdout",
     "output_type": "stream",
     "text": [
      "0 j\n",
      "1 i\n",
      "2 n\n",
      "3 g\n",
      "4 l\n",
      "5 e\n",
      "6  \n",
      "7 b\n",
      "8 e\n",
      "9 l\n",
      "10 l\n",
      "11  \n",
      "12 j\n",
      "13 i\n",
      "14 n\n",
      "15 g\n",
      "16 l\n",
      "17 e\n",
      "18  \n",
      "19 b\n",
      "20 e\n",
      "21 l\n",
      "22 l\n"
     ]
    }
   ],
   "source": [
    "string=\"jingle bell jingle bell\"\n",
    "for n,letter in enumerate(string):\n",
    "    print(n,letter)"
   ]
  },
  {
   "cell_type": "code",
   "execution_count": 171,
   "id": "1d3ddc34-4732-4730-a6f7-e5d6a8fef194",
   "metadata": {},
   "outputs": [
    {
     "name": "stdout",
     "output_type": "stream",
     "text": [
      " i e e i e e\n"
     ]
    }
   ],
   "source": [
    "vowels=''\n",
    "for letter in string:\n",
    "    if letter in 'aeiou':\n",
    "        vowels += ' '+letter\n",
    "print(vowels)"
   ]
  },
  {
   "cell_type": "code",
   "execution_count": 175,
   "id": "9ddb310f-458d-437c-b0f4-54fb50557c53",
   "metadata": {},
   "outputs": [
    {
     "name": "stdout",
     "output_type": "stream",
     "text": [
      "evens are:2826268268026\n",
      "odds are:935977179355\n"
     ]
    }
   ],
   "source": [
    "n='2892623659872716789023556'\n",
    "even=''\n",
    "odd=''\n",
    "for i in n:\n",
    "    if int(i)%2==0:\n",
    "        even+=i\n",
    "    else:\n",
    "        odd+=i\n",
    "print(\"evens are:\"+ even +\"\\nodds are:\"+ odd)"
   ]
  },
  {
   "cell_type": "code",
   "execution_count": 176,
   "id": "3b413ca9-89e8-4c99-b169-b0db3b681f4a",
   "metadata": {},
   "outputs": [
    {
     "name": "stdout",
     "output_type": "stream",
     "text": [
      "apples\n",
      "bananas\n",
      "tomatos\n",
      "brinjal\n",
      "ladyfinger\n",
      "2\n",
      "2\n"
     ]
    }
   ],
   "source": [
    "inventories=['apples','bananas','tomatos','brinjal','ladyfinger']\n",
    "fruits=['apples','bananas']\n",
    "vegetables=['tomatos','brinjal']\n",
    "count_fruits=0\n",
    "count_vegetables=0\n",
    "for item in inventories:\n",
    "    print(item)\n",
    "    if item in fruits:\n",
    "        count_fruits+=1\n",
    "    elif item in vegetables:\n",
    "        count_vegetables+=1\n",
    "    else:\n",
    "        continue\n",
    "print(count_fruits)\n",
    "print(count_vegetables)"
   ]
  },
  {
   "cell_type": "code",
   "execution_count": 182,
   "id": "0327acc5-86f9-499d-9c4e-ff628427edfc",
   "metadata": {},
   "outputs": [
    {
     "name": "stdout",
     "output_type": "stream",
     "text": [
      "#good\n",
      "good\n",
      "#morning\n",
      "morning\n"
     ]
    }
   ],
   "source": [
    "tweet=\"#good #morning India\"\n",
    "for word in tweet.split():\n",
    "    if word.startswith('#'):\n",
    "        print(word[0:])\n",
    "        print(word[1:])"
   ]
  },
  {
   "cell_type": "code",
   "execution_count": 183,
   "id": "9d7e59f7-06ba-408b-ad2d-19745ec12fea",
   "metadata": {},
   "outputs": [
    {
     "name": "stdout",
     "output_type": "stream",
     "text": [
      "1 ['abc', 24]\n",
      "2 ['def', 34]\n"
     ]
    }
   ],
   "source": [
    "student={1:['abc',24],2:['def',34]}\n",
    "for key,val in student.items():\n",
    "    print(key,val)"
   ]
  },
  {
   "cell_type": "code",
   "execution_count": 185,
   "id": "0758e387-9d75-4986-a523-1105a025cb56",
   "metadata": {},
   "outputs": [
    {
     "name": "stdout",
     "output_type": "stream",
     "text": [
      "1\n",
      "2\n"
     ]
    }
   ],
   "source": [
    "for key in student.keys():\n",
    "    print(key)"
   ]
  },
  {
   "cell_type": "code",
   "execution_count": 186,
   "id": "ef1aa996-1fb2-457a-a482-cc12dd8eaea6",
   "metadata": {},
   "outputs": [
    {
     "name": "stdout",
     "output_type": "stream",
     "text": [
      "['abc', 24]\n",
      "['def', 34]\n"
     ]
    }
   ],
   "source": [
    "for val in student.values():\n",
    "    print(val)"
   ]
  },
  {
   "cell_type": "code",
   "execution_count": 190,
   "id": "42100e8f-40ee-4b54-b60a-27e124f8e4c7",
   "metadata": {},
   "outputs": [
    {
     "name": "stdout",
     "output_type": "stream",
     "text": [
      "1\n"
     ]
    }
   ],
   "source": [
    "count=0\n",
    "for key,val in student.items():\n",
    "    if val[1]<34:\n",
    "        count+=1\n",
    "print(count)"
   ]
  },
  {
   "cell_type": "code",
   "execution_count": 191,
   "id": "9b00035a-d0a2-41ea-8808-43468cd6193f",
   "metadata": {},
   "outputs": [
    {
     "name": "stdout",
     "output_type": "stream",
     "text": [
      "21\n",
      "22\n",
      "23\n",
      "24\n",
      "25\n",
      "26\n",
      "27\n",
      "28\n",
      "29\n",
      "30\n",
      "31\n",
      "32\n",
      "33\n",
      "34\n",
      "35\n",
      "36\n",
      "37\n",
      "38\n",
      "39\n",
      "40\n",
      "41\n",
      "42\n",
      "43\n",
      "44\n",
      "45\n",
      "46\n",
      "47\n",
      "48\n",
      "49\n",
      "50\n",
      "51\n",
      "1085\n"
     ]
    }
   ],
   "source": [
    "start=20\n",
    "total=0\n",
    "while start < 51:\n",
    "    total+=start\n",
    "    start+=1\n",
    "    print(start)\n",
    "print(total)"
   ]
  },
  {
   "cell_type": "code",
   "execution_count": 192,
   "id": "43683ec4-e6d2-46ab-b7ca-223bed335b26",
   "metadata": {},
   "outputs": [
    {
     "name": "stdout",
     "output_type": "stream",
     "text": [
      "[1, 4, 9, 16, 25, 36, 49, 64, 81]\n"
     ]
    }
   ],
   "source": [
    "list=[]\n",
    "for x in range(1,10):\n",
    "    list.append(x**2)\n",
    "print(list)"
   ]
  },
  {
   "cell_type": "code",
   "execution_count": 194,
   "id": "065233f5-5acd-4dc5-8e70-70a7fc3925c8",
   "metadata": {},
   "outputs": [
    {
     "name": "stdout",
     "output_type": "stream",
     "text": [
      "[1, 4, 9, 16, 25, 36, 49, 64, 81]\n"
     ]
    }
   ],
   "source": [
    "list1=[x**2 for x in range(1,10)]\n",
    "print(list1)\n",
    "## comprehension way of writing programs"
   ]
  },
  {
   "cell_type": "code",
   "execution_count": 196,
   "id": "1773c73c-2f1e-4d6f-b044-9d6d5704c3d3",
   "metadata": {},
   "outputs": [
    {
     "name": "stdout",
     "output_type": "stream",
     "text": [
      "['there', 'was', 'a', 'tree', 'the', 'tree', 'was', 'in', 'valley']\n"
     ]
    }
   ],
   "source": [
    "para=[\"there was a tree\",\"the tree was in valley\"]\n",
    "words=[]\n",
    "for sentence in para:\n",
    "    for word in sentence.split():\n",
    "        words.append(word)\n",
    "print(words)        "
   ]
  },
  {
   "cell_type": "code",
   "execution_count": 199,
   "id": "55c4ec1d-95c1-46c6-9b84-63f327742130",
   "metadata": {},
   "outputs": [
    {
     "name": "stdout",
     "output_type": "stream",
     "text": [
      "['there', 'was', 'a', 'tree', 'the', 'tree', 'was', 'in', 'valley']\n"
     ]
    }
   ],
   "source": [
    "words=[word for sentence in para for word in sentence.split()]\n",
    "print(words) ##comprehension way"
   ]
  },
  {
   "cell_type": "code",
   "execution_count": 204,
   "id": "1d7d363e-2048-4f35-bb3a-08e95d17c16b",
   "metadata": {},
   "outputs": [
    {
     "name": "stdout",
     "output_type": "stream",
     "text": [
      "['a', 'in']\n"
     ]
    }
   ],
   "source": [
    "vowels=['a','e','i','o','u']\n",
    "vowels_from_sentence=[]\n",
    "for sentence in para:\n",
    "    for word in sentence.split():\n",
    "        if word[0].lower() in vowels:\n",
    "            vowels_from_sentence.append(word)\n",
    "print(vowels_from_sentence)"
   ]
  },
  {
   "cell_type": "code",
   "execution_count": 206,
   "id": "25f46c0a-cd58-4065-a3a5-1f2e87cbb287",
   "metadata": {},
   "outputs": [
    {
     "name": "stdout",
     "output_type": "stream",
     "text": [
      "{0: 0, 1: 1, 2: 4, 3: 9, 4: 16, 5: 25, 6: 36, 7: 49, 8: 64, 9: 81, 10: 100, 11: 121, 12: 144, 13: 169, 14: 196, 15: 225, 16: 256, 17: 289, 18: 324, 19: 361, 20: 400, 21: 441, 22: 484, 23: 529, 24: 576, 25: 625}\n"
     ]
    }
   ],
   "source": [
    "squared_dictionary={num:num**2 for num in range(0,26)}\n",
    "print(squared_dictionary)"
   ]
  },
  {
   "cell_type": "code",
   "execution_count": 207,
   "id": "1c18e957-b7d6-4fd7-afcd-2715f7caa08a",
   "metadata": {},
   "outputs": [
    {
     "name": "stdout",
     "output_type": "stream",
     "text": [
      "hello\n"
     ]
    }
   ],
   "source": [
    "def first_func():\n",
    "    print(\"hello\")\n",
    "first_func()"
   ]
  },
  {
   "cell_type": "code",
   "execution_count": 208,
   "id": "f6b62cb3-b39f-4ed6-a76b-0442c8e74381",
   "metadata": {},
   "outputs": [
    {
     "name": "stdout",
     "output_type": "stream",
     "text": [
      "3\n"
     ]
    }
   ],
   "source": [
    "x=0\n",
    "def fun():\n",
    "    x=3\n",
    "    print(x)\n",
    "fun()"
   ]
  },
  {
   "cell_type": "code",
   "execution_count": 210,
   "id": "088e8f8a-5d08-4646-85fe-9007e1339eb6",
   "metadata": {},
   "outputs": [
    {
     "data": {
      "text/plain": [
       "144"
      ]
     },
     "execution_count": 210,
     "metadata": {},
     "output_type": "execute_result"
    }
   ],
   "source": [
    "def square(x):\n",
    "    y=x**2\n",
    "    return(y)\n",
    "square(12)"
   ]
  },
  {
   "cell_type": "code",
   "execution_count": 229,
   "id": "ca24f4b4-f785-4375-bcb2-ab2f3334c73e",
   "metadata": {},
   "outputs": [
    {
     "name": "stdout",
     "output_type": "stream",
     "text": [
      "120\n"
     ]
    }
   ],
   "source": [
    "def factorial(n):\n",
    "    if n>=1:\n",
    "        return n*factorial(n-1)\n",
    "    elif n==0:\n",
    "        return 1\n",
    "    else:\n",
    "        return \"INVALID,PLS. ENTER CORRECTLY\"\n",
    "fact=factorial(5)\n",
    "print(fact)     "
   ]
  },
  {
   "cell_type": "code",
   "execution_count": 231,
   "id": "a59529c5-f08e-4195-a35d-f30014517479",
   "metadata": {},
   "outputs": [
    {
     "name": "stdout",
     "output_type": "stream",
     "text": [
      "(4, 5, 6, 7, 9)\n",
      "31\n",
      "(2, 4, 2)\n",
      "8\n"
     ]
    }
   ],
   "source": [
    "def addition(*args):## we don't know the number of arguements passed to function hence used *args to allow any number of arguements for sum\n",
    "    print(args)\n",
    "    return(sum(args))\n",
    "print(addition(4,5,6,7,9))\n",
    "print(addition(2,4,2))"
   ]
  },
  {
   "cell_type": "code",
   "execution_count": 266,
   "id": "23bdb312-9ebe-4e7f-955f-dd8c753e31ee",
   "metadata": {},
   "outputs": [
    {
     "name": "stdout",
     "output_type": "stream",
     "text": [
      "<map object at 0x00000177D8BB7850>\n"
     ]
    },
    {
     "ename": "TypeError",
     "evalue": "'list' object is not callable",
     "output_type": "error",
     "traceback": [
      "\u001b[1;31m---------------------------------------------------------------------------\u001b[0m",
      "\u001b[1;31mTypeError\u001b[0m                                 Traceback (most recent call last)",
      "\u001b[1;32m~\\AppData\\Local\\Temp/ipykernel_20204/360766339.py\u001b[0m in \u001b[0;36m<module>\u001b[1;34m\u001b[0m\n\u001b[0;32m      1\u001b[0m \u001b[0mfirst_list\u001b[0m\u001b[1;33m=\u001b[0m\u001b[1;33m[\u001b[0m\u001b[1;36m2\u001b[0m\u001b[1;33m,\u001b[0m\u001b[1;36m3\u001b[0m\u001b[1;33m,\u001b[0m\u001b[1;36m4\u001b[0m\u001b[1;33m,\u001b[0m\u001b[1;36m5\u001b[0m\u001b[1;33m]\u001b[0m\u001b[1;33m\u001b[0m\u001b[1;33m\u001b[0m\u001b[0m\n\u001b[0;32m      2\u001b[0m \u001b[0mprint\u001b[0m\u001b[1;33m(\u001b[0m\u001b[0mmap\u001b[0m\u001b[1;33m(\u001b[0m\u001b[1;32mlambda\u001b[0m \u001b[0mx\u001b[0m\u001b[1;33m:\u001b[0m \u001b[0mx\u001b[0m\u001b[1;33m**\u001b[0m\u001b[1;36m2\u001b[0m \u001b[1;33m,\u001b[0m\u001b[0mfirst_list\u001b[0m\u001b[1;33m)\u001b[0m\u001b[1;33m)\u001b[0m\u001b[1;33m\u001b[0m\u001b[1;33m\u001b[0m\u001b[0m\n\u001b[1;32m----> 3\u001b[1;33m \u001b[0mprint\u001b[0m\u001b[1;33m(\u001b[0m\u001b[0mlist\u001b[0m\u001b[1;33m(\u001b[0m\u001b[0mmap\u001b[0m\u001b[1;33m(\u001b[0m\u001b[1;32mlambda\u001b[0m \u001b[0mx\u001b[0m\u001b[1;33m:\u001b[0m \u001b[0mx\u001b[0m\u001b[1;33m**\u001b[0m\u001b[1;36m2\u001b[0m\u001b[1;33m,\u001b[0m \u001b[0mfirst_list\u001b[0m\u001b[1;33m)\u001b[0m\u001b[1;33m)\u001b[0m\u001b[1;33m)\u001b[0m\u001b[1;31m### worked in next notebook,\\.\u001b[0m\u001b[1;33m\u001b[0m\u001b[1;33m\u001b[0m\u001b[0m\n\u001b[0m",
      "\u001b[1;31mTypeError\u001b[0m: 'list' object is not callable"
     ]
    }
   ],
   "source": [
    "first_list=[2,3,4,5]\n",
    "print(map(lambda x: x**2 ,first_list))\n",
    "print(list(map(lambda x: x**2, first_list)))### worked in next notebook."
   ]
  }
 ],
 "metadata": {
  "kernelspec": {
   "display_name": "Python 3 (ipykernel)",
   "language": "python",
   "name": "python3"
  },
  "language_info": {
   "codemirror_mode": {
    "name": "ipython",
    "version": 3
   },
   "file_extension": ".py",
   "mimetype": "text/x-python",
   "name": "python",
   "nbconvert_exporter": "python",
   "pygments_lexer": "ipython3",
   "version": "3.9.7"
  }
 },
 "nbformat": 4,
 "nbformat_minor": 5
}
