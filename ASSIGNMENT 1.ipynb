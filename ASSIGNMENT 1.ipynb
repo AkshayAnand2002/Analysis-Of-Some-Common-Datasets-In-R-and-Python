{
 "cells": [
  {
   "cell_type": "code",
   "execution_count": 38,
   "id": "051684a7-b963-44f3-b56a-49b4c064c53e",
   "metadata": {},
   "outputs": [
    {
     "name": "stdout",
     "output_type": "stream",
     "text": [
      "[0, 1, 8, 27, 64]\n"
     ]
    }
   ],
   "source": [
    "first_list=[0,1,2,3,4]\n",
    "print(list(map(lambda x: x**3, first_list)))##cube"
   ]
  },
  {
   "cell_type": "code",
   "execution_count": 37,
   "id": "dbb06e8a-0375-4e76-a0f1-c88c4dbf3cca",
   "metadata": {},
   "outputs": [
    {
     "name": "stdout",
     "output_type": "stream",
     "text": [
      "2\n"
     ]
    }
   ],
   "source": [
    "input_list = ['Kenya','Norway','India','New Zealand']\n",
    "count = sum(map(lambda word:word[0]==\"N\", input_list))\n",
    "print(count)##starting with'N'"
   ]
  },
  {
   "cell_type": "code",
   "execution_count": 36,
   "id": "53c4677d-da49-438c-add5-7acb8f292c84",
   "metadata": {},
   "outputs": [
    {
     "name": "stdout",
     "output_type": "stream",
     "text": [
      "['Britney Spears', 'Tom Cruise', 'Kill Bill']\n"
     ]
    }
   ],
   "source": [
    "first=['Britney','Tom','Kill']\n",
    "last=['Spears','Cruise','Bill']\n",
    "proper=lambda x,y : x[0]+x[1:]+' '+y[0]+y[1:]\n",
    "print(list(map(proper,first,last)))##concatenate first and last names"
   ]
  },
  {
   "cell_type": "code",
   "execution_count": 35,
   "id": "5715a62e-a39e-42fd-9b2c-e3af705b296b",
   "metadata": {},
   "outputs": [
    {
     "name": "stdout",
     "output_type": "stream",
     "text": [
      "[0, 6, 12, 36]\n"
     ]
    }
   ],
   "source": [
    "divby6=lambda x: x%6==0\n",
    "input_list=[0,6,20,12,9,36]\n",
    "div=filter(divby6,input_list)\n",
    "print(list(div))##multiples of 6 or not"
   ]
  },
  {
   "cell_type": "code",
   "execution_count": 34,
   "id": "b8b0ed2f-0cd8-4d9c-add1-299353e6c6f1",
   "metadata": {},
   "outputs": [
    {
     "name": "stdout",
     "output_type": "stream",
     "text": [
      "['akhhq']\n"
     ]
    }
   ],
   "source": [
    "input= ['akhhq','hlhjh','qjkjlkja','aiuoiu']\n",
    "done=lambda word:word.startswith('a') and word.endswith('q')\n",
    "div=filter(done,input)\n",
    "print(list(div))## starts with 'a' and ends with 'q'"
   ]
  },
  {
   "cell_type": "code",
   "execution_count": 33,
   "id": "270eba11-dc66-465e-8098-252d70bab117",
   "metadata": {},
   "outputs": [
    {
     "name": "stdout",
     "output_type": "stream",
     "text": [
      "hihowareyou\n"
     ]
    }
   ],
   "source": [
    "from functools import reduce\n",
    "q=reduce(lambda x,y:x+y,['hi','how','are','you'])\n",
    "print(q)##concatenate using reduce"
   ]
  },
  {
   "cell_type": "code",
   "execution_count": null,
   "id": "8821bee4-e343-4eb3-b9a1-0b21a9897beb",
   "metadata": {},
   "outputs": [],
   "source": [
    "Instructor Example---\n",
    "Create the list of CUBE , using map function from the following input_list. like 5 should have 125\n",
    "\n",
    "input_list=[0,1,2,3,4]\n",
    "\n",
    "1st method :\n",
    "\n",
    "input_list=[0,1,2,3,4]\n",
    "\n",
    "print(list(map(lambda x: x**3, input_list)))\n",
    "\n",
    "\n",
    "\n",
    "2nd method :\n",
    "\n",
    "def cube(n):\n",
    "\n",
    "return n**3\n",
    "\n",
    "print(list(map(cube, input_list)))\n",
    "\n",
    "Using the function Map, count the number of words that start with ‘N’ in input_list.\n",
    "\n",
    "input_list =['Kenya','Norway','India','New Zealand']\n",
    "\n",
    "input_list =['Kenya','Norway','India','New Zealand']\n",
    "\n",
    "m_filter=lambda x: x[0]=='N'\n",
    "\n",
    "output=filter(m_filter,input_list)\n",
    "\n",
    "print(len(list(output)) )\n",
    "\n",
    "Create a list ‘fullname’ consisting of the combination of the first name and the second name from first list and last list respectively.\n",
    "first =[ 'Britney','Tom','Kill']\n",
    "\n",
    "last=[ 'Spears','Cruise','Bill']\n",
    "\n",
    "first =[ 'Britney','Tom','Kill']\n",
    "\n",
    "last=[ 'Spears','Cruise','Bill']\n",
    "\n",
    "\n",
    "\n",
    "namejoin = lambda x, y: x +' '+ y\n",
    "\n",
    "print(list(map(namejoin, first,last)))\n",
    "\n",
    "Extract a list of numbers that are multiples of 6 from a list of integers named input_list.Use the filter() function.\n",
    "\n",
    "input_list=[0,6,20,12,9,36]\n",
    "\n",
    "input_list=[0,6,20,12,9,36]\n",
    "\n",
    "m_filter=lambda x: x%6==0\n",
    "\n",
    "output=filter(m_filter,input_list)\n",
    "\n",
    "print((list(output)) )\n",
    "\n",
    "Extract the values that start with a and end with q from the following list:\n",
    "\n",
    "input = ['akhhq','hlhjh','qjkjlkja','aiuoiu']\n",
    "\n",
    "input_list = ['akhhq','hlhjh','qjkjlkja','auoiu']\n",
    "\n",
    "\n",
    "\n",
    "m_filter=lambda x: x[0]=='a'\n",
    "\n",
    "output=filter(m_filter,input_list)\n",
    "\n",
    "\n",
    "\n",
    "input_list2=list(output)\n",
    "\n",
    "\n",
    "\n",
    "m_filter=lambda x: x[-1]=='q'\n",
    "\n",
    "output1=filter(m_filter,input_list2)\n",
    "\n",
    "\n",
    "\n",
    "print(list(output1))\n",
    "\n",
    "Concatenate the values in input list . make use of reduce function.\n",
    "\n",
    "input =[ 'hi','how','are','you']\n",
    "\n",
    "input_list =[ 'hi','how','are','you']\n",
    "\n",
    "\n",
    "\n",
    "from functools import reduce\n",
    "\n",
    "output = reduce(lambda x, y: x+' '+y,input_list)\n",
    "\n",
    "print(output)\n",
    "------------------------------------------------------------------------------------------------------------------------------\n",
    "\n",
    "Your submission\n",
    "AA\n",
    "Akshay Anand\n",
    "\n",
    "Create the list of CUBE , using map function from the following input_list. like 5 should have 125\n",
    "\n",
    "input_list=[0,1,2,3,4]\n",
    "\n",
    "first_list=[0,1,2,3,4]\n",
    "\n",
    "print(list(map(lambda x: x**3, first_list)))##cube\n",
    "\n",
    "Using the function Map, count the number of words that start with ‘N’ in input_list.\n",
    "\n",
    "input_list =['Kenya','Norway','India','New Zealand']\n",
    "\n",
    "input_list = ['Kenya','Norway','India','New Zealand']\n",
    "\n",
    "count = sum(map(lambda word:word[0]==\"N\", input_list))\n",
    "\n",
    "print(count)##starting with'N'\n",
    "\n",
    "Create a list ‘fullname’ consisting of the combination of the first name and the second name from first list and last list respectively.\n",
    "first =[ 'Britney','Tom','Kill']\n",
    "\n",
    "last=[ 'Spears','Cruise','Bill']\n",
    "\n",
    "first=['Britney','Tom','Kill']\n",
    "\n",
    "last=['Spears','Cruise','Bill']\n",
    "\n",
    "proper=lambda x,y : x[0]+x[1:]+' '+y[0]+y[1:]\n",
    "\n",
    "print(list(map(proper,first,last)))##concatenate first and last names\n",
    "\n",
    "Extract a list of numbers that are multiples of 6 from a list of integers named input_list.Use the filter() function.\n",
    "\n",
    "input_list=[0,6,20,12,9,36]\n",
    "\n",
    "divby6=lambda x: x%6==0\n",
    "\n",
    "input_list=[0,6,20,12,9,36]\n",
    "\n",
    "div=filter(divby6,input_list)\n",
    "\n",
    "print(list(div))##multiples of 6 or not\n",
    "\n",
    "Extract the values that start with a and end with q from the following list:\n",
    "\n",
    "input = ['akhhq','hlhjh','qjkjlkja','aiuoiu']\n",
    "\n",
    "input= ['akhhq','hlhjh','qjkjlkja','aiuoiu']\n",
    "\n",
    "done=lambda word:word.startswith('a') and word.endswith('q')\n",
    "\n",
    "div=filter(done,input)\n",
    "\n",
    "print(list(div))## starts with 'a' and ends with 'q'\n",
    "\n",
    "Concatenate the values in input list . make use of reduce function.\n",
    "\n",
    "input =[ 'hi','how','are','you']\n",
    "\n",
    "from functools import reduce\n",
    "\n",
    "q=reduce(lambda x,y:x+y,['hi','how','are','you'])\n",
    "\n",
    "print(q)##concatenate using reduce"
   ]
  },
  {
   "cell_type": "code",
   "execution_count": null,
   "id": "71b8ab15-8a5c-4de9-89e7-2f4c3aef9438",
   "metadata": {},
   "outputs": [],
   "source": []
  }
 ],
 "metadata": {
  "kernelspec": {
   "display_name": "Python 3 (ipykernel)",
   "language": "python",
   "name": "python3"
  },
  "language_info": {
   "codemirror_mode": {
    "name": "ipython",
    "version": 3
   },
   "file_extension": ".py",
   "mimetype": "text/x-python",
   "name": "python",
   "nbconvert_exporter": "python",
   "pygments_lexer": "ipython3",
   "version": "3.9.7"
  }
 },
 "nbformat": 4,
 "nbformat_minor": 5
}
